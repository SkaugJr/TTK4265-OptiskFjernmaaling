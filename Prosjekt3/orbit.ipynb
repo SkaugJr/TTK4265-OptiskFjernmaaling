{
 "cells": [
  {
   "cell_type": "markdown",
   "metadata": {},
   "source": [
    "# Bibliotek"
   ]
  },
  {
   "cell_type": "code",
   "execution_count": null,
   "metadata": {},
   "outputs": [],
   "source": [
    "import numpy as np\n",
    "import matplotlib.pyplot as plt\n",
    "from skyfield.api import EarthSatellite, load\n",
    "from datetime import datetime, timedelta\n",
    "from PIL import Image\n",
    "import plotly.graph_objects as go"
   ]
  },
  {
   "cell_type": "markdown",
   "metadata": {},
   "source": [
    "# Funksjoner og Konstanter"
   ]
  },
  {
   "cell_type": "code",
   "execution_count": null,
   "metadata": {},
   "outputs": [],
   "source": [
    "earth_radius = 6371 #km\n",
    "\n",
    "def sphere(size, texture): \n",
    "    N_lat = int(texture.shape[0])\n",
    "    N_lon = int(texture.shape[1])\n",
    "    theta = np.linspace(0,2*np.pi,N_lat)\n",
    "    phi = np.linspace(0,np.pi,N_lon)\n",
    "    \n",
    "    # Set up coordinates for points on the sphere\n",
    "    x0 = size * np.outer(np.cos(theta),np.sin(phi))\n",
    "    y0 = size * np.outer(np.sin(theta),np.sin(phi))\n",
    "    z0 = size * np.outer(np.ones(N_lat),np.cos(phi))\n",
    "    \n",
    "    return x0, y0, z0\n",
    "\n",
    "def create_satellite(tle_line1, tle_line2):\n",
    "    return EarthSatellite(tle_line1, tle_line2)\n",
    "\n",
    "def propagate_orbit(satellite, start_time, end_time, time_step):\n",
    "    ts = load.timescale()\n",
    "    times = ts.utc(start_time.year, start_time.month, start_time.day, \n",
    "                   start_time.hour, start_time.minute, start_time.second + np.arange(0, int((end_time - start_time).total_seconds()), time_step))\n",
    "    geocentric = satellite.at(times)\n",
    "    positions = geocentric.position.km\n",
    "    velocities = geocentric.velocity.km_per_s\n",
    "    return positions, velocities\n",
    "\n",
    "def plot_orbits(positions_list, velocities_list, labels):\n",
    "    fig = go.Figure()\n",
    "\n",
    "    # Plot the Earth\n",
    "    texture = np.asarray(Image.open('temp.jpg')).T\n",
    "    colorscale =[[0.0, 'rgb(30, 59, 117)'],\n",
    "                 [0.1, 'rgb(46, 68, 21)'],\n",
    "                 [0.2, 'rgb(74, 96, 28)'],\n",
    "                 [0.3, 'rgb(115,141,90)'],\n",
    "                 [0.4, 'rgb(122, 126, 75)'],\n",
    "                 [0.6, 'rgb(122, 126, 75)'],\n",
    "                 [0.7, 'rgb(141,115,96)'],\n",
    "                 [0.8, 'rgb(223, 197, 170)'],\n",
    "                 [0.9, 'rgb(237,214,183)'],\n",
    "                 [1.0, 'rgb(255, 255, 255)']]              \n",
    "    xs, ys, zs = sphere(earth_radius, texture)\n",
    "    fig.add_trace(go.Surface(x=xs, y=ys, z=zs,\n",
    "                      surfacecolor=texture,\n",
    "                      colorscale=colorscale,\n",
    "                      showscale=False,\n",
    "                      hoverinfo='none',\n",
    "                      name='Earth',\n",
    "                      showlegend=True)\n",
    "    )\n",
    "    \n",
    "    # Plot each satellite's orbit with different colors from the colormap\n",
    "    cmap = plt.get_cmap('cool')  # Use the 'cool' colormap\n",
    "    for i, (positions, velocities, label) in enumerate(zip(positions_list, velocities_list, labels)):\n",
    "        color = cmap(i / len(positions_list))  # Get a color from the colormap\n",
    "        hover_text = [f\"Velocity: {np.linalg.norm(vel):.2f} km/s\" for vel in velocities.T]\n",
    "        fig.add_trace(go.Scatter3d(\n",
    "            x=positions[0], y=positions[1], z=positions[2],\n",
    "            mode='lines',\n",
    "            name=label,\n",
    "            line=dict(color='rgb({}, {}, {})'.format(*[int(c * 255) for c in color[:3]])),\n",
    "            text=hover_text,\n",
    "            hoverinfo='text'\n",
    "        ))\n",
    "\n",
    "    # Set the layout for the plot\n",
    "    fig.update_layout(\n",
    "        scene=dict(\n",
    "            xaxis=dict(backgroundcolor='black', color='white', gridcolor='gray', title='x (km)'),\n",
    "            yaxis=dict(backgroundcolor='black', color='white', gridcolor='gray', title='y (km)'),\n",
    "            zaxis=dict(backgroundcolor='black', color='white', gridcolor='gray', title='z (km)'),\n",
    "            bgcolor='black'\n",
    "        ),\n",
    "        legend=dict(\n",
    "            x=0, y=1,  # Position the legend at the bottom right\n",
    "            xanchor='left', yanchor='top'\n",
    "        ),\n",
    "        margin=dict(r=0, l=0, b=0, t=0)\n",
    "    )\n",
    "\n",
    "    # Show the plot\n",
    "    fig.show()"
   ]
  },
  {
   "cell_type": "markdown",
   "metadata": {},
   "source": [
    "# Analyse"
   ]
  },
  {
   "cell_type": "code",
   "execution_count": null,
   "metadata": {},
   "outputs": [],
   "source": [
    "tle_lines = [\n",
    "    # ISS (LEO)\n",
    "    (('1 25544U 98067A   20334.54791667  .00016717  00000-0  10270-3 0  9000', \n",
    "      '2 25544  51.6442  21.4614 0001448  45.3583  314.7000 15.49112345  9000'), 'ISS (LEO)'),\n",
    "    # GPS BIIR-2 (MEO)\n",
    "    (('1 24876U 97035A   20334.54791667  .00000023  00000-0  00000-0 0  9993',\n",
    "      '2 24876  54.8990  56.0000 0000001  56.0000  56.0000  2.00562500  9993'), 'GPS BIIR-2 (MEO)'),\n",
    "    # Molniya 1-93 (HEO)\n",
    "    (('1 24779U 97017A   20334.54791667  .00000023  00000-0  00000-0 0  9993',\n",
    "      '2 24779  62.8000  56.0000 0000001  56.0000  56.0000  2.00562500  9993'), 'Molniya 1-93 (HEO)'),\n",
    "    # SES-1 (Geostationary)\n",
    "    (('1 36516U 10018A   20334.54791667  .00000023  00000-0  00000-0 0  9993',\n",
    "      '2 36516   0.0180  92.0000 0000001  92.0000 268.0000  1.00270000  9993'), 'SES-1 (GEO)')\n",
    "]\n",
    "\n",
    "start_time = datetime.now()\n",
    "end_time = start_time + timedelta(hours=48)\n",
    "time_step = 60  # seconds\n",
    "\n",
    "positions_list = []\n",
    "velocities_list = []\n",
    "labels = []\n",
    "for (tle_line1, tle_line2), label in tle_lines:\n",
    "    satellite = create_satellite(tle_line1, tle_line2)\n",
    "    positions, velocities = propagate_orbit(satellite, start_time, end_time, time_step)\n",
    "    positions_list.append(positions)\n",
    "    velocities_list.append(velocities)\n",
    "    labels.append(label)\n",
    "\n",
    "plot_orbits(positions_list, velocities_list, labels)"
   ]
  }
 ],
 "metadata": {
  "kernelspec": {
   "display_name": "Python 3",
   "language": "python",
   "name": "python3"
  },
  "language_info": {
   "codemirror_mode": {
    "name": "ipython",
    "version": 3
   },
   "file_extension": ".py",
   "mimetype": "text/x-python",
   "name": "python",
   "nbconvert_exporter": "python",
   "pygments_lexer": "ipython3",
   "version": "3.12.6"
  }
 },
 "nbformat": 4,
 "nbformat_minor": 2
}
