{
 "cells": [
  {
   "cell_type": "markdown",
   "metadata": {},
   "source": [
    "# Bibliotek"
   ]
  },
  {
   "cell_type": "code",
   "execution_count": 263,
   "metadata": {},
   "outputs": [],
   "source": [
    "import numpy as np\n",
    "import pandas as pd\n",
    "import matplotlib.pyplot as plt\n",
    "from skyfield.api import EarthSatellite, load\n",
    "from datetime import datetime, timedelta\n",
    "from PIL import Image\n",
    "import plotly.graph_objects as go\n",
    "import plotly.express as px"
   ]
  },
  {
   "cell_type": "markdown",
   "metadata": {},
   "source": [
    "# Funksjoner og Konstanter"
   ]
  },
  {
   "cell_type": "code",
   "execution_count": 264,
   "metadata": {},
   "outputs": [],
   "source": [
    "def calc_sun_sync_params(altitudes_km):\n",
    "    \"\"\"\n",
    "    Calculate sun-synchronous orbital parameters for satellites at given altitudes.\n",
    "\n",
    "    Parameters:\n",
    "    altitudes_km (list of float): List of altitudes in kilometers.\n",
    "\n",
    "    Returns:\n",
    "    pd.DataFrame: A DataFrame containing the orbital parameters for each altitude.\n",
    "    \"\"\"\n",
    "    # Constants for Earth and orbit calculations\n",
    "    R_EARTH = 6378.137e3  # Earth's equatorial radius in meters\n",
    "    mu = 3.986004418e14  # Earth's gravitational parameter in m^3 s^-2\n",
    "    J2 = 1.08263e-3  # Earth's J2 zonal harmonic for oblateness effect\n",
    "    omega_earth = 2 * np.pi / (365.25 * 24 * 3600)  # Earth's angular velocity (rad/s)\n",
    "    Psr = 4.56e-6  # Solar radiation pressure at 1 AU, N/m^2\n",
    "    AU = 149597870.7e3  # Astronomical unit in meters\n",
    "\n",
    "    # Satellite mass and drag properties\n",
    "    U=1 # Satellite size\n",
    "    sat_mass = 40  # kg\n",
    "    Cd = 2.2  # drag coefficient\n",
    "    A = 50 # cross-sectional area, m^2 (increased for visible solar pressure effects)\n",
    "    rho = lambda h: 1e-13 * np.exp(-h / 100000)  # exponential model of atmospheric density\n",
    "    \n",
    "    data = {\n",
    "        \"Altitude (km)\": [],\n",
    "        \"Period (minutes)\": [],\n",
    "        \"Revs per day\": [],\n",
    "        \"Inclination (degrees)\": [],\n",
    "        \"Semi-major Axis (meters)\": [],\n",
    "        \"Eccentricity\": [],\n",
    "        \"RAAN (degrees)\": [],\n",
    "        \"Argument of Perigee (degrees)\": [],\n",
    "        \"BSTAR\": []\n",
    "    }\n",
    "    \n",
    "    for altitude_km in altitudes_km:\n",
    "        if not isinstance(altitude_km, (int, float)):\n",
    "            raise ValueError(\"All altitudes must be numeric values.\")\n",
    "        \n",
    "        r = R_EARTH + altitude_km * 1e3  # Semi-major axis in meters\n",
    "        T = 2 * np.pi * np.sqrt(r**3 / mu)  # Orbital period in seconds\n",
    "        T_minutes = T / 60  # Convert period to minutes\n",
    "        T_hours = T / 3600  # Convert period to hours\n",
    "        revs_per_day = 24 / T_hours  # Calculate revolutions per day\n",
    "\n",
    "        # Calculate inclination for a sun-synchronous orbit\n",
    "        inclination = np.degrees(np.arccos(-2 * r**(7/2) * omega_earth / (3 * J2 * R_EARTH**2 * np.sqrt(mu))))\n",
    "\n",
    "        # Set eccentricity to zero for a near-circular orbit\n",
    "        eccentricity = 0.0\n",
    "\n",
    "        # RAAN and Argument of Perigee are typically set to specific values for sun-synchronous orbits\n",
    "        RAAN = 0.0  # Placeholder value\n",
    "        argument_of_perigee = 0.0  # Placeholder value\n",
    "\n",
    "        # Calculate the BSTAR drag term for the satellite\n",
    "        bstar = Cd * A / (sat_mass*2) * rho(altitude_km * 1e3)\n",
    "\n",
    "\n",
    "        data[\"Altitude (km)\"].append(altitude_km)\n",
    "        data[\"Period (minutes)\"].append(T_minutes)\n",
    "        data[\"Revs per day\"].append(revs_per_day)\n",
    "        data[\"Inclination (degrees)\"].append(inclination)\n",
    "        data[\"Semi-major Axis (meters)\"].append(r)\n",
    "        data[\"Eccentricity\"].append(eccentricity)\n",
    "        data[\"RAAN (degrees)\"].append(RAAN)\n",
    "        data[\"Argument of Perigee (degrees)\"].append(argument_of_perigee)\n",
    "        data[\"BSTAR\"].append(bstar)\n",
    "        \n",
    "    \n",
    "    df_orbital_params = pd.DataFrame(data)\n",
    "    return df_orbital_params\n",
    "\n",
    "\n",
    "def generate_tle(df):\n",
    "    \"\"\"\n",
    "    Generate Two Line Elements (TLE) from orbital parameters in a DataFrame.\n",
    "\n",
    "    Parameters:\n",
    "    df (pd.DataFrame): DataFrame containing the orbital parameters.\n",
    "\n",
    "    Returns:\n",
    "    list of tuples: List of TLE lines and their descriptions.\n",
    "    \"\"\"\n",
    "    tle_lines = []\n",
    "    for index, row in df.iterrows():\n",
    "        satellite_number = 99990 + index + 1  # Example satellite number\n",
    "        epoch = \"24304.50000000\"  # Example epoch (YYDDD.DDDDDDDD)\n",
    "        inclination = f\"{row['Inclination (degrees)']:.4f}\".rjust(8)\n",
    "        raan = f\"{row['RAAN (degrees)']:.4f}\".rjust(8)\n",
    "        eccentricity = f\"{int(row['Eccentricity'] * 1e7):07d}\"\n",
    "        argument_of_perigee = f\"{row['Argument of Perigee (degrees)']:.4f}\".rjust(8)\n",
    "        mean_anomaly = \"000.0000\"  # Placeholder value\n",
    "        mean_motion = f\"{row['Revs per day']:.8f}\".rjust(11)\n",
    "        revolution_number = f\"{index + 1:05d}\"\n",
    "        bstar = \"00000-0\" # Placeholder value\n",
    "\n",
    "        line1 = f\"1 {satellite_number}U 21001A   {epoch}  .00000000  00000-0  {bstar} 0  9991\"\n",
    "        line2 = f\"2 {satellite_number} {inclination} {raan} {eccentricity} {argument_of_perigee} {mean_anomaly} {mean_motion} {revolution_number}\"\n",
    "\n",
    "        label = f\"Satellite {index + 1} ({row['Altitude (km)']} km)\"\n",
    "        tle_lines.append(((line1, line2), label))\n",
    "\n",
    "    return tle_lines\n",
    "\n",
    "\n",
    "\n",
    "def sphere(size, texture): \n",
    "    N_lat = int(texture.shape[0])\n",
    "    N_lon = int(texture.shape[1])\n",
    "    theta = np.linspace(0,2*np.pi,N_lat)\n",
    "    phi = np.linspace(0,np.pi,N_lon)\n",
    "    \n",
    "    # Set up coordinates for points on the sphere\n",
    "    x0 = size * np.outer(np.cos(theta),np.sin(phi))\n",
    "    y0 = size * np.outer(np.sin(theta),np.sin(phi))\n",
    "    z0 = size * np.outer(np.ones(N_lat),np.cos(phi))\n",
    "    \n",
    "    return x0, y0, z0\n",
    "\n",
    "def create_satellite(tle_line1, tle_line2):\n",
    "    return EarthSatellite(tle_line1, tle_line2)\n",
    "\n",
    "def propagate_orbit(satellite, start_time, end_time, time_step):\n",
    "    ts = load.timescale()\n",
    "    times = ts.utc(start_time.year, start_time.month, start_time.day, \n",
    "                   start_time.hour, start_time.minute, start_time.second + np.arange(0, int((end_time - start_time).total_seconds()), time_step))\n",
    "    geocentric = satellite.at(times)\n",
    "    positions = geocentric.position.km\n",
    "    velocities = geocentric.velocity.km_per_s\n",
    "    return positions, velocities\n",
    "\n",
    "def plot_orbits(tle_lines, time_step=60, time_delta=24):\n",
    "    \"\"\"\n",
    "    Plots the orbits of satellites with Earth rotation effect in 3D.\n",
    "\n",
    "    Parameters:\n",
    "    tle_lines (list of tuples): List of tuples with TLE lines and satellite labels.\n",
    "    time_step (int): Time step in seconds for orbit propagation.\n",
    "    time_delta (int): Duration in hours for orbit propagation.\n",
    "\n",
    "    Returns:\n",
    "    None: Displays an interactive 3D plot with Earth rotation.\n",
    "    \"\"\"\n",
    "    earth_radius = 6371.137  # Earth's radius in kilometers\n",
    "\n",
    "    # Define the time range\n",
    "    start_time = datetime.now()\n",
    "    end_time = start_time + timedelta(hours=time_delta)\n",
    "    num_steps = int((end_time - start_time).total_seconds() / time_step)\n",
    "\n",
    "    # Calculate Earth rotation angles for each time step\n",
    "    rotation_angles = np.linspace(0, time_delta * 15, num_steps) % 360  # Earth rotates 15° per hour\n",
    "\n",
    "    # Initialize lists for positions, velocities, and labels\n",
    "    positions_list = []\n",
    "    velocities_list = []\n",
    "    labels = []\n",
    "\n",
    "    # Propagate each satellite orbit\n",
    "    for (tle_line1, tle_line2), label in tle_lines:\n",
    "        satellite = create_satellite(tle_line1, tle_line2)\n",
    "        positions, velocities = propagate_orbit(satellite, start_time, end_time, time_step)\n",
    "        positions_list.append(positions)\n",
    "        velocities_list.append(velocities)\n",
    "        labels.append(label)\n",
    "\n",
    "    # Start Plotly figure\n",
    "    fig = go.Figure()\n",
    "\n",
    "    # Add Earth with texture\n",
    "    texture = np.asarray(Image.open('temp.jpg')).T  # Load the Earth texture map\n",
    "    colorscale =[[0.0, 'rgb(30, 59, 117)'],\n",
    "                 [0.1, 'rgb(46, 68, 21)'],\n",
    "                 [0.2, 'rgb(74, 96, 28)'],\n",
    "                 [0.3, 'rgb(115,141,90)'],\n",
    "                 [0.4, 'rgb(122, 126, 75)'],\n",
    "                 [0.6, 'rgb(122, 126, 75)'],\n",
    "                 [0.7, 'rgb(141,115,96)'],\n",
    "                 [0.8, 'rgb(223, 197, 170)'],\n",
    "                 [0.9, 'rgb(237,214,183)'],\n",
    "                 [1.0, 'rgb(255, 255, 255)']]\n",
    "    xs, ys, zs = sphere(earth_radius, texture)\n",
    "    fig.add_trace(go.Surface(\n",
    "        x=xs, y=ys, z=zs,\n",
    "        surfacecolor=texture,\n",
    "        colorscale=colorscale,\n",
    "        showscale=False,\n",
    "        hoverinfo='none',\n",
    "        name='Earth',\n",
    "        showlegend=True\n",
    "    ))\n",
    "\n",
    "    # Plot each satellite's orbit and adjust for Earth's rotation\n",
    "    cmap = plt.get_cmap('cool')\n",
    "    for i, (positions, velocities, label) in enumerate(zip(positions_list, velocities_list, labels)):\n",
    "        adjusted_positions = []\n",
    "\n",
    "        # Apply Earth's rotation to each position\n",
    "        for j, pos in enumerate(positions.T):\n",
    "            rotation_angle_rad = np.radians(rotation_angles[j])\n",
    "            rotation_matrix = np.array([\n",
    "                [np.cos(rotation_angle_rad), -np.sin(rotation_angle_rad), 0],\n",
    "                [np.sin(rotation_angle_rad),  np.cos(rotation_angle_rad), 0],\n",
    "                [0, 0, 1]\n",
    "            ])\n",
    "            rotated_pos = rotation_matrix @ pos\n",
    "            adjusted_positions.append(rotated_pos)\n",
    "\n",
    "        adjusted_positions = np.array(adjusted_positions).T\n",
    "\n",
    "        # Set color and hover text for each satellite's orbit\n",
    "        color = cmap(i / len(positions_list))\n",
    "        hover_text = [f\"Velocity: {np.linalg.norm(vel):.2f} km/s<br>Altitude: {np.linalg.norm(pos) - earth_radius:.2f} km\"\n",
    "                      for vel, pos in zip(velocities.T, adjusted_positions.T)]\n",
    "        fig.add_trace(go.Scatter3d(\n",
    "            x=adjusted_positions[0], y=adjusted_positions[1], z=adjusted_positions[2],\n",
    "            mode='lines',\n",
    "            name=label,\n",
    "            line=dict(color=f'rgb({int(color[0]*255)}, {int(color[1]*255)}, {int(color[2]*255)})'),\n",
    "            text=hover_text,\n",
    "            hoverinfo='text'\n",
    "        ))\n",
    "\n",
    "    # Update layout for enhanced visuals\n",
    "    fig.update_layout(\n",
    "        title=dict(\n",
    "            text='Satellite Orbits',\n",
    "            font=dict(size=24, color='white'),\n",
    "            x=0.5, y=0.95, xanchor='center', yanchor='top'\n",
    "        ),\n",
    "        width=800,\n",
    "        height=600,\n",
    "        scene=dict(\n",
    "            xaxis=dict(backgroundcolor='black', color='white', gridcolor='gray', title='x (km)'),\n",
    "            yaxis=dict(backgroundcolor='black', color='white', gridcolor='gray', title='y (km)'),\n",
    "            zaxis=dict(backgroundcolor='black', color='white', gridcolor='gray', title='z (km)'),\n",
    "            bgcolor='black'\n",
    "        ),\n",
    "        legend=dict(\n",
    "            x=0, y=1, xanchor='left', yanchor='top', font=dict(size=10, color=\"white\")\n",
    "        ),\n",
    "        margin=dict(r=1, l=1, b=1, t=1),\n",
    "        paper_bgcolor='black',\n",
    "        plot_bgcolor='black'\n",
    "    )\n",
    "\n",
    "    # Show the plot\n",
    "    fig.show()\n",
    "\n",
    "def plot_map(tle_lines, time_step=60, time_delta=24):\n",
    "    \"\"\"\n",
    "    Projects satellite orbits onto a 2D map of Earth.\n",
    "\n",
    "    Parameters:\n",
    "    tle_lines (list of tuples): List of tuples containing TLE lines and satellite labels.\n",
    "    time_step (int): Time step in seconds for orbit propagation. Default is 60 seconds.\n",
    "    time_delta (int): Duration in hours for orbit propagation. Default is 24 hours.\n",
    "\n",
    "    Returns:\n",
    "    None: Displays an interactive 2D map of orbit paths using Plotly.\n",
    "    \"\"\"\n",
    "    \n",
    "    # Setup time range\n",
    "    start_time = datetime.now()\n",
    "    end_time = start_time + timedelta(hours=time_delta)\n",
    "    num_steps = int((end_time - start_time).total_seconds() / time_step)\n",
    "\n",
    "    # Pre-calculate Earth's rotation angles for each time step\n",
    "    rotation_angles = np.linspace(0, time_delta * 15, num_steps) % 360  # Earth rotates 15° per hour\n",
    "\n",
    "    # Initialize lists for latitude, longitude, and labels\n",
    "    latitudes, longitudes, labels, timestamps = [], [], [], []\n",
    "\n",
    "    # Process each satellite's TLE and orbit data\n",
    "    for (tle_line1, tle_line2), label in tle_lines:\n",
    "        satellite = create_satellite(tle_line1, tle_line2)\n",
    "        positions, _ = propagate_orbit(satellite, start_time, end_time, time_step)\n",
    "\n",
    "        # Calculate latitude and longitude for each position\n",
    "        for i, pos in enumerate(positions.T):\n",
    "            lat = np.degrees(np.arctan2(pos[2], np.sqrt(pos[0]**2 + pos[1]**2)))\n",
    "            lon = (np.degrees(np.arctan2(pos[1], pos[0])) + rotation_angles[i]) % 360\n",
    "            if lon > 180:\n",
    "                lon -= 360\n",
    "\n",
    "            # Append calculated data to lists\n",
    "            latitudes.append(lat)\n",
    "            longitudes.append(lon)\n",
    "            labels.append(label)\n",
    "            timestamps.append((start_time + timedelta(seconds=i * time_step)).strftime('%Y-%m-%d %H:%M:%S'))\n",
    "\n",
    "    # Plot the projected orbit paths on a 2D map\n",
    "    fig_map = px.scatter_geo(\n",
    "        lat=latitudes,\n",
    "        lon=longitudes,\n",
    "        color=labels,\n",
    "        title=\"Satellite Orbit Path Projections\",\n",
    "        hover_name=labels,\n",
    "        hover_data={\"Timestamp\": timestamps}\n",
    "    )\n",
    "\n",
    "    # Style the map\n",
    "    fig_map.update_geos(\n",
    "        showland=True,\n",
    "        landcolor=\"rgb(217, 217, 217)\",\n",
    "        projection_type=\"natural earth\",\n",
    "        bgcolor=\"black\"\n",
    "    )\n",
    "    fig_map.update_layout(\n",
    "        width=800,\n",
    "        height=600,\n",
    "        paper_bgcolor=\"black\",\n",
    "        plot_bgcolor=\"black\",\n",
    "        font=dict(color=\"white\"),\n",
    "        legend=dict(\n",
    "            title=None, x=0, y=1, xanchor='left', yanchor='top', font=dict(size=10, color=\"white\")\n",
    "        ),\n",
    "        title=dict(\n",
    "            font=dict(size=24, color='white'),\n",
    "            xanchor='center', yanchor='top', x=0.5, y=0.95\n",
    "        ),\n",
    "        margin=dict(r=1, l=1, b=1, t=1)\n",
    "    )\n",
    "\n",
    "    # Show the map\n",
    "    fig_map.show()"
   ]
  },
  {
   "cell_type": "markdown",
   "metadata": {},
   "source": [
    "# Analyse"
   ]
  },
  {
   "cell_type": "code",
   "execution_count": 265,
   "metadata": {},
   "outputs": [
    {
     "name": "stdout",
     "output_type": "stream",
     "text": [
      "   Altitude (km)  Period (minutes)  Revs per day  Inclination (degrees)  \\\n",
      "0            400         92.560405     15.557408              97.029866   \n",
      "1            500         94.616300     15.219365              97.401626   \n",
      "2            600         96.687196     14.893389              97.787478   \n",
      "\n",
      "   Semi-major Axis (meters)  Eccentricity  RAAN (degrees)  \\\n",
      "0                 6778137.0           0.0             0.0   \n",
      "1                 6878137.0           0.0             0.0   \n",
      "2                 6978137.0           0.0             0.0   \n",
      "\n",
      "   Argument of Perigee (degrees)         BSTAR  \n",
      "0                            0.0  2.518400e-15  \n",
      "1                            0.0  9.264677e-16  \n",
      "2                            0.0  3.408284e-16  \n"
     ]
    },
    {
     "data": {
      "application/vnd.plotly.v1+json": {
       "config": {
        "plotlyServerURL": "https://plot.ly"
       },
       "data": [
        {
         "customdata": [
          [
           "2024-11-02 14:05:02"
          ],
          [
           "2024-11-02 14:06:02"
          ],
          [
           "2024-11-02 14:07:02"
          ],
          [
           "2024-11-02 14:08:02"
          ],
          [
           "2024-11-02 14:09:02"
          ],
          [
           "2024-11-02 14:10:02"
          ],
          [
           "2024-11-02 14:11:02"
          ],
          [
           "2024-11-02 14:12:02"
          ],
          [
           "2024-11-02 14:13:02"
          ],
          [
           "2024-11-02 14:14:02"
          ],
          [
           "2024-11-02 14:15:02"
          ],
          [
           "2024-11-02 14:16:02"
          ],
          [
           "2024-11-02 14:17:02"
          ],
          [
           "2024-11-02 14:18:02"
          ],
          [
           "2024-11-02 14:19:02"
          ],
          [
           "2024-11-02 14:20:02"
          ],
          [
           "2024-11-02 14:21:02"
          ],
          [
           "2024-11-02 14:22:02"
          ],
          [
           "2024-11-02 14:23:02"
          ],
          [
           "2024-11-02 14:24:02"
          ],
          [
           "2024-11-02 14:25:02"
          ],
          [
           "2024-11-02 14:26:02"
          ],
          [
           "2024-11-02 14:27:02"
          ],
          [
           "2024-11-02 14:28:02"
          ],
          [
           "2024-11-02 14:29:02"
          ],
          [
           "2024-11-02 14:30:02"
          ],
          [
           "2024-11-02 14:31:02"
          ],
          [
           "2024-11-02 14:32:02"
          ],
          [
           "2024-11-02 14:33:02"
          ],
          [
           "2024-11-02 14:34:02"
          ],
          [
           "2024-11-02 14:35:02"
          ],
          [
           "2024-11-02 14:36:02"
          ],
          [
           "2024-11-02 14:37:02"
          ],
          [
           "2024-11-02 14:38:02"
          ],
          [
           "2024-11-02 14:39:02"
          ],
          [
           "2024-11-02 14:40:02"
          ],
          [
           "2024-11-02 14:41:02"
          ],
          [
           "2024-11-02 14:42:02"
          ],
          [
           "2024-11-02 14:43:02"
          ],
          [
           "2024-11-02 14:44:02"
          ],
          [
           "2024-11-02 14:45:02"
          ],
          [
           "2024-11-02 14:46:02"
          ],
          [
           "2024-11-02 14:47:02"
          ],
          [
           "2024-11-02 14:48:02"
          ],
          [
           "2024-11-02 14:49:02"
          ],
          [
           "2024-11-02 14:50:02"
          ],
          [
           "2024-11-02 14:51:02"
          ],
          [
           "2024-11-02 14:52:02"
          ],
          [
           "2024-11-02 14:53:02"
          ],
          [
           "2024-11-02 14:54:02"
          ],
          [
           "2024-11-02 14:55:02"
          ],
          [
           "2024-11-02 14:56:02"
          ],
          [
           "2024-11-02 14:57:02"
          ],
          [
           "2024-11-02 14:58:02"
          ],
          [
           "2024-11-02 14:59:02"
          ],
          [
           "2024-11-02 15:00:02"
          ],
          [
           "2024-11-02 15:01:02"
          ],
          [
           "2024-11-02 15:02:02"
          ],
          [
           "2024-11-02 15:03:02"
          ],
          [
           "2024-11-02 15:04:02"
          ],
          [
           "2024-11-02 15:05:02"
          ],
          [
           "2024-11-02 15:06:02"
          ],
          [
           "2024-11-02 15:07:02"
          ],
          [
           "2024-11-02 15:08:02"
          ],
          [
           "2024-11-02 15:09:02"
          ],
          [
           "2024-11-02 15:10:02"
          ],
          [
           "2024-11-02 15:11:02"
          ],
          [
           "2024-11-02 15:12:02"
          ],
          [
           "2024-11-02 15:13:02"
          ],
          [
           "2024-11-02 15:14:02"
          ],
          [
           "2024-11-02 15:15:02"
          ],
          [
           "2024-11-02 15:16:02"
          ],
          [
           "2024-11-02 15:17:02"
          ],
          [
           "2024-11-02 15:18:02"
          ],
          [
           "2024-11-02 15:19:02"
          ],
          [
           "2024-11-02 15:20:02"
          ],
          [
           "2024-11-02 15:21:02"
          ],
          [
           "2024-11-02 15:22:02"
          ],
          [
           "2024-11-02 15:23:02"
          ],
          [
           "2024-11-02 15:24:02"
          ],
          [
           "2024-11-02 15:25:02"
          ],
          [
           "2024-11-02 15:26:02"
          ],
          [
           "2024-11-02 15:27:02"
          ],
          [
           "2024-11-02 15:28:02"
          ],
          [
           "2024-11-02 15:29:02"
          ],
          [
           "2024-11-02 15:30:02"
          ],
          [
           "2024-11-02 15:31:02"
          ],
          [
           "2024-11-02 15:32:02"
          ],
          [
           "2024-11-02 15:33:02"
          ],
          [
           "2024-11-02 15:34:02"
          ],
          [
           "2024-11-02 15:35:02"
          ],
          [
           "2024-11-02 15:36:02"
          ],
          [
           "2024-11-02 15:37:02"
          ],
          [
           "2024-11-02 15:38:02"
          ],
          [
           "2024-11-02 15:39:02"
          ],
          [
           "2024-11-02 15:40:02"
          ],
          [
           "2024-11-02 15:41:02"
          ],
          [
           "2024-11-02 15:42:02"
          ],
          [
           "2024-11-02 15:43:02"
          ],
          [
           "2024-11-02 15:44:02"
          ],
          [
           "2024-11-02 15:45:02"
          ],
          [
           "2024-11-02 15:46:02"
          ],
          [
           "2024-11-02 15:47:02"
          ],
          [
           "2024-11-02 15:48:02"
          ],
          [
           "2024-11-02 15:49:02"
          ],
          [
           "2024-11-02 15:50:02"
          ],
          [
           "2024-11-02 15:51:02"
          ],
          [
           "2024-11-02 15:52:02"
          ],
          [
           "2024-11-02 15:53:02"
          ],
          [
           "2024-11-02 15:54:02"
          ],
          [
           "2024-11-02 15:55:02"
          ],
          [
           "2024-11-02 15:56:02"
          ],
          [
           "2024-11-02 15:57:02"
          ],
          [
           "2024-11-02 15:58:02"
          ],
          [
           "2024-11-02 15:59:02"
          ],
          [
           "2024-11-02 16:00:02"
          ],
          [
           "2024-11-02 16:01:02"
          ],
          [
           "2024-11-02 16:02:02"
          ],
          [
           "2024-11-02 16:03:02"
          ],
          [
           "2024-11-02 16:04:02"
          ],
          [
           "2024-11-02 16:05:02"
          ],
          [
           "2024-11-02 16:06:02"
          ],
          [
           "2024-11-02 16:07:02"
          ],
          [
           "2024-11-02 16:08:02"
          ],
          [
           "2024-11-02 16:09:02"
          ],
          [
           "2024-11-02 16:10:02"
          ],
          [
           "2024-11-02 16:11:02"
          ],
          [
           "2024-11-02 16:12:02"
          ],
          [
           "2024-11-02 16:13:02"
          ],
          [
           "2024-11-02 16:14:02"
          ],
          [
           "2024-11-02 16:15:02"
          ],
          [
           "2024-11-02 16:16:02"
          ],
          [
           "2024-11-02 16:17:02"
          ],
          [
           "2024-11-02 16:18:02"
          ],
          [
           "2024-11-02 16:19:02"
          ],
          [
           "2024-11-02 16:20:02"
          ],
          [
           "2024-11-02 16:21:02"
          ],
          [
           "2024-11-02 16:22:02"
          ],
          [
           "2024-11-02 16:23:02"
          ],
          [
           "2024-11-02 16:24:02"
          ],
          [
           "2024-11-02 16:25:02"
          ],
          [
           "2024-11-02 16:26:02"
          ],
          [
           "2024-11-02 16:27:02"
          ],
          [
           "2024-11-02 16:28:02"
          ],
          [
           "2024-11-02 16:29:02"
          ],
          [
           "2024-11-02 16:30:02"
          ],
          [
           "2024-11-02 16:31:02"
          ],
          [
           "2024-11-02 16:32:02"
          ],
          [
           "2024-11-02 16:33:02"
          ],
          [
           "2024-11-02 16:34:02"
          ],
          [
           "2024-11-02 16:35:02"
          ],
          [
           "2024-11-02 16:36:02"
          ],
          [
           "2024-11-02 16:37:02"
          ],
          [
           "2024-11-02 16:38:02"
          ],
          [
           "2024-11-02 16:39:02"
          ],
          [
           "2024-11-02 16:40:02"
          ],
          [
           "2024-11-02 16:41:02"
          ],
          [
           "2024-11-02 16:42:02"
          ],
          [
           "2024-11-02 16:43:02"
          ],
          [
           "2024-11-02 16:44:02"
          ],
          [
           "2024-11-02 16:45:02"
          ],
          [
           "2024-11-02 16:46:02"
          ],
          [
           "2024-11-02 16:47:02"
          ],
          [
           "2024-11-02 16:48:02"
          ],
          [
           "2024-11-02 16:49:02"
          ],
          [
           "2024-11-02 16:50:02"
          ],
          [
           "2024-11-02 16:51:02"
          ],
          [
           "2024-11-02 16:52:02"
          ],
          [
           "2024-11-02 16:53:02"
          ],
          [
           "2024-11-02 16:54:02"
          ],
          [
           "2024-11-02 16:55:02"
          ],
          [
           "2024-11-02 16:56:02"
          ],
          [
           "2024-11-02 16:57:02"
          ],
          [
           "2024-11-02 16:58:02"
          ],
          [
           "2024-11-02 16:59:02"
          ],
          [
           "2024-11-02 17:00:02"
          ],
          [
           "2024-11-02 17:01:02"
          ],
          [
           "2024-11-02 17:02:02"
          ],
          [
           "2024-11-02 17:03:02"
          ],
          [
           "2024-11-02 17:04:02"
          ],
          [
           "2024-11-02 17:05:02"
          ],
          [
           "2024-11-02 17:06:02"
          ],
          [
           "2024-11-02 17:07:02"
          ],
          [
           "2024-11-02 17:08:02"
          ],
          [
           "2024-11-02 17:09:02"
          ],
          [
           "2024-11-02 17:10:02"
          ],
          [
           "2024-11-02 17:11:02"
          ],
          [
           "2024-11-02 17:12:02"
          ],
          [
           "2024-11-02 17:13:02"
          ],
          [
           "2024-11-02 17:14:02"
          ],
          [
           "2024-11-02 17:15:02"
          ],
          [
           "2024-11-02 17:16:02"
          ],
          [
           "2024-11-02 17:17:02"
          ],
          [
           "2024-11-02 17:18:02"
          ],
          [
           "2024-11-02 17:19:02"
          ],
          [
           "2024-11-02 17:20:02"
          ],
          [
           "2024-11-02 17:21:02"
          ],
          [
           "2024-11-02 17:22:02"
          ],
          [
           "2024-11-02 17:23:02"
          ],
          [
           "2024-11-02 17:24:02"
          ],
          [
           "2024-11-02 17:25:02"
          ],
          [
           "2024-11-02 17:26:02"
          ],
          [
           "2024-11-02 17:27:02"
          ],
          [
           "2024-11-02 17:28:02"
          ],
          [
           "2024-11-02 17:29:02"
          ],
          [
           "2024-11-02 17:30:02"
          ],
          [
           "2024-11-02 17:31:02"
          ],
          [
           "2024-11-02 17:32:02"
          ],
          [
           "2024-11-02 17:33:02"
          ],
          [
           "2024-11-02 17:34:02"
          ],
          [
           "2024-11-02 17:35:02"
          ],
          [
           "2024-11-02 17:36:02"
          ],
          [
           "2024-11-02 17:37:02"
          ],
          [
           "2024-11-02 17:38:02"
          ],
          [
           "2024-11-02 17:39:02"
          ],
          [
           "2024-11-02 17:40:02"
          ],
          [
           "2024-11-02 17:41:02"
          ],
          [
           "2024-11-02 17:42:02"
          ],
          [
           "2024-11-02 17:43:02"
          ],
          [
           "2024-11-02 17:44:02"
          ],
          [
           "2024-11-02 17:45:02"
          ],
          [
           "2024-11-02 17:46:02"
          ],
          [
           "2024-11-02 17:47:02"
          ],
          [
           "2024-11-02 17:48:02"
          ],
          [
           "2024-11-02 17:49:02"
          ],
          [
           "2024-11-02 17:50:02"
          ],
          [
           "2024-11-02 17:51:02"
          ],
          [
           "2024-11-02 17:52:02"
          ],
          [
           "2024-11-02 17:53:02"
          ],
          [
           "2024-11-02 17:54:02"
          ],
          [
           "2024-11-02 17:55:02"
          ],
          [
           "2024-11-02 17:56:02"
          ],
          [
           "2024-11-02 17:57:02"
          ],
          [
           "2024-11-02 17:58:02"
          ],
          [
           "2024-11-02 17:59:02"
          ],
          [
           "2024-11-02 18:00:02"
          ],
          [
           "2024-11-02 18:01:02"
          ],
          [
           "2024-11-02 18:02:02"
          ],
          [
           "2024-11-02 18:03:02"
          ],
          [
           "2024-11-02 18:04:02"
          ],
          [
           "2024-11-02 18:05:02"
          ],
          [
           "2024-11-02 18:06:02"
          ],
          [
           "2024-11-02 18:07:02"
          ],
          [
           "2024-11-02 18:08:02"
          ],
          [
           "2024-11-02 18:09:02"
          ],
          [
           "2024-11-02 18:10:02"
          ],
          [
           "2024-11-02 18:11:02"
          ],
          [
           "2024-11-02 18:12:02"
          ],
          [
           "2024-11-02 18:13:02"
          ],
          [
           "2024-11-02 18:14:02"
          ],
          [
           "2024-11-02 18:15:02"
          ],
          [
           "2024-11-02 18:16:02"
          ],
          [
           "2024-11-02 18:17:02"
          ],
          [
           "2024-11-02 18:18:02"
          ],
          [
           "2024-11-02 18:19:02"
          ],
          [
           "2024-11-02 18:20:02"
          ],
          [
           "2024-11-02 18:21:02"
          ],
          [
           "2024-11-02 18:22:02"
          ],
          [
           "2024-11-02 18:23:02"
          ],
          [
           "2024-11-02 18:24:02"
          ],
          [
           "2024-11-02 18:25:02"
          ],
          [
           "2024-11-02 18:26:02"
          ],
          [
           "2024-11-02 18:27:02"
          ],
          [
           "2024-11-02 18:28:02"
          ],
          [
           "2024-11-02 18:29:02"
          ],
          [
           "2024-11-02 18:30:02"
          ],
          [
           "2024-11-02 18:31:02"
          ],
          [
           "2024-11-02 18:32:02"
          ],
          [
           "2024-11-02 18:33:02"
          ],
          [
           "2024-11-02 18:34:02"
          ],
          [
           "2024-11-02 18:35:02"
          ],
          [
           "2024-11-02 18:36:02"
          ],
          [
           "2024-11-02 18:37:02"
          ],
          [
           "2024-11-02 18:38:02"
          ],
          [
           "2024-11-02 18:39:02"
          ],
          [
           "2024-11-02 18:40:02"
          ],
          [
           "2024-11-02 18:41:02"
          ],
          [
           "2024-11-02 18:42:02"
          ],
          [
           "2024-11-02 18:43:02"
          ],
          [
           "2024-11-02 18:44:02"
          ],
          [
           "2024-11-02 18:45:02"
          ],
          [
           "2024-11-02 18:46:02"
          ],
          [
           "2024-11-02 18:47:02"
          ],
          [
           "2024-11-02 18:48:02"
          ],
          [
           "2024-11-02 18:49:02"
          ],
          [
           "2024-11-02 18:50:02"
          ],
          [
           "2024-11-02 18:51:02"
          ],
          [
           "2024-11-02 18:52:02"
          ]
         ],
         "geo": "geo",
         "hovertemplate": "<b>%{hovertext}</b><br><br>color=Satellite 1 (400.0 km)<br>lat=%{lat}<br>lon=%{lon}<br>Timestamp=%{customdata[0]}<extra></extra>",
         "hovertext": [
          "Satellite 1 (400.0 km)",
          "Satellite 1 (400.0 km)",
          "Satellite 1 (400.0 km)",
          "Satellite 1 (400.0 km)",
          "Satellite 1 (400.0 km)",
          "Satellite 1 (400.0 km)",
          "Satellite 1 (400.0 km)",
          "Satellite 1 (400.0 km)",
          "Satellite 1 (400.0 km)",
          "Satellite 1 (400.0 km)",
          "Satellite 1 (400.0 km)",
          "Satellite 1 (400.0 km)",
          "Satellite 1 (400.0 km)",
          "Satellite 1 (400.0 km)",
          "Satellite 1 (400.0 km)",
          "Satellite 1 (400.0 km)",
          "Satellite 1 (400.0 km)",
          "Satellite 1 (400.0 km)",
          "Satellite 1 (400.0 km)",
          "Satellite 1 (400.0 km)",
          "Satellite 1 (400.0 km)",
          "Satellite 1 (400.0 km)",
          "Satellite 1 (400.0 km)",
          "Satellite 1 (400.0 km)",
          "Satellite 1 (400.0 km)",
          "Satellite 1 (400.0 km)",
          "Satellite 1 (400.0 km)",
          "Satellite 1 (400.0 km)",
          "Satellite 1 (400.0 km)",
          "Satellite 1 (400.0 km)",
          "Satellite 1 (400.0 km)",
          "Satellite 1 (400.0 km)",
          "Satellite 1 (400.0 km)",
          "Satellite 1 (400.0 km)",
          "Satellite 1 (400.0 km)",
          "Satellite 1 (400.0 km)",
          "Satellite 1 (400.0 km)",
          "Satellite 1 (400.0 km)",
          "Satellite 1 (400.0 km)",
          "Satellite 1 (400.0 km)",
          "Satellite 1 (400.0 km)",
          "Satellite 1 (400.0 km)",
          "Satellite 1 (400.0 km)",
          "Satellite 1 (400.0 km)",
          "Satellite 1 (400.0 km)",
          "Satellite 1 (400.0 km)",
          "Satellite 1 (400.0 km)",
          "Satellite 1 (400.0 km)",
          "Satellite 1 (400.0 km)",
          "Satellite 1 (400.0 km)",
          "Satellite 1 (400.0 km)",
          "Satellite 1 (400.0 km)",
          "Satellite 1 (400.0 km)",
          "Satellite 1 (400.0 km)",
          "Satellite 1 (400.0 km)",
          "Satellite 1 (400.0 km)",
          "Satellite 1 (400.0 km)",
          "Satellite 1 (400.0 km)",
          "Satellite 1 (400.0 km)",
          "Satellite 1 (400.0 km)",
          "Satellite 1 (400.0 km)",
          "Satellite 1 (400.0 km)",
          "Satellite 1 (400.0 km)",
          "Satellite 1 (400.0 km)",
          "Satellite 1 (400.0 km)",
          "Satellite 1 (400.0 km)",
          "Satellite 1 (400.0 km)",
          "Satellite 1 (400.0 km)",
          "Satellite 1 (400.0 km)",
          "Satellite 1 (400.0 km)",
          "Satellite 1 (400.0 km)",
          "Satellite 1 (400.0 km)",
          "Satellite 1 (400.0 km)",
          "Satellite 1 (400.0 km)",
          "Satellite 1 (400.0 km)",
          "Satellite 1 (400.0 km)",
          "Satellite 1 (400.0 km)",
          "Satellite 1 (400.0 km)",
          "Satellite 1 (400.0 km)",
          "Satellite 1 (400.0 km)",
          "Satellite 1 (400.0 km)",
          "Satellite 1 (400.0 km)",
          "Satellite 1 (400.0 km)",
          "Satellite 1 (400.0 km)",
          "Satellite 1 (400.0 km)",
          "Satellite 1 (400.0 km)",
          "Satellite 1 (400.0 km)",
          "Satellite 1 (400.0 km)",
          "Satellite 1 (400.0 km)",
          "Satellite 1 (400.0 km)",
          "Satellite 1 (400.0 km)",
          "Satellite 1 (400.0 km)",
          "Satellite 1 (400.0 km)",
          "Satellite 1 (400.0 km)",
          "Satellite 1 (400.0 km)",
          "Satellite 1 (400.0 km)",
          "Satellite 1 (400.0 km)",
          "Satellite 1 (400.0 km)",
          "Satellite 1 (400.0 km)",
          "Satellite 1 (400.0 km)",
          "Satellite 1 (400.0 km)",
          "Satellite 1 (400.0 km)",
          "Satellite 1 (400.0 km)",
          "Satellite 1 (400.0 km)",
          "Satellite 1 (400.0 km)",
          "Satellite 1 (400.0 km)",
          "Satellite 1 (400.0 km)",
          "Satellite 1 (400.0 km)",
          "Satellite 1 (400.0 km)",
          "Satellite 1 (400.0 km)",
          "Satellite 1 (400.0 km)",
          "Satellite 1 (400.0 km)",
          "Satellite 1 (400.0 km)",
          "Satellite 1 (400.0 km)",
          "Satellite 1 (400.0 km)",
          "Satellite 1 (400.0 km)",
          "Satellite 1 (400.0 km)",
          "Satellite 1 (400.0 km)",
          "Satellite 1 (400.0 km)",
          "Satellite 1 (400.0 km)",
          "Satellite 1 (400.0 km)",
          "Satellite 1 (400.0 km)",
          "Satellite 1 (400.0 km)",
          "Satellite 1 (400.0 km)",
          "Satellite 1 (400.0 km)",
          "Satellite 1 (400.0 km)",
          "Satellite 1 (400.0 km)",
          "Satellite 1 (400.0 km)",
          "Satellite 1 (400.0 km)",
          "Satellite 1 (400.0 km)",
          "Satellite 1 (400.0 km)",
          "Satellite 1 (400.0 km)",
          "Satellite 1 (400.0 km)",
          "Satellite 1 (400.0 km)",
          "Satellite 1 (400.0 km)",
          "Satellite 1 (400.0 km)",
          "Satellite 1 (400.0 km)",
          "Satellite 1 (400.0 km)",
          "Satellite 1 (400.0 km)",
          "Satellite 1 (400.0 km)",
          "Satellite 1 (400.0 km)",
          "Satellite 1 (400.0 km)",
          "Satellite 1 (400.0 km)",
          "Satellite 1 (400.0 km)",
          "Satellite 1 (400.0 km)",
          "Satellite 1 (400.0 km)",
          "Satellite 1 (400.0 km)",
          "Satellite 1 (400.0 km)",
          "Satellite 1 (400.0 km)",
          "Satellite 1 (400.0 km)",
          "Satellite 1 (400.0 km)",
          "Satellite 1 (400.0 km)",
          "Satellite 1 (400.0 km)",
          "Satellite 1 (400.0 km)",
          "Satellite 1 (400.0 km)",
          "Satellite 1 (400.0 km)",
          "Satellite 1 (400.0 km)",
          "Satellite 1 (400.0 km)",
          "Satellite 1 (400.0 km)",
          "Satellite 1 (400.0 km)",
          "Satellite 1 (400.0 km)",
          "Satellite 1 (400.0 km)",
          "Satellite 1 (400.0 km)",
          "Satellite 1 (400.0 km)",
          "Satellite 1 (400.0 km)",
          "Satellite 1 (400.0 km)",
          "Satellite 1 (400.0 km)",
          "Satellite 1 (400.0 km)",
          "Satellite 1 (400.0 km)",
          "Satellite 1 (400.0 km)",
          "Satellite 1 (400.0 km)",
          "Satellite 1 (400.0 km)",
          "Satellite 1 (400.0 km)",
          "Satellite 1 (400.0 km)",
          "Satellite 1 (400.0 km)",
          "Satellite 1 (400.0 km)",
          "Satellite 1 (400.0 km)",
          "Satellite 1 (400.0 km)",
          "Satellite 1 (400.0 km)",
          "Satellite 1 (400.0 km)",
          "Satellite 1 (400.0 km)",
          "Satellite 1 (400.0 km)",
          "Satellite 1 (400.0 km)",
          "Satellite 1 (400.0 km)",
          "Satellite 1 (400.0 km)",
          "Satellite 1 (400.0 km)",
          "Satellite 1 (400.0 km)",
          "Satellite 1 (400.0 km)",
          "Satellite 1 (400.0 km)",
          "Satellite 1 (400.0 km)",
          "Satellite 1 (400.0 km)",
          "Satellite 1 (400.0 km)",
          "Satellite 1 (400.0 km)",
          "Satellite 1 (400.0 km)",
          "Satellite 1 (400.0 km)",
          "Satellite 1 (400.0 km)",
          "Satellite 1 (400.0 km)",
          "Satellite 1 (400.0 km)",
          "Satellite 1 (400.0 km)",
          "Satellite 1 (400.0 km)",
          "Satellite 1 (400.0 km)",
          "Satellite 1 (400.0 km)",
          "Satellite 1 (400.0 km)",
          "Satellite 1 (400.0 km)",
          "Satellite 1 (400.0 km)",
          "Satellite 1 (400.0 km)",
          "Satellite 1 (400.0 km)",
          "Satellite 1 (400.0 km)",
          "Satellite 1 (400.0 km)",
          "Satellite 1 (400.0 km)",
          "Satellite 1 (400.0 km)",
          "Satellite 1 (400.0 km)",
          "Satellite 1 (400.0 km)",
          "Satellite 1 (400.0 km)",
          "Satellite 1 (400.0 km)",
          "Satellite 1 (400.0 km)",
          "Satellite 1 (400.0 km)",
          "Satellite 1 (400.0 km)",
          "Satellite 1 (400.0 km)",
          "Satellite 1 (400.0 km)",
          "Satellite 1 (400.0 km)",
          "Satellite 1 (400.0 km)",
          "Satellite 1 (400.0 km)",
          "Satellite 1 (400.0 km)",
          "Satellite 1 (400.0 km)",
          "Satellite 1 (400.0 km)",
          "Satellite 1 (400.0 km)",
          "Satellite 1 (400.0 km)",
          "Satellite 1 (400.0 km)",
          "Satellite 1 (400.0 km)",
          "Satellite 1 (400.0 km)",
          "Satellite 1 (400.0 km)",
          "Satellite 1 (400.0 km)",
          "Satellite 1 (400.0 km)",
          "Satellite 1 (400.0 km)",
          "Satellite 1 (400.0 km)",
          "Satellite 1 (400.0 km)",
          "Satellite 1 (400.0 km)",
          "Satellite 1 (400.0 km)",
          "Satellite 1 (400.0 km)",
          "Satellite 1 (400.0 km)",
          "Satellite 1 (400.0 km)",
          "Satellite 1 (400.0 km)",
          "Satellite 1 (400.0 km)",
          "Satellite 1 (400.0 km)",
          "Satellite 1 (400.0 km)",
          "Satellite 1 (400.0 km)",
          "Satellite 1 (400.0 km)",
          "Satellite 1 (400.0 km)",
          "Satellite 1 (400.0 km)",
          "Satellite 1 (400.0 km)",
          "Satellite 1 (400.0 km)",
          "Satellite 1 (400.0 km)",
          "Satellite 1 (400.0 km)",
          "Satellite 1 (400.0 km)",
          "Satellite 1 (400.0 km)",
          "Satellite 1 (400.0 km)",
          "Satellite 1 (400.0 km)",
          "Satellite 1 (400.0 km)",
          "Satellite 1 (400.0 km)",
          "Satellite 1 (400.0 km)",
          "Satellite 1 (400.0 km)",
          "Satellite 1 (400.0 km)",
          "Satellite 1 (400.0 km)",
          "Satellite 1 (400.0 km)",
          "Satellite 1 (400.0 km)",
          "Satellite 1 (400.0 km)",
          "Satellite 1 (400.0 km)",
          "Satellite 1 (400.0 km)",
          "Satellite 1 (400.0 km)",
          "Satellite 1 (400.0 km)",
          "Satellite 1 (400.0 km)",
          "Satellite 1 (400.0 km)",
          "Satellite 1 (400.0 km)",
          "Satellite 1 (400.0 km)",
          "Satellite 1 (400.0 km)",
          "Satellite 1 (400.0 km)",
          "Satellite 1 (400.0 km)",
          "Satellite 1 (400.0 km)",
          "Satellite 1 (400.0 km)",
          "Satellite 1 (400.0 km)",
          "Satellite 1 (400.0 km)",
          "Satellite 1 (400.0 km)",
          "Satellite 1 (400.0 km)",
          "Satellite 1 (400.0 km)",
          "Satellite 1 (400.0 km)",
          "Satellite 1 (400.0 km)",
          "Satellite 1 (400.0 km)"
         ],
         "lat": [
          -3.433802559756559,
          0.4243563263119921,
          4.283056450470303,
          8.14200954828621,
          12.000913784681249,
          15.859443222526298,
          19.717235491544816,
          23.57387648635775,
          27.428880475197005,
          31.281663257060114,
          35.13150477113914,
          38.977495485675526,
          42.81845731152907,
          46.65282340739027,
          50.47844945652157,
          54.29230624708484,
          58.08995724969284,
          61.86462577436779,
          65.6054288370876,
          69.29379190968297,
          72.8955441953901,
          76.34177848758443,
          79.47833871558896,
          81.93522492676199,
          82.96049597618537,
          81.9845130734731,
          79.55393878443037,
          76.42910461430652,
          72.98847867361533,
          69.38971972332295,
          65.70311310614447,
          61.963421399412,
          58.189499484130174,
          54.39237503266089,
          50.578904898702305,
          46.75357269486084,
          42.9194366503284,
          39.07865969164887,
          35.23282099358856,
          31.383107040299265,
          27.530433198061633,
          23.675523642950733,
          19.81896550070366,
          15.961246577873201,
          12.102782427861655,
          8.243936389751664,
          4.385034987368223,
          0.5263803219343338,
          -3.331739361290199,
          -7.1890400123459335,
          -11.045232226996761,
          -14.9000110303371,
          -18.75304412791601,
          -22.603957547443333,
          -26.452317213843255,
          -30.297604361943563,
          -34.139181634441115,
          -37.976244944988856,
          -41.8077531632593,
          -45.63232235317018,
          -49.44806157499189,
          -53.252308771684824,
          -57.04118837377786,
          -60.808834532064886,
          -64.54594943840465,
          -68.23694528278371,
          -71.85381716431216,
          -75.3417642828569,
          -78.58219841209322,
          -81.29438199687343,
          -82.84971247311097,
          -82.49122018626313,
          -80.43163885983412,
          -77.48427741331898,
          -74.13640507621965,
          -70.59412136926086,
          -66.94677218148206,
          -63.23717872513729,
          -59.48793547826043,
          -55.71195033945626,
          -51.91708627625977,
          -48.1083901286519,
          -44.28924473598299,
          -40.462002595667755,
          -36.62835308909438,
          -32.78954500910404,
          -28.94652670646934,
          -25.100037401737286,
          -21.250668532057208,
          -17.39890616901685,
          -13.545161194810152,
          -9.689791428149963,
          -5.833118418818677,
          -1.9754407449543006,
          1.882954886958254,
          5.741783752904974,
          9.600753610587903,
          13.459554814894947,
          17.317849223758767,
          21.1752569003209,
          25.031339297808543,
          28.8855770704404,
          32.73733975354019,
          36.58584305733987,
          40.43008697555047,
          44.268763472336545,
          48.10011450414126,
          51.92170610086119,
          55.73005469595606,
          59.51998073339722,
          63.28343001982309,
          67.00718589195193,
          70.66808507869767,
          74.22209965757206,
          77.57693916207981,
          80.51855397535209,
          82.540713882497,
          82.8192456919016,
          81.18723613404067,
          78.42655829054617,
          75.1541224614078,
          71.64168577387245,
          68.00403680648174,
          64.29440213128217,
          60.54009600666803,
          56.75639061502209,
          52.95244084653003,
          49.13405491263034,
          45.305095037884385,
          41.46823355694394,
          37.62538419042973,
          33.777959823923304,
          29.927032906096883,
          26.073438823117996,
          22.217844650743096,
          18.36079623163096,
          14.502751339299746,
          10.644103742607964,
          6.785201259844252,
          2.9263598595335596,
          -0.9321247579346721,
          -4.789967034560981,
          -8.646882025898107,
          -12.502575692811385,
          -16.356734215483357,
          -20.209011400323973,
          -24.05901298264986,
          -27.90627616342584,
          -31.750241946031597,
          -35.5902165579689,
          -39.425316083754325,
          -43.25438470466126,
          -47.075870284876046,
          -50.887628712094944,
          -54.686604536395805,
          -58.46828689360521,
          -62.22573501913086,
          -65.94772646569626,
          -69.61498162510047,
          -73.19179883826482,
          -76.60570558357631,
          -79.69370552759464,
          -82.06585518020304,
          -82.95739000021014,
          -81.86597584022394,
          -79.38664351452236,
          -76.25070315534846,
          -72.81382010357541,
          -69.22472254065104,
          -65.55025203368396,
          -61.82368863735523,
          -58.06316397080708,
          -54.27930797215486,
          -50.478733300139545,
          -46.665758338637865,
          -42.843320147474124,
          -39.01348713272368,
          -35.17776145355873,
          -31.337265079422867,
          -27.49285853733013,
          -23.645219208022574,
          -19.79489451122756,
          -15.942339075526235,
          -12.087941475940829,
          -8.232044083293903,
          -4.374958356555689,
          -0.5169771780494026,
          3.341614608149656,
          7.200530545103967,
          11.059473008176722,
          14.918122966219096,
          18.776128184110433,
          22.633088772563944,
          26.488538597940988,
          30.341920407076323,
          34.192551432056305,
          38.03957441483442,
          41.88188586345557,
          45.718027828524384,
          49.546019378936485,
          53.363084661373975,
          57.16519579173151,
          60.94626704752351,
          64.69665231748009,
          68.4001498143784,
          72.02753771602012,
          75.52128420347687,
          78.75590060064229,
          81.43247036583685,
          82.88988184534534,
          82.39182400564454,
          80.23301924459211,
          77.22968695384229,
          73.84628798824016,
          70.27756919170618,
          66.60831442695562,
          62.87942665758138,
          59.11263217705765,
          55.32042449586567,
          51.51046538640691,
          47.68770781251976,
          43.85549761262512,
          40.016181388920515,
          36.17145974241433,
          32.322601786373,
          28.470580478569882,
          24.616160916282414,
          20.759959721161025,
          16.902486140925017,
          13.044171321737378,
          9.185389805615113,
          5.326475889508023,
          1.46773663019919,
          -2.3905372348564846,
          -6.248061481136506,
          -10.10454889023299,
          -13.959699269887757,
          -17.813188166894708,
          -21.664653260620934,
          -25.51367709215101,
          -29.359764219667053,
          -33.202309956723596,
          -37.040556293239504,
          -40.87352795332708,
          -44.6999369194977,
          -48.51803538879799,
          -52.32538138492836,
          -56.11845022938975,
          -59.89196062327291,
          -63.63764176268964,
          -67.3418308018844,
          -70.98042579883965,
          -74.5073104244164,
          -77.82519161976337,
          -80.70761532152264,
          -82.62514518129244,
          -82.76501621529893,
          -81.04355474420551,
          -78.25230296108656,
          -74.97606300707378,
          -71.47023618688164,
          -67.84344092693695,
          -64.14643591971648,
          -60.40542148861408,
          -56.63510067314743,
          -52.844301652405214,
          -49.038624181065096,
          -45.22178476960939,
          -41.396346126393176,
          -37.56413485888733,
          -33.72649200293593,
          -29.884429401909003,
          -26.038730790118166,
          -22.1900192140266,
          -18.33880332855573,
          -14.485510102194347,
          -10.63050861412894,
          -6.774127955179239,
          -2.9166712436481275,
          0.9415728377128106,
          4.8003199362625315,
          8.659280504520686,
          12.5181500807739,
          16.376598572162788,
          20.23425759929181,
          24.09070468359015,
          27.945442579712275,
          31.797871258856684
         ],
         "legendgroup": "Satellite 1 (400.0 km)",
         "lon": [
          3.1263633498894663,
          2.9009971608567997,
          2.675083210542832,
          2.444251353068225,
          2.203950176861109,
          1.949272406578097,
          1.6747515747420783,
          1.3741114196876363,
          1.0399424313533205,
          0.6632682931908722,
          0.23294569313368463,
          -0.26519129065951574,
          -0.8495863237006915,
          -1.544857216893547,
          -2.3847539643365963,
          -3.416938906968767,
          -4.7110272435427305,
          -6.372746805400425,
          -8.570223459455917,
          -11.585776433901856,
          -15.924699647957482,
          -22.556192505358638,
          -33.4341548627487,
          -52.14167411616529,
          -80.84356900031025,
          -109.73927142183283,
          -128.7089246418795,
          -139.73923700310564,
          -146.4512759189489,
          -150.83515501877238,
          -153.87765732166451,
          -156.09233844219176,
          -157.7656214430608,
          -159.0678107069936,
          -160.1058632840243,
          -160.95012551417238,
          -161.64871456151616,
          -162.23567429324953,
          -162.73581857465473,
          -163.1677254157998,
          -163.54565483618163,
          -163.88081718677387,
          -164.18223709972324,
          -164.457359068079,
          -164.71248454859622,
          -164.95309776463458,
          -165.18411785267216,
          -165.41010316846558,
          -165.63542643724588,
          -165.86443532698786,
          -166.10161104504022,
          -166.35173729157916,
          -166.62009329313392,
          -166.91268797354329,
          -167.23655831518766,
          -167.60016498813008,
          -168.01393485337405,
          -168.49102745421072,
          -169.04844936106622,
          -169.7087219561122,
          -170.5024559649376,
          -171.47246356187551,
          -172.68058350043196,
          -174.21951708005668,
          -176.23441344441125,
          -178.96455762744523,
          177.17090279836216,
          171.38600519719657,
          162.11496285431278,
          146.3102026030636,
          120.46615318760566,
          90.08870354321716,
          67.91291189676727,
          54.86366830862701,
          47.072701603338444,
          42.088358747694244,
          38.68734818877378,
          36.24443521276872,
          34.41796582817254,
          33.00848289825403,
          31.89266307091213,
          30.990464440341945,
          30.247756654362,
          29.626618788950147,
          29.09965389552055,
          28.64651505415983,
          28.251703220741756,
          27.903124646677924,
          27.591116979373318,
          27.307772637461326,
          27.046454978248835,
          26.801441466355378,
          26.567651008366926,
          26.340426480909827,
          26.115351876654934,
          25.888088437386706,
          25.654216737484273,
          25.4090724742193,
          25.147562875872676,
          24.863947980428232,
          24.55156600162831,
          24.202473459025924,
          23.806956648572566,
          23.352847662661734,
          22.824538737397766,
          22.201520403193044,
          21.45614675986127,
          20.550104475233308,
          19.428623191308183,
          18.010574058480287,
          16.170696848479018,
          13.705880861915043,
          10.267108740929995,
          5.213205094836603,
          -2.715561789771357,
          -16.04815601213096,
          -38.70218048420884,
          -69.30898761811011,
          -94.81907028205217,
          -110.2791356383733,
          -119.34589889609339,
          -125.01424944702185,
          -128.80849654620243,
          -131.49348788419775,
          -133.47776339150604,
          -134.99499704166936,
          -136.18718861162336,
          -137.14517278423406,
          -137.9296284286573,
          -138.58261735875837,
          -139.1342480480159,
          -139.60669595116215,
          -140.01672369597753,
          -140.3773155454752,
          -140.6987706820908,
          -140.9894560477295,
          -141.25633982200634,
          -141.50538100905132,
          -141.7418237455354,
          -141.97042879846538,
          -142.19566493310916,
          -142.42187698963582,
          -142.65344428087002,
          -142.89494161983083,
          -143.15131563376366,
          -143.42809109211836,
          -143.73162620349567,
          -144.0694431479675,
          -144.45067222174242,
          -144.88666797215572,
          -145.39188921828904,
          -145.98519238489536,
          -146.69178936573155,
          -147.5463077190705,
          -148.5977471458202,
          -149.9178377270352,
          -151.61580103148947,
          -153.86583738681745,
          -156.96146428694945,
          -161.42993946065752,
          -168.28555613459497,
          -179.56902456949734,
          161.07491266337067,
          132.00747542779422,
          103.72260619996192,
          85.43108304391694,
          74.76930521544932,
          68.243203347292,
          63.958883896047965,
          60.973731923658264,
          58.79425382000895,
          57.14372730838184,
          55.85687542633067,
          54.829514416727356,
          53.99291187704489,
          53.299933423179795,
          52.71715700259935,
          52.220175119365884,
          51.79068265830085,
          51.41460702742337,
          51.080868912987015,
          50.78053645296931,
          50.50623122175563,
          50.251698635757734,
          50.011487067437535,
          49.7806988982994,
          49.55478821992376,
          49.32938680765644,
          49.10014395337799,
          48.86256761576668,
          48.61185451915569,
          48.34269534088841,
          48.049037661187675,
          47.72378316095499,
          47.35838522046475,
          46.94229602910598,
          46.46218391285152,
          45.90079321891358,
          45.23523435040172,
          44.43433792870172,
          43.45441754635972,
          42.23221531899729,
          40.672624314455106,
          38.62620331899153,
          35.845535836126864,
          31.894985296708153,
          25.952829346224746,
          16.37391442402602,
          -0.025495274440061166,
          -26.607454293800743,
          -56.881183954158075,
          -78.3819017761324,
          -90.95522320999828,
          -98.48224092659609,
          -103.31668060449226,
          -106.62674284140104,
          -109.010895675552,
          -110.79736510887116,
          -112.17844887861403,
          -113.27341616677663,
          -114.15988749229427,
          -114.89047945480559,
          -115.50212926351435,
          -116.02157335311045,
          -116.46870284417199,
          -116.85869511336085,
          -117.20341287739575,
          -117.51235050101451,
          -117.7932926964738,
          -118.05278649975435,
          -118.29649018150212,
          -118.52944063625245,
          -118.75626743279099,
          -118.98137362366779,
          -119.20909867409608,
          -119.44387642656937,
          -119.69040035092098,
          -119.95380930228791,
          -120.23990982218771,
          -120.55545626836994,
          -120.90851892589592,
          -121.30898487909369,
          -121.76926067901687,
          -122.30528682235922,
          -122.93804516477078,
          -123.69586781907023,
          -124.61809313213479,
          -125.7610743753491,
          -127.2084831380784,
          -129.08985830025196,
          -131.61591011762215,
          -135.14999894147792,
          -140.362039995626,
          -148.5707543703149,
          -162.4047117661809,
          174.27830478811927,
          143.6887919294324,
          118.93598538055907,
          104.03081682565949,
          95.24764763135856,
          89.72485206934503,
          86.01076626178923,
          83.37314053500839,
          81.41855279147946,
          79.92083626236183,
          78.74197879120341,
          77.79339267619716,
          77.01573048650822,
          76.36775361700806,
          75.81988120074024,
          75.35028634993608,
          74.94244264120111,
          74.58352922644511,
          74.26336179251568,
          73.97365497636005,
          73.70749869321804,
          73.45897494552028,
          73.22286770261186,
          72.9944341038768,
          72.76921473669735,
          72.54286639922066,
          72.31100385771869,
          72.0690383126254,
          71.81199984479898,
          71.53432893275864,
          71.22961775380051,
          70.89027444175301,
          70.50707099193569
         ],
         "marker": {
          "color": "#636efa",
          "symbol": "circle"
         },
         "mode": "markers",
         "name": "Satellite 1 (400.0 km)",
         "showlegend": true,
         "type": "scattergeo"
        },
        {
         "customdata": [
          [
           "2024-11-02 14:05:02"
          ],
          [
           "2024-11-02 14:06:02"
          ],
          [
           "2024-11-02 14:07:02"
          ],
          [
           "2024-11-02 14:08:02"
          ],
          [
           "2024-11-02 14:09:02"
          ],
          [
           "2024-11-02 14:10:02"
          ],
          [
           "2024-11-02 14:11:02"
          ],
          [
           "2024-11-02 14:12:02"
          ],
          [
           "2024-11-02 14:13:02"
          ],
          [
           "2024-11-02 14:14:02"
          ],
          [
           "2024-11-02 14:15:02"
          ],
          [
           "2024-11-02 14:16:02"
          ],
          [
           "2024-11-02 14:17:02"
          ],
          [
           "2024-11-02 14:18:02"
          ],
          [
           "2024-11-02 14:19:02"
          ],
          [
           "2024-11-02 14:20:02"
          ],
          [
           "2024-11-02 14:21:02"
          ],
          [
           "2024-11-02 14:22:02"
          ],
          [
           "2024-11-02 14:23:02"
          ],
          [
           "2024-11-02 14:24:02"
          ],
          [
           "2024-11-02 14:25:02"
          ],
          [
           "2024-11-02 14:26:02"
          ],
          [
           "2024-11-02 14:27:02"
          ],
          [
           "2024-11-02 14:28:02"
          ],
          [
           "2024-11-02 14:29:02"
          ],
          [
           "2024-11-02 14:30:02"
          ],
          [
           "2024-11-02 14:31:02"
          ],
          [
           "2024-11-02 14:32:02"
          ],
          [
           "2024-11-02 14:33:02"
          ],
          [
           "2024-11-02 14:34:02"
          ],
          [
           "2024-11-02 14:35:02"
          ],
          [
           "2024-11-02 14:36:02"
          ],
          [
           "2024-11-02 14:37:02"
          ],
          [
           "2024-11-02 14:38:02"
          ],
          [
           "2024-11-02 14:39:02"
          ],
          [
           "2024-11-02 14:40:02"
          ],
          [
           "2024-11-02 14:41:02"
          ],
          [
           "2024-11-02 14:42:02"
          ],
          [
           "2024-11-02 14:43:02"
          ],
          [
           "2024-11-02 14:44:02"
          ],
          [
           "2024-11-02 14:45:02"
          ],
          [
           "2024-11-02 14:46:02"
          ],
          [
           "2024-11-02 14:47:02"
          ],
          [
           "2024-11-02 14:48:02"
          ],
          [
           "2024-11-02 14:49:02"
          ],
          [
           "2024-11-02 14:50:02"
          ],
          [
           "2024-11-02 14:51:02"
          ],
          [
           "2024-11-02 14:52:02"
          ],
          [
           "2024-11-02 14:53:02"
          ],
          [
           "2024-11-02 14:54:02"
          ],
          [
           "2024-11-02 14:55:02"
          ],
          [
           "2024-11-02 14:56:02"
          ],
          [
           "2024-11-02 14:57:02"
          ],
          [
           "2024-11-02 14:58:02"
          ],
          [
           "2024-11-02 14:59:02"
          ],
          [
           "2024-11-02 15:00:02"
          ],
          [
           "2024-11-02 15:01:02"
          ],
          [
           "2024-11-02 15:02:02"
          ],
          [
           "2024-11-02 15:03:02"
          ],
          [
           "2024-11-02 15:04:02"
          ],
          [
           "2024-11-02 15:05:02"
          ],
          [
           "2024-11-02 15:06:02"
          ],
          [
           "2024-11-02 15:07:02"
          ],
          [
           "2024-11-02 15:08:02"
          ],
          [
           "2024-11-02 15:09:02"
          ],
          [
           "2024-11-02 15:10:02"
          ],
          [
           "2024-11-02 15:11:02"
          ],
          [
           "2024-11-02 15:12:02"
          ],
          [
           "2024-11-02 15:13:02"
          ],
          [
           "2024-11-02 15:14:02"
          ],
          [
           "2024-11-02 15:15:02"
          ],
          [
           "2024-11-02 15:16:02"
          ],
          [
           "2024-11-02 15:17:02"
          ],
          [
           "2024-11-02 15:18:02"
          ],
          [
           "2024-11-02 15:19:02"
          ],
          [
           "2024-11-02 15:20:02"
          ],
          [
           "2024-11-02 15:21:02"
          ],
          [
           "2024-11-02 15:22:02"
          ],
          [
           "2024-11-02 15:23:02"
          ],
          [
           "2024-11-02 15:24:02"
          ],
          [
           "2024-11-02 15:25:02"
          ],
          [
           "2024-11-02 15:26:02"
          ],
          [
           "2024-11-02 15:27:02"
          ],
          [
           "2024-11-02 15:28:02"
          ],
          [
           "2024-11-02 15:29:02"
          ],
          [
           "2024-11-02 15:30:02"
          ],
          [
           "2024-11-02 15:31:02"
          ],
          [
           "2024-11-02 15:32:02"
          ],
          [
           "2024-11-02 15:33:02"
          ],
          [
           "2024-11-02 15:34:02"
          ],
          [
           "2024-11-02 15:35:02"
          ],
          [
           "2024-11-02 15:36:02"
          ],
          [
           "2024-11-02 15:37:02"
          ],
          [
           "2024-11-02 15:38:02"
          ],
          [
           "2024-11-02 15:39:02"
          ],
          [
           "2024-11-02 15:40:02"
          ],
          [
           "2024-11-02 15:41:02"
          ],
          [
           "2024-11-02 15:42:02"
          ],
          [
           "2024-11-02 15:43:02"
          ],
          [
           "2024-11-02 15:44:02"
          ],
          [
           "2024-11-02 15:45:02"
          ],
          [
           "2024-11-02 15:46:02"
          ],
          [
           "2024-11-02 15:47:02"
          ],
          [
           "2024-11-02 15:48:02"
          ],
          [
           "2024-11-02 15:49:02"
          ],
          [
           "2024-11-02 15:50:02"
          ],
          [
           "2024-11-02 15:51:02"
          ],
          [
           "2024-11-02 15:52:02"
          ],
          [
           "2024-11-02 15:53:02"
          ],
          [
           "2024-11-02 15:54:02"
          ],
          [
           "2024-11-02 15:55:02"
          ],
          [
           "2024-11-02 15:56:02"
          ],
          [
           "2024-11-02 15:57:02"
          ],
          [
           "2024-11-02 15:58:02"
          ],
          [
           "2024-11-02 15:59:02"
          ],
          [
           "2024-11-02 16:00:02"
          ],
          [
           "2024-11-02 16:01:02"
          ],
          [
           "2024-11-02 16:02:02"
          ],
          [
           "2024-11-02 16:03:02"
          ],
          [
           "2024-11-02 16:04:02"
          ],
          [
           "2024-11-02 16:05:02"
          ],
          [
           "2024-11-02 16:06:02"
          ],
          [
           "2024-11-02 16:07:02"
          ],
          [
           "2024-11-02 16:08:02"
          ],
          [
           "2024-11-02 16:09:02"
          ],
          [
           "2024-11-02 16:10:02"
          ],
          [
           "2024-11-02 16:11:02"
          ],
          [
           "2024-11-02 16:12:02"
          ],
          [
           "2024-11-02 16:13:02"
          ],
          [
           "2024-11-02 16:14:02"
          ],
          [
           "2024-11-02 16:15:02"
          ],
          [
           "2024-11-02 16:16:02"
          ],
          [
           "2024-11-02 16:17:02"
          ],
          [
           "2024-11-02 16:18:02"
          ],
          [
           "2024-11-02 16:19:02"
          ],
          [
           "2024-11-02 16:20:02"
          ],
          [
           "2024-11-02 16:21:02"
          ],
          [
           "2024-11-02 16:22:02"
          ],
          [
           "2024-11-02 16:23:02"
          ],
          [
           "2024-11-02 16:24:02"
          ],
          [
           "2024-11-02 16:25:02"
          ],
          [
           "2024-11-02 16:26:02"
          ],
          [
           "2024-11-02 16:27:02"
          ],
          [
           "2024-11-02 16:28:02"
          ],
          [
           "2024-11-02 16:29:02"
          ],
          [
           "2024-11-02 16:30:02"
          ],
          [
           "2024-11-02 16:31:02"
          ],
          [
           "2024-11-02 16:32:02"
          ],
          [
           "2024-11-02 16:33:02"
          ],
          [
           "2024-11-02 16:34:02"
          ],
          [
           "2024-11-02 16:35:02"
          ],
          [
           "2024-11-02 16:36:02"
          ],
          [
           "2024-11-02 16:37:02"
          ],
          [
           "2024-11-02 16:38:02"
          ],
          [
           "2024-11-02 16:39:02"
          ],
          [
           "2024-11-02 16:40:02"
          ],
          [
           "2024-11-02 16:41:02"
          ],
          [
           "2024-11-02 16:42:02"
          ],
          [
           "2024-11-02 16:43:02"
          ],
          [
           "2024-11-02 16:44:02"
          ],
          [
           "2024-11-02 16:45:02"
          ],
          [
           "2024-11-02 16:46:02"
          ],
          [
           "2024-11-02 16:47:02"
          ],
          [
           "2024-11-02 16:48:02"
          ],
          [
           "2024-11-02 16:49:02"
          ],
          [
           "2024-11-02 16:50:02"
          ],
          [
           "2024-11-02 16:51:02"
          ],
          [
           "2024-11-02 16:52:02"
          ],
          [
           "2024-11-02 16:53:02"
          ],
          [
           "2024-11-02 16:54:02"
          ],
          [
           "2024-11-02 16:55:02"
          ],
          [
           "2024-11-02 16:56:02"
          ],
          [
           "2024-11-02 16:57:02"
          ],
          [
           "2024-11-02 16:58:02"
          ],
          [
           "2024-11-02 16:59:02"
          ],
          [
           "2024-11-02 17:00:02"
          ],
          [
           "2024-11-02 17:01:02"
          ],
          [
           "2024-11-02 17:02:02"
          ],
          [
           "2024-11-02 17:03:02"
          ],
          [
           "2024-11-02 17:04:02"
          ],
          [
           "2024-11-02 17:05:02"
          ],
          [
           "2024-11-02 17:06:02"
          ],
          [
           "2024-11-02 17:07:02"
          ],
          [
           "2024-11-02 17:08:02"
          ],
          [
           "2024-11-02 17:09:02"
          ],
          [
           "2024-11-02 17:10:02"
          ],
          [
           "2024-11-02 17:11:02"
          ],
          [
           "2024-11-02 17:12:02"
          ],
          [
           "2024-11-02 17:13:02"
          ],
          [
           "2024-11-02 17:14:02"
          ],
          [
           "2024-11-02 17:15:02"
          ],
          [
           "2024-11-02 17:16:02"
          ],
          [
           "2024-11-02 17:17:02"
          ],
          [
           "2024-11-02 17:18:02"
          ],
          [
           "2024-11-02 17:19:02"
          ],
          [
           "2024-11-02 17:20:02"
          ],
          [
           "2024-11-02 17:21:02"
          ],
          [
           "2024-11-02 17:22:02"
          ],
          [
           "2024-11-02 17:23:02"
          ],
          [
           "2024-11-02 17:24:02"
          ],
          [
           "2024-11-02 17:25:02"
          ],
          [
           "2024-11-02 17:26:02"
          ],
          [
           "2024-11-02 17:27:02"
          ],
          [
           "2024-11-02 17:28:02"
          ],
          [
           "2024-11-02 17:29:02"
          ],
          [
           "2024-11-02 17:30:02"
          ],
          [
           "2024-11-02 17:31:02"
          ],
          [
           "2024-11-02 17:32:02"
          ],
          [
           "2024-11-02 17:33:02"
          ],
          [
           "2024-11-02 17:34:02"
          ],
          [
           "2024-11-02 17:35:02"
          ],
          [
           "2024-11-02 17:36:02"
          ],
          [
           "2024-11-02 17:37:02"
          ],
          [
           "2024-11-02 17:38:02"
          ],
          [
           "2024-11-02 17:39:02"
          ],
          [
           "2024-11-02 17:40:02"
          ],
          [
           "2024-11-02 17:41:02"
          ],
          [
           "2024-11-02 17:42:02"
          ],
          [
           "2024-11-02 17:43:02"
          ],
          [
           "2024-11-02 17:44:02"
          ],
          [
           "2024-11-02 17:45:02"
          ],
          [
           "2024-11-02 17:46:02"
          ],
          [
           "2024-11-02 17:47:02"
          ],
          [
           "2024-11-02 17:48:02"
          ],
          [
           "2024-11-02 17:49:02"
          ],
          [
           "2024-11-02 17:50:02"
          ],
          [
           "2024-11-02 17:51:02"
          ],
          [
           "2024-11-02 17:52:02"
          ],
          [
           "2024-11-02 17:53:02"
          ],
          [
           "2024-11-02 17:54:02"
          ],
          [
           "2024-11-02 17:55:02"
          ],
          [
           "2024-11-02 17:56:02"
          ],
          [
           "2024-11-02 17:57:02"
          ],
          [
           "2024-11-02 17:58:02"
          ],
          [
           "2024-11-02 17:59:02"
          ],
          [
           "2024-11-02 18:00:02"
          ],
          [
           "2024-11-02 18:01:02"
          ],
          [
           "2024-11-02 18:02:02"
          ],
          [
           "2024-11-02 18:03:02"
          ],
          [
           "2024-11-02 18:04:02"
          ],
          [
           "2024-11-02 18:05:02"
          ],
          [
           "2024-11-02 18:06:02"
          ],
          [
           "2024-11-02 18:07:02"
          ],
          [
           "2024-11-02 18:08:02"
          ],
          [
           "2024-11-02 18:09:02"
          ],
          [
           "2024-11-02 18:10:02"
          ],
          [
           "2024-11-02 18:11:02"
          ],
          [
           "2024-11-02 18:12:02"
          ],
          [
           "2024-11-02 18:13:02"
          ],
          [
           "2024-11-02 18:14:02"
          ],
          [
           "2024-11-02 18:15:02"
          ],
          [
           "2024-11-02 18:16:02"
          ],
          [
           "2024-11-02 18:17:02"
          ],
          [
           "2024-11-02 18:18:02"
          ],
          [
           "2024-11-02 18:19:02"
          ],
          [
           "2024-11-02 18:20:02"
          ],
          [
           "2024-11-02 18:21:02"
          ],
          [
           "2024-11-02 18:22:02"
          ],
          [
           "2024-11-02 18:23:02"
          ],
          [
           "2024-11-02 18:24:02"
          ],
          [
           "2024-11-02 18:25:02"
          ],
          [
           "2024-11-02 18:26:02"
          ],
          [
           "2024-11-02 18:27:02"
          ],
          [
           "2024-11-02 18:28:02"
          ],
          [
           "2024-11-02 18:29:02"
          ],
          [
           "2024-11-02 18:30:02"
          ],
          [
           "2024-11-02 18:31:02"
          ],
          [
           "2024-11-02 18:32:02"
          ],
          [
           "2024-11-02 18:33:02"
          ],
          [
           "2024-11-02 18:34:02"
          ],
          [
           "2024-11-02 18:35:02"
          ],
          [
           "2024-11-02 18:36:02"
          ],
          [
           "2024-11-02 18:37:02"
          ],
          [
           "2024-11-02 18:38:02"
          ],
          [
           "2024-11-02 18:39:02"
          ],
          [
           "2024-11-02 18:40:02"
          ],
          [
           "2024-11-02 18:41:02"
          ],
          [
           "2024-11-02 18:42:02"
          ],
          [
           "2024-11-02 18:43:02"
          ],
          [
           "2024-11-02 18:44:02"
          ],
          [
           "2024-11-02 18:45:02"
          ],
          [
           "2024-11-02 18:46:02"
          ],
          [
           "2024-11-02 18:47:02"
          ],
          [
           "2024-11-02 18:48:02"
          ],
          [
           "2024-11-02 18:49:02"
          ],
          [
           "2024-11-02 18:50:02"
          ],
          [
           "2024-11-02 18:51:02"
          ],
          [
           "2024-11-02 18:52:02"
          ]
         ],
         "geo": "geo",
         "hovertemplate": "<b>%{hovertext}</b><br><br>color=Satellite 2 (500.0 km)<br>lat=%{lat}<br>lon=%{lon}<br>Timestamp=%{customdata[0]}<extra></extra>",
         "hovertext": [
          "Satellite 2 (500.0 km)",
          "Satellite 2 (500.0 km)",
          "Satellite 2 (500.0 km)",
          "Satellite 2 (500.0 km)",
          "Satellite 2 (500.0 km)",
          "Satellite 2 (500.0 km)",
          "Satellite 2 (500.0 km)",
          "Satellite 2 (500.0 km)",
          "Satellite 2 (500.0 km)",
          "Satellite 2 (500.0 km)",
          "Satellite 2 (500.0 km)",
          "Satellite 2 (500.0 km)",
          "Satellite 2 (500.0 km)",
          "Satellite 2 (500.0 km)",
          "Satellite 2 (500.0 km)",
          "Satellite 2 (500.0 km)",
          "Satellite 2 (500.0 km)",
          "Satellite 2 (500.0 km)",
          "Satellite 2 (500.0 km)",
          "Satellite 2 (500.0 km)",
          "Satellite 2 (500.0 km)",
          "Satellite 2 (500.0 km)",
          "Satellite 2 (500.0 km)",
          "Satellite 2 (500.0 km)",
          "Satellite 2 (500.0 km)",
          "Satellite 2 (500.0 km)",
          "Satellite 2 (500.0 km)",
          "Satellite 2 (500.0 km)",
          "Satellite 2 (500.0 km)",
          "Satellite 2 (500.0 km)",
          "Satellite 2 (500.0 km)",
          "Satellite 2 (500.0 km)",
          "Satellite 2 (500.0 km)",
          "Satellite 2 (500.0 km)",
          "Satellite 2 (500.0 km)",
          "Satellite 2 (500.0 km)",
          "Satellite 2 (500.0 km)",
          "Satellite 2 (500.0 km)",
          "Satellite 2 (500.0 km)",
          "Satellite 2 (500.0 km)",
          "Satellite 2 (500.0 km)",
          "Satellite 2 (500.0 km)",
          "Satellite 2 (500.0 km)",
          "Satellite 2 (500.0 km)",
          "Satellite 2 (500.0 km)",
          "Satellite 2 (500.0 km)",
          "Satellite 2 (500.0 km)",
          "Satellite 2 (500.0 km)",
          "Satellite 2 (500.0 km)",
          "Satellite 2 (500.0 km)",
          "Satellite 2 (500.0 km)",
          "Satellite 2 (500.0 km)",
          "Satellite 2 (500.0 km)",
          "Satellite 2 (500.0 km)",
          "Satellite 2 (500.0 km)",
          "Satellite 2 (500.0 km)",
          "Satellite 2 (500.0 km)",
          "Satellite 2 (500.0 km)",
          "Satellite 2 (500.0 km)",
          "Satellite 2 (500.0 km)",
          "Satellite 2 (500.0 km)",
          "Satellite 2 (500.0 km)",
          "Satellite 2 (500.0 km)",
          "Satellite 2 (500.0 km)",
          "Satellite 2 (500.0 km)",
          "Satellite 2 (500.0 km)",
          "Satellite 2 (500.0 km)",
          "Satellite 2 (500.0 km)",
          "Satellite 2 (500.0 km)",
          "Satellite 2 (500.0 km)",
          "Satellite 2 (500.0 km)",
          "Satellite 2 (500.0 km)",
          "Satellite 2 (500.0 km)",
          "Satellite 2 (500.0 km)",
          "Satellite 2 (500.0 km)",
          "Satellite 2 (500.0 km)",
          "Satellite 2 (500.0 km)",
          "Satellite 2 (500.0 km)",
          "Satellite 2 (500.0 km)",
          "Satellite 2 (500.0 km)",
          "Satellite 2 (500.0 km)",
          "Satellite 2 (500.0 km)",
          "Satellite 2 (500.0 km)",
          "Satellite 2 (500.0 km)",
          "Satellite 2 (500.0 km)",
          "Satellite 2 (500.0 km)",
          "Satellite 2 (500.0 km)",
          "Satellite 2 (500.0 km)",
          "Satellite 2 (500.0 km)",
          "Satellite 2 (500.0 km)",
          "Satellite 2 (500.0 km)",
          "Satellite 2 (500.0 km)",
          "Satellite 2 (500.0 km)",
          "Satellite 2 (500.0 km)",
          "Satellite 2 (500.0 km)",
          "Satellite 2 (500.0 km)",
          "Satellite 2 (500.0 km)",
          "Satellite 2 (500.0 km)",
          "Satellite 2 (500.0 km)",
          "Satellite 2 (500.0 km)",
          "Satellite 2 (500.0 km)",
          "Satellite 2 (500.0 km)",
          "Satellite 2 (500.0 km)",
          "Satellite 2 (500.0 km)",
          "Satellite 2 (500.0 km)",
          "Satellite 2 (500.0 km)",
          "Satellite 2 (500.0 km)",
          "Satellite 2 (500.0 km)",
          "Satellite 2 (500.0 km)",
          "Satellite 2 (500.0 km)",
          "Satellite 2 (500.0 km)",
          "Satellite 2 (500.0 km)",
          "Satellite 2 (500.0 km)",
          "Satellite 2 (500.0 km)",
          "Satellite 2 (500.0 km)",
          "Satellite 2 (500.0 km)",
          "Satellite 2 (500.0 km)",
          "Satellite 2 (500.0 km)",
          "Satellite 2 (500.0 km)",
          "Satellite 2 (500.0 km)",
          "Satellite 2 (500.0 km)",
          "Satellite 2 (500.0 km)",
          "Satellite 2 (500.0 km)",
          "Satellite 2 (500.0 km)",
          "Satellite 2 (500.0 km)",
          "Satellite 2 (500.0 km)",
          "Satellite 2 (500.0 km)",
          "Satellite 2 (500.0 km)",
          "Satellite 2 (500.0 km)",
          "Satellite 2 (500.0 km)",
          "Satellite 2 (500.0 km)",
          "Satellite 2 (500.0 km)",
          "Satellite 2 (500.0 km)",
          "Satellite 2 (500.0 km)",
          "Satellite 2 (500.0 km)",
          "Satellite 2 (500.0 km)",
          "Satellite 2 (500.0 km)",
          "Satellite 2 (500.0 km)",
          "Satellite 2 (500.0 km)",
          "Satellite 2 (500.0 km)",
          "Satellite 2 (500.0 km)",
          "Satellite 2 (500.0 km)",
          "Satellite 2 (500.0 km)",
          "Satellite 2 (500.0 km)",
          "Satellite 2 (500.0 km)",
          "Satellite 2 (500.0 km)",
          "Satellite 2 (500.0 km)",
          "Satellite 2 (500.0 km)",
          "Satellite 2 (500.0 km)",
          "Satellite 2 (500.0 km)",
          "Satellite 2 (500.0 km)",
          "Satellite 2 (500.0 km)",
          "Satellite 2 (500.0 km)",
          "Satellite 2 (500.0 km)",
          "Satellite 2 (500.0 km)",
          "Satellite 2 (500.0 km)",
          "Satellite 2 (500.0 km)",
          "Satellite 2 (500.0 km)",
          "Satellite 2 (500.0 km)",
          "Satellite 2 (500.0 km)",
          "Satellite 2 (500.0 km)",
          "Satellite 2 (500.0 km)",
          "Satellite 2 (500.0 km)",
          "Satellite 2 (500.0 km)",
          "Satellite 2 (500.0 km)",
          "Satellite 2 (500.0 km)",
          "Satellite 2 (500.0 km)",
          "Satellite 2 (500.0 km)",
          "Satellite 2 (500.0 km)",
          "Satellite 2 (500.0 km)",
          "Satellite 2 (500.0 km)",
          "Satellite 2 (500.0 km)",
          "Satellite 2 (500.0 km)",
          "Satellite 2 (500.0 km)",
          "Satellite 2 (500.0 km)",
          "Satellite 2 (500.0 km)",
          "Satellite 2 (500.0 km)",
          "Satellite 2 (500.0 km)",
          "Satellite 2 (500.0 km)",
          "Satellite 2 (500.0 km)",
          "Satellite 2 (500.0 km)",
          "Satellite 2 (500.0 km)",
          "Satellite 2 (500.0 km)",
          "Satellite 2 (500.0 km)",
          "Satellite 2 (500.0 km)",
          "Satellite 2 (500.0 km)",
          "Satellite 2 (500.0 km)",
          "Satellite 2 (500.0 km)",
          "Satellite 2 (500.0 km)",
          "Satellite 2 (500.0 km)",
          "Satellite 2 (500.0 km)",
          "Satellite 2 (500.0 km)",
          "Satellite 2 (500.0 km)",
          "Satellite 2 (500.0 km)",
          "Satellite 2 (500.0 km)",
          "Satellite 2 (500.0 km)",
          "Satellite 2 (500.0 km)",
          "Satellite 2 (500.0 km)",
          "Satellite 2 (500.0 km)",
          "Satellite 2 (500.0 km)",
          "Satellite 2 (500.0 km)",
          "Satellite 2 (500.0 km)",
          "Satellite 2 (500.0 km)",
          "Satellite 2 (500.0 km)",
          "Satellite 2 (500.0 km)",
          "Satellite 2 (500.0 km)",
          "Satellite 2 (500.0 km)",
          "Satellite 2 (500.0 km)",
          "Satellite 2 (500.0 km)",
          "Satellite 2 (500.0 km)",
          "Satellite 2 (500.0 km)",
          "Satellite 2 (500.0 km)",
          "Satellite 2 (500.0 km)",
          "Satellite 2 (500.0 km)",
          "Satellite 2 (500.0 km)",
          "Satellite 2 (500.0 km)",
          "Satellite 2 (500.0 km)",
          "Satellite 2 (500.0 km)",
          "Satellite 2 (500.0 km)",
          "Satellite 2 (500.0 km)",
          "Satellite 2 (500.0 km)",
          "Satellite 2 (500.0 km)",
          "Satellite 2 (500.0 km)",
          "Satellite 2 (500.0 km)",
          "Satellite 2 (500.0 km)",
          "Satellite 2 (500.0 km)",
          "Satellite 2 (500.0 km)",
          "Satellite 2 (500.0 km)",
          "Satellite 2 (500.0 km)",
          "Satellite 2 (500.0 km)",
          "Satellite 2 (500.0 km)",
          "Satellite 2 (500.0 km)",
          "Satellite 2 (500.0 km)",
          "Satellite 2 (500.0 km)",
          "Satellite 2 (500.0 km)",
          "Satellite 2 (500.0 km)",
          "Satellite 2 (500.0 km)",
          "Satellite 2 (500.0 km)",
          "Satellite 2 (500.0 km)",
          "Satellite 2 (500.0 km)",
          "Satellite 2 (500.0 km)",
          "Satellite 2 (500.0 km)",
          "Satellite 2 (500.0 km)",
          "Satellite 2 (500.0 km)",
          "Satellite 2 (500.0 km)",
          "Satellite 2 (500.0 km)",
          "Satellite 2 (500.0 km)",
          "Satellite 2 (500.0 km)",
          "Satellite 2 (500.0 km)",
          "Satellite 2 (500.0 km)",
          "Satellite 2 (500.0 km)",
          "Satellite 2 (500.0 km)",
          "Satellite 2 (500.0 km)",
          "Satellite 2 (500.0 km)",
          "Satellite 2 (500.0 km)",
          "Satellite 2 (500.0 km)",
          "Satellite 2 (500.0 km)",
          "Satellite 2 (500.0 km)",
          "Satellite 2 (500.0 km)",
          "Satellite 2 (500.0 km)",
          "Satellite 2 (500.0 km)",
          "Satellite 2 (500.0 km)",
          "Satellite 2 (500.0 km)",
          "Satellite 2 (500.0 km)",
          "Satellite 2 (500.0 km)",
          "Satellite 2 (500.0 km)",
          "Satellite 2 (500.0 km)",
          "Satellite 2 (500.0 km)",
          "Satellite 2 (500.0 km)",
          "Satellite 2 (500.0 km)",
          "Satellite 2 (500.0 km)",
          "Satellite 2 (500.0 km)",
          "Satellite 2 (500.0 km)",
          "Satellite 2 (500.0 km)",
          "Satellite 2 (500.0 km)",
          "Satellite 2 (500.0 km)",
          "Satellite 2 (500.0 km)",
          "Satellite 2 (500.0 km)",
          "Satellite 2 (500.0 km)",
          "Satellite 2 (500.0 km)",
          "Satellite 2 (500.0 km)",
          "Satellite 2 (500.0 km)",
          "Satellite 2 (500.0 km)",
          "Satellite 2 (500.0 km)",
          "Satellite 2 (500.0 km)",
          "Satellite 2 (500.0 km)",
          "Satellite 2 (500.0 km)",
          "Satellite 2 (500.0 km)"
         ],
         "lat": [
          -18.279902139403262,
          -14.513594506618142,
          -10.745547039768873,
          -6.9761003264245955,
          -3.205567893955306,
          0.5657522699542211,
          4.337567623500732,
          8.109581593297078,
          11.8814839807407,
          15.65294050294279,
          19.423580605289725,
          23.192982448589373,
          26.960653569893342,
          30.72600505166138,
          34.48831594610928,
          38.24668289825551,
          41.99994685286288,
          45.74658339111139,
          49.48453359728455,
          53.21093422552098,
          56.921670284321785,
          60.61059932936744,
          64.26813461294694,
          67.87849369552222,
          71.41395899806221,
          74.82189864251131,
          77.99302434161302,
          80.6821325583677,
          82.36176011961726,
          82.33652882385451,
          80.62018898414527,
          77.91291393999016,
          74.73315016897097,
          71.32075207189713,
          67.78276675751086,
          64.17087244670608,
          60.51234624967935,
          56.822749315077836,
          53.11154875518716,
          49.384818226210186,
          45.646631077439004,
          41.89982423102941,
          38.14643934098791,
          34.38798914635044,
          30.62562458313013,
          26.860243228844034,
          23.092561836748853,
          19.32316622733253,
          15.552546546592545,
          11.781122886124884,
          8.009264481587174,
          4.237304632509408,
          0.46555283058658853,
          -3.305694814479038,
          -7.076145993314458,
          -10.84550271173195,
          -14.613451168777223,
          -18.379650184369897,
          -22.14371717259191,
          -25.90521031684622,
          -29.663605038398103,
          -33.41826192718961,
          -37.168381782737846,
          -40.912940855256544,
          -44.65059496021071,
          -48.37953325722263,
          -52.09724787995671,
          -55.80015735070421,
          -59.482964295127836,
          -63.137504542457336,
          -66.75056193718412,
          -70.29942823948278,
          -73.74215221803586,
          -76.99431697934106,
          -79.87083379988289,
          -81.95810385905556,
          -82.55938093842073,
          -81.35870969966383,
          -78.92750865321167,
          -75.88798438658634,
          -72.55519427513615,
          -69.06867694072224,
          -65.49387253494714,
          -61.864327715076655,
          -58.1986966164589,
          -54.50807950078153,
          -50.799459713625005,
          -47.07743779086855,
          -43.34516443732298,
          -39.60487072570974,
          -35.85818383062874,
          -32.10632278844008,
          -28.350224226552303,
          -24.5906256884919,
          -20.82812246218911,
          -17.063207406413913,
          -13.296299633434815,
          -9.5277657791426,
          -5.757936316468963,
          -1.9871185911698126,
          1.7843922157207193,
          5.556303275628495,
          9.32831467613343,
          13.100109632634894,
          16.871343573239315,
          20.641631173302795,
          24.41053013381687,
          28.177520022517836,
          31.941973717916706,
          35.70311771787984,
          39.45997544164794,
          43.211284004735646,
          46.9553685084242,
          50.689946111819786,
          54.411809714203976,
          58.11629623739259,
          61.79634994573023,
          65.44077925260669,
          69.03079640664504,
          72.53261433320125,
          75.88025123990066,
          78.93269626831037,
          81.37060254780478,
          82.56271858138673,
          81.93613328055385,
          79.82137333206404,
          76.92150642031127,
          73.64913649458634,
          70.18809584219872,
          66.6221471648557,
          62.99293900931095,
          59.323047862460186,
          55.62564195423761,
          51.90888019301007,
          48.17807701189494,
          44.436842615100794,
          40.68771934583255,
          36.93255479485921,
          33.17273001657722,
          29.409304348363495,
          25.643110342467857,
          21.874817850721215,
          18.104978492388522,
          14.334057357775766,
          10.562456265311823,
          6.790531382125773,
          3.0186071031883137,
          -0.7530124750833331,
          -4.524033487780831,
          -8.29416282982427,
          -12.063098546721033,
          -15.830519339250362,
          -19.596072320202584,
          -23.359357928556552,
          -27.119910504324004,
          -30.877172365314085,
          -34.63045814449621,
          -38.37890435195609,
          -42.12139608370845,
          -45.856457493810304,
          -49.58208306758234,
          -53.29546874847547,
          -56.99256664374909,
          -60.66731398254575,
          -64.31022683385739,
          -67.90567398242929,
          -71.42620246997956,
          -74.81974080984607,
          -77.97841148978397,
          -80.66093448070524,
          -82.3490485813996,
          -82.35314416159311,
          -80.67100028035838,
          -77.99143727817327,
          -74.83416973402845,
          -71.44134721011808,
          -67.92121326451634,
          -64.3259956344569,
          -60.68321966612144,
          -57.0085530959429,
          -53.3114997337058,
          -49.59813390715585,
          -45.87251062697771,
          -42.13743856590123,
          -38.39492637656875,
          -34.646452132534,
          -30.893132383558584,
          -27.1358318803232,
          -23.375236986910142,
          -19.611906195561183,
          -15.846305838528275,
          -12.07883604327388,
          -8.30985017850088,
          -4.539669953301871,
          -0.7685976686191167,
          3.0030732829857483,
          6.775048806657121,
          10.547024634787531,
          14.318676263830826,
          18.089647487729103,
          21.859536529926732,
          25.627878439669534,
          29.39412186024766,
          33.15759736372913,
          36.91747304179009,
          40.6726905127999,
          44.421870137046035,
          48.163166440032114,
          51.89404031094223,
          55.61088663097335,
          59.30839927860831,
          62.9784335867293,
          66.60784717030698,
          70.1741138057191,
          73.63569095678687,
          76.90905962671516,
          79.8109783608187,
          81.93007105426479,
          82.56379906927985,
          81.3781361306912,
          78.94372186968762,
          75.892934557443,
          72.54613815199903,
          69.0447919807188,
          65.4550657444567,
          61.8108310837789,
          58.13091721967301,
          54.426537707214145,
          50.704760703391116,
          46.97025669929014,
          43.22623741996399,
          39.4749886957897,
          35.71818741201338,
          31.957097798450047,
          28.192697355240778,
          24.425760210313673,
          20.65691390107186,
          16.886679119973753,
          13.115498306320879,
          9.343756829077329,
          5.571799224588257,
          1.7999421728004326,
          -1.971514580778891,
          -5.742278432927706,
          -9.512054485252403,
          -13.280535733453693,
          -17.0473921095243,
          -20.812257454547286,
          -24.574713219367805,
          -28.33426721678359,
          -32.090324973274015,
          -35.84214995618244,
          -39.58880682968575,
          -43.329078264830144,
          -47.06133943213412,
          -50.78336261768645,
          -54.49200215011116,
          -58.182665415370856,
          -61.84838222557585,
          -65.47807553545302,
          -69.05313511102311,
          -72.54010418635417,
          -75.87374343010202,
          -78.91499672113517,
          -81.34991384441273,
          -82.55757896132509,
          -81.96422946458235,
          -79.8818830992086,
          -77.0077325911734,
          -73.75672300049894,
          -70.31461100836908,
          -66.76609332196708,
          -63.153244282038976,
          -59.49883112801581,
          -55.81610071771913,
          -52.11323439520557,
          -48.395539761707475,
          -44.66660473013486,
          -40.92894142138443,
          -37.18436361854666,
          -33.43421762772109,
          -29.67952878754852,
          -25.92109752984102,
          -22.159564247815254,
          -18.39545432509876,
          -14.629210250258579,
          -10.861215178001217,
          -7.091810773571566
         ],
         "legendgroup": "Satellite 2 (500.0 km)",
         "lon": [
          5.163690290889269,
          4.882293058910154,
          4.618680257765353,
          4.367711720189519,
          4.124707541433969,
          3.8852689164983176,
          3.645120258561846,
          3.399960418190971,
          3.145311983559627,
          2.876357395715119,
          2.58774891119975,
          2.273375948577262,
          1.9260673406051307,
          1.5371961507892633,
          1.0961386423726203,
          0.589512492658427,
          0.00007472712989109453,
          -0.6949173711040544,
          -1.526217117592978,
          -2.5365615624073143,
          -3.78719124799386,
          -5.368998327636575,
          -7.422499115590085,
          -10.17553158100111,
          -14.01844873058235,
          -19.661434315462657,
          -28.462900687378863,
          -42.9520368046895,
          -66.16846399709107,
          -94.83233841076532,
          -117.80527482129548,
          -132.09800891782692,
          -140.78837692862336,
          -146.36946067467272,
          -150.1759198259723,
          -152.90612502522663,
          -154.94454957401064,
          -156.515950643138,
          -157.75913488414497,
          -158.76399417951694,
          -159.5911561732955,
          -160.28296716214726,
          -160.86992274383894,
          -161.37459069260893,
          -161.81409232115507,
          -162.2017236513575,
          -162.54804625924413,
          -162.86164185172385,
          -163.1496485686559,
          -163.41815301778337,
          -163.67248591325512,
          -163.91745332778243,
          -164.15752583324706,
          -164.39700187085145,
          -164.6401582515424,
          -164.89139902736414,
          -165.15541376504163,
          -165.43735745287228,
          -165.74306711723298,
          -166.07933529468391,
          -166.45426889317093,
          -166.87777562948716,
          -167.36224261470525,
          -167.9235090458745,
          -168.58229901479302,
          -169.36639357874338,
          -170.31402816567848,
          -171.47939501308113,
          -172.94191239994512,
          -174.82255130356037,
          -177.31407171713857,
          179.25985193631433,
          174.32286537827525,
          166.78944612053832,
          154.58902149442173,
          134.54555427105808,
          106.69486043177463,
          80.93201160939128,
          63.98117156599135,
          53.731663901428675,
          47.2780001343657,
          42.95865298966855,
          39.90807260908552,
          37.6583629413584,
          35.94119207980309,
          34.593668774187535,
          33.511860642115806,
          32.62656170600011,
          31.889968268555993,
          31.26799067447986,
          30.735623629359416,
          30.274051303688672,
          29.868775522291134,
          29.50836827191487,
          29.183616619565864,
          28.88692052743492,
          28.611856947503263,
          28.352854749948094,
          28.104943841337622,
          27.86355334507331,
          27.624340776683606,
          27.383038346117644,
          27.135304743203758,
          26.87657145758,
          26.601871986262438,
          26.30564005325192,
          25.981458758603214,
          25.62173549969435,
          25.217265964286007,
          24.756631641352183,
          24.22534402396855,
          23.604595580127395,
          22.86938476055157,
          21.985614573411215,
          20.905449376995286,
          19.559597954450666,
          17.843926335327133,
          15.595080045047958,
          12.543647786706032,
          8.219116875708224,
          1.7492709140683118,
          -8.544676055725006,
          -25.604443689408413,
          -51.539243233220304,
          -79.45281502636874,
          -99.4279866781996,
          -111.55224779485792,
          -119.03241277577638,
          -123.93404977443362,
          -127.33605470253991,
          -129.8105506003488,
          -131.6787153921059,
          -133.13181562596682,
          -134.28989771239273,
          -135.23178605261182,
          -136.01127810669476,
          -136.66633879003956,
          -137.2245588808485,
          -137.7065256379577,
          -138.12797806387675,
          -138.5012288722823,
          -138.83613001725487,
          -139.14074645163814,
          -139.42183926255308,
          -139.68522225560923,
          -139.9360338606419,
          -140.1789526933358,
          -140.41837679350112,
          -140.65858154090878,
          -140.9038684409367,
          -141.15871580200832,
          -141.42794256438071,
          -141.716898231026,
          -142.0316953319226,
          -142.37950684306878,
          -142.768960802098,
          -143.2106803572988,
          -143.71804384294833,
          -144.30828382909536,
          -145.00412079862733,
          -145.83626405812936,
          -146.84736605929635,
          -148.09850526267954,
          -149.6802587128699,
          -151.73251179562598,
          -154.48178367315543,
          -158.3155148294284,
          -163.9370559990311,
          -172.68817541828423,
          172.93814191453168,
          149.92401208784642,
          121.37918562119961,
          98.32554620301565,
          83.91984000537406,
          75.15054364903119,
          69.51885449135374,
          65.67913921306616,
          62.92611720956687,
          60.871385410165544,
          59.28791963834041,
          58.03555401763174,
          57.02354729654526,
          56.1907203498417,
          55.49435651748572,
          54.90370412353875,
          54.39601390590595,
          53.954033262718596,
          53.56436963168535,
          53.216389596135784,
          52.901457624063376,
          52.61239524038704,
          52.343085891851906,
          52.08817717863546,
          51.8428481563401,
          51.60261925327117,
          51.36318835135633,
          51.120280068436216,
          50.86949697758565,
          50.60616174241902,
          50.325137983086655,
          50.02061488641146,
          49.68583556414244,
          49.31274086584158,
          48.891486840184804,
          48.409771883580035,
          47.8518726146222,
          47.197224131244155,
          46.41826837526855,
          45.477089628953756,
          44.319966811875666,
          42.868198649944596,
          41.00194614055455,
          38.53031031054411,
          35.13280261145609,
          30.23866756052348,
          22.77180113452258,
          10.671680071804005,
          -9.266908655538373,
          -37.16267047258674,
          -63.12656315823051,
          -80.21977922075303,
          -90.53384206990592,
          -97.01483607776726,
          -101.34582012965814,
          -104.40122628453949,
          -106.65266195435257,
          -108.3701025135851,
          -109.71721014783014,
          -110.79829612029064,
          -111.68275886055102,
          -112.41850160814522,
          -113.0396655255393,
          -113.57128191567955,
          -114.03217887368962,
          -114.43685942255632,
          -114.79675249367276,
          -115.12106996851685,
          -115.41740997949464,
          -115.6921934551304,
          -115.95098955889563,
          -116.19876678008816,
          -116.44009486963668,
          -116.679315724981,
          -116.92069711180028,
          -117.16858087478664,
          -117.4275365856289,
          -117.70253226566524,
          -117.99913603748752,
          -118.32376674939854,
          -118.68401866174233,
          -119.0890967763639,
          -119.55041815216873,
          -120.0824656510888,
          -120.7040333316915,
          -121.44009487075681,
          -122.32469281095933,
          -123.4055584797382,
          -124.7517826434584,
          -126.46710644966464,
          -128.71408798016958,
          -131.76044599932388,
          -136.07288144679666,
          -142.5145115031575,
          -152.7421177963713,
          -169.6560193828772,
          164.61491641761282,
          136.74712192604164,
          116.66376149432088,
          104.43624149505877,
          96.8876671578908,
          91.94203635586129,
          88.51072690253565,
          86.01584617016132,
          84.13293793712917,
          82.66882277319316,
          81.50229177576645,
          80.55378473308936,
          79.76902094575114,
          79.10970773275145,
          78.54802576665527,
          78.06322466021493,
          77.63944672345018,
          77.26429158719377,
          76.92784188487299,
          76.62198361115667,
          76.3399189851725,
          76.07580711959453,
          75.8244902312582
         ],
         "marker": {
          "color": "#EF553B",
          "symbol": "circle"
         },
         "mode": "markers",
         "name": "Satellite 2 (500.0 km)",
         "showlegend": true,
         "type": "scattergeo"
        },
        {
         "customdata": [
          [
           "2024-11-02 14:05:02"
          ],
          [
           "2024-11-02 14:06:02"
          ],
          [
           "2024-11-02 14:07:02"
          ],
          [
           "2024-11-02 14:08:02"
          ],
          [
           "2024-11-02 14:09:02"
          ],
          [
           "2024-11-02 14:10:02"
          ],
          [
           "2024-11-02 14:11:02"
          ],
          [
           "2024-11-02 14:12:02"
          ],
          [
           "2024-11-02 14:13:02"
          ],
          [
           "2024-11-02 14:14:02"
          ],
          [
           "2024-11-02 14:15:02"
          ],
          [
           "2024-11-02 14:16:02"
          ],
          [
           "2024-11-02 14:17:02"
          ],
          [
           "2024-11-02 14:18:02"
          ],
          [
           "2024-11-02 14:19:02"
          ],
          [
           "2024-11-02 14:20:02"
          ],
          [
           "2024-11-02 14:21:02"
          ],
          [
           "2024-11-02 14:22:02"
          ],
          [
           "2024-11-02 14:23:02"
          ],
          [
           "2024-11-02 14:24:02"
          ],
          [
           "2024-11-02 14:25:02"
          ],
          [
           "2024-11-02 14:26:02"
          ],
          [
           "2024-11-02 14:27:02"
          ],
          [
           "2024-11-02 14:28:02"
          ],
          [
           "2024-11-02 14:29:02"
          ],
          [
           "2024-11-02 14:30:02"
          ],
          [
           "2024-11-02 14:31:02"
          ],
          [
           "2024-11-02 14:32:02"
          ],
          [
           "2024-11-02 14:33:02"
          ],
          [
           "2024-11-02 14:34:02"
          ],
          [
           "2024-11-02 14:35:02"
          ],
          [
           "2024-11-02 14:36:02"
          ],
          [
           "2024-11-02 14:37:02"
          ],
          [
           "2024-11-02 14:38:02"
          ],
          [
           "2024-11-02 14:39:02"
          ],
          [
           "2024-11-02 14:40:02"
          ],
          [
           "2024-11-02 14:41:02"
          ],
          [
           "2024-11-02 14:42:02"
          ],
          [
           "2024-11-02 14:43:02"
          ],
          [
           "2024-11-02 14:44:02"
          ],
          [
           "2024-11-02 14:45:02"
          ],
          [
           "2024-11-02 14:46:02"
          ],
          [
           "2024-11-02 14:47:02"
          ],
          [
           "2024-11-02 14:48:02"
          ],
          [
           "2024-11-02 14:49:02"
          ],
          [
           "2024-11-02 14:50:02"
          ],
          [
           "2024-11-02 14:51:02"
          ],
          [
           "2024-11-02 14:52:02"
          ],
          [
           "2024-11-02 14:53:02"
          ],
          [
           "2024-11-02 14:54:02"
          ],
          [
           "2024-11-02 14:55:02"
          ],
          [
           "2024-11-02 14:56:02"
          ],
          [
           "2024-11-02 14:57:02"
          ],
          [
           "2024-11-02 14:58:02"
          ],
          [
           "2024-11-02 14:59:02"
          ],
          [
           "2024-11-02 15:00:02"
          ],
          [
           "2024-11-02 15:01:02"
          ],
          [
           "2024-11-02 15:02:02"
          ],
          [
           "2024-11-02 15:03:02"
          ],
          [
           "2024-11-02 15:04:02"
          ],
          [
           "2024-11-02 15:05:02"
          ],
          [
           "2024-11-02 15:06:02"
          ],
          [
           "2024-11-02 15:07:02"
          ],
          [
           "2024-11-02 15:08:02"
          ],
          [
           "2024-11-02 15:09:02"
          ],
          [
           "2024-11-02 15:10:02"
          ],
          [
           "2024-11-02 15:11:02"
          ],
          [
           "2024-11-02 15:12:02"
          ],
          [
           "2024-11-02 15:13:02"
          ],
          [
           "2024-11-02 15:14:02"
          ],
          [
           "2024-11-02 15:15:02"
          ],
          [
           "2024-11-02 15:16:02"
          ],
          [
           "2024-11-02 15:17:02"
          ],
          [
           "2024-11-02 15:18:02"
          ],
          [
           "2024-11-02 15:19:02"
          ],
          [
           "2024-11-02 15:20:02"
          ],
          [
           "2024-11-02 15:21:02"
          ],
          [
           "2024-11-02 15:22:02"
          ],
          [
           "2024-11-02 15:23:02"
          ],
          [
           "2024-11-02 15:24:02"
          ],
          [
           "2024-11-02 15:25:02"
          ],
          [
           "2024-11-02 15:26:02"
          ],
          [
           "2024-11-02 15:27:02"
          ],
          [
           "2024-11-02 15:28:02"
          ],
          [
           "2024-11-02 15:29:02"
          ],
          [
           "2024-11-02 15:30:02"
          ],
          [
           "2024-11-02 15:31:02"
          ],
          [
           "2024-11-02 15:32:02"
          ],
          [
           "2024-11-02 15:33:02"
          ],
          [
           "2024-11-02 15:34:02"
          ],
          [
           "2024-11-02 15:35:02"
          ],
          [
           "2024-11-02 15:36:02"
          ],
          [
           "2024-11-02 15:37:02"
          ],
          [
           "2024-11-02 15:38:02"
          ],
          [
           "2024-11-02 15:39:02"
          ],
          [
           "2024-11-02 15:40:02"
          ],
          [
           "2024-11-02 15:41:02"
          ],
          [
           "2024-11-02 15:42:02"
          ],
          [
           "2024-11-02 15:43:02"
          ],
          [
           "2024-11-02 15:44:02"
          ],
          [
           "2024-11-02 15:45:02"
          ],
          [
           "2024-11-02 15:46:02"
          ],
          [
           "2024-11-02 15:47:02"
          ],
          [
           "2024-11-02 15:48:02"
          ],
          [
           "2024-11-02 15:49:02"
          ],
          [
           "2024-11-02 15:50:02"
          ],
          [
           "2024-11-02 15:51:02"
          ],
          [
           "2024-11-02 15:52:02"
          ],
          [
           "2024-11-02 15:53:02"
          ],
          [
           "2024-11-02 15:54:02"
          ],
          [
           "2024-11-02 15:55:02"
          ],
          [
           "2024-11-02 15:56:02"
          ],
          [
           "2024-11-02 15:57:02"
          ],
          [
           "2024-11-02 15:58:02"
          ],
          [
           "2024-11-02 15:59:02"
          ],
          [
           "2024-11-02 16:00:02"
          ],
          [
           "2024-11-02 16:01:02"
          ],
          [
           "2024-11-02 16:02:02"
          ],
          [
           "2024-11-02 16:03:02"
          ],
          [
           "2024-11-02 16:04:02"
          ],
          [
           "2024-11-02 16:05:02"
          ],
          [
           "2024-11-02 16:06:02"
          ],
          [
           "2024-11-02 16:07:02"
          ],
          [
           "2024-11-02 16:08:02"
          ],
          [
           "2024-11-02 16:09:02"
          ],
          [
           "2024-11-02 16:10:02"
          ],
          [
           "2024-11-02 16:11:02"
          ],
          [
           "2024-11-02 16:12:02"
          ],
          [
           "2024-11-02 16:13:02"
          ],
          [
           "2024-11-02 16:14:02"
          ],
          [
           "2024-11-02 16:15:02"
          ],
          [
           "2024-11-02 16:16:02"
          ],
          [
           "2024-11-02 16:17:02"
          ],
          [
           "2024-11-02 16:18:02"
          ],
          [
           "2024-11-02 16:19:02"
          ],
          [
           "2024-11-02 16:20:02"
          ],
          [
           "2024-11-02 16:21:02"
          ],
          [
           "2024-11-02 16:22:02"
          ],
          [
           "2024-11-02 16:23:02"
          ],
          [
           "2024-11-02 16:24:02"
          ],
          [
           "2024-11-02 16:25:02"
          ],
          [
           "2024-11-02 16:26:02"
          ],
          [
           "2024-11-02 16:27:02"
          ],
          [
           "2024-11-02 16:28:02"
          ],
          [
           "2024-11-02 16:29:02"
          ],
          [
           "2024-11-02 16:30:02"
          ],
          [
           "2024-11-02 16:31:02"
          ],
          [
           "2024-11-02 16:32:02"
          ],
          [
           "2024-11-02 16:33:02"
          ],
          [
           "2024-11-02 16:34:02"
          ],
          [
           "2024-11-02 16:35:02"
          ],
          [
           "2024-11-02 16:36:02"
          ],
          [
           "2024-11-02 16:37:02"
          ],
          [
           "2024-11-02 16:38:02"
          ],
          [
           "2024-11-02 16:39:02"
          ],
          [
           "2024-11-02 16:40:02"
          ],
          [
           "2024-11-02 16:41:02"
          ],
          [
           "2024-11-02 16:42:02"
          ],
          [
           "2024-11-02 16:43:02"
          ],
          [
           "2024-11-02 16:44:02"
          ],
          [
           "2024-11-02 16:45:02"
          ],
          [
           "2024-11-02 16:46:02"
          ],
          [
           "2024-11-02 16:47:02"
          ],
          [
           "2024-11-02 16:48:02"
          ],
          [
           "2024-11-02 16:49:02"
          ],
          [
           "2024-11-02 16:50:02"
          ],
          [
           "2024-11-02 16:51:02"
          ],
          [
           "2024-11-02 16:52:02"
          ],
          [
           "2024-11-02 16:53:02"
          ],
          [
           "2024-11-02 16:54:02"
          ],
          [
           "2024-11-02 16:55:02"
          ],
          [
           "2024-11-02 16:56:02"
          ],
          [
           "2024-11-02 16:57:02"
          ],
          [
           "2024-11-02 16:58:02"
          ],
          [
           "2024-11-02 16:59:02"
          ],
          [
           "2024-11-02 17:00:02"
          ],
          [
           "2024-11-02 17:01:02"
          ],
          [
           "2024-11-02 17:02:02"
          ],
          [
           "2024-11-02 17:03:02"
          ],
          [
           "2024-11-02 17:04:02"
          ],
          [
           "2024-11-02 17:05:02"
          ],
          [
           "2024-11-02 17:06:02"
          ],
          [
           "2024-11-02 17:07:02"
          ],
          [
           "2024-11-02 17:08:02"
          ],
          [
           "2024-11-02 17:09:02"
          ],
          [
           "2024-11-02 17:10:02"
          ],
          [
           "2024-11-02 17:11:02"
          ],
          [
           "2024-11-02 17:12:02"
          ],
          [
           "2024-11-02 17:13:02"
          ],
          [
           "2024-11-02 17:14:02"
          ],
          [
           "2024-11-02 17:15:02"
          ],
          [
           "2024-11-02 17:16:02"
          ],
          [
           "2024-11-02 17:17:02"
          ],
          [
           "2024-11-02 17:18:02"
          ],
          [
           "2024-11-02 17:19:02"
          ],
          [
           "2024-11-02 17:20:02"
          ],
          [
           "2024-11-02 17:21:02"
          ],
          [
           "2024-11-02 17:22:02"
          ],
          [
           "2024-11-02 17:23:02"
          ],
          [
           "2024-11-02 17:24:02"
          ],
          [
           "2024-11-02 17:25:02"
          ],
          [
           "2024-11-02 17:26:02"
          ],
          [
           "2024-11-02 17:27:02"
          ],
          [
           "2024-11-02 17:28:02"
          ],
          [
           "2024-11-02 17:29:02"
          ],
          [
           "2024-11-02 17:30:02"
          ],
          [
           "2024-11-02 17:31:02"
          ],
          [
           "2024-11-02 17:32:02"
          ],
          [
           "2024-11-02 17:33:02"
          ],
          [
           "2024-11-02 17:34:02"
          ],
          [
           "2024-11-02 17:35:02"
          ],
          [
           "2024-11-02 17:36:02"
          ],
          [
           "2024-11-02 17:37:02"
          ],
          [
           "2024-11-02 17:38:02"
          ],
          [
           "2024-11-02 17:39:02"
          ],
          [
           "2024-11-02 17:40:02"
          ],
          [
           "2024-11-02 17:41:02"
          ],
          [
           "2024-11-02 17:42:02"
          ],
          [
           "2024-11-02 17:43:02"
          ],
          [
           "2024-11-02 17:44:02"
          ],
          [
           "2024-11-02 17:45:02"
          ],
          [
           "2024-11-02 17:46:02"
          ],
          [
           "2024-11-02 17:47:02"
          ],
          [
           "2024-11-02 17:48:02"
          ],
          [
           "2024-11-02 17:49:02"
          ],
          [
           "2024-11-02 17:50:02"
          ],
          [
           "2024-11-02 17:51:02"
          ],
          [
           "2024-11-02 17:52:02"
          ],
          [
           "2024-11-02 17:53:02"
          ],
          [
           "2024-11-02 17:54:02"
          ],
          [
           "2024-11-02 17:55:02"
          ],
          [
           "2024-11-02 17:56:02"
          ],
          [
           "2024-11-02 17:57:02"
          ],
          [
           "2024-11-02 17:58:02"
          ],
          [
           "2024-11-02 17:59:02"
          ],
          [
           "2024-11-02 18:00:02"
          ],
          [
           "2024-11-02 18:01:02"
          ],
          [
           "2024-11-02 18:02:02"
          ],
          [
           "2024-11-02 18:03:02"
          ],
          [
           "2024-11-02 18:04:02"
          ],
          [
           "2024-11-02 18:05:02"
          ],
          [
           "2024-11-02 18:06:02"
          ],
          [
           "2024-11-02 18:07:02"
          ],
          [
           "2024-11-02 18:08:02"
          ],
          [
           "2024-11-02 18:09:02"
          ],
          [
           "2024-11-02 18:10:02"
          ],
          [
           "2024-11-02 18:11:02"
          ],
          [
           "2024-11-02 18:12:02"
          ],
          [
           "2024-11-02 18:13:02"
          ],
          [
           "2024-11-02 18:14:02"
          ],
          [
           "2024-11-02 18:15:02"
          ],
          [
           "2024-11-02 18:16:02"
          ],
          [
           "2024-11-02 18:17:02"
          ],
          [
           "2024-11-02 18:18:02"
          ],
          [
           "2024-11-02 18:19:02"
          ],
          [
           "2024-11-02 18:20:02"
          ],
          [
           "2024-11-02 18:21:02"
          ],
          [
           "2024-11-02 18:22:02"
          ],
          [
           "2024-11-02 18:23:02"
          ],
          [
           "2024-11-02 18:24:02"
          ],
          [
           "2024-11-02 18:25:02"
          ],
          [
           "2024-11-02 18:26:02"
          ],
          [
           "2024-11-02 18:27:02"
          ],
          [
           "2024-11-02 18:28:02"
          ],
          [
           "2024-11-02 18:29:02"
          ],
          [
           "2024-11-02 18:30:02"
          ],
          [
           "2024-11-02 18:31:02"
          ],
          [
           "2024-11-02 18:32:02"
          ],
          [
           "2024-11-02 18:33:02"
          ],
          [
           "2024-11-02 18:34:02"
          ],
          [
           "2024-11-02 18:35:02"
          ],
          [
           "2024-11-02 18:36:02"
          ],
          [
           "2024-11-02 18:37:02"
          ],
          [
           "2024-11-02 18:38:02"
          ],
          [
           "2024-11-02 18:39:02"
          ],
          [
           "2024-11-02 18:40:02"
          ],
          [
           "2024-11-02 18:41:02"
          ],
          [
           "2024-11-02 18:42:02"
          ],
          [
           "2024-11-02 18:43:02"
          ],
          [
           "2024-11-02 18:44:02"
          ],
          [
           "2024-11-02 18:45:02"
          ],
          [
           "2024-11-02 18:46:02"
          ],
          [
           "2024-11-02 18:47:02"
          ],
          [
           "2024-11-02 18:48:02"
          ],
          [
           "2024-11-02 18:49:02"
          ],
          [
           "2024-11-02 18:50:02"
          ],
          [
           "2024-11-02 18:51:02"
          ],
          [
           "2024-11-02 18:52:02"
          ]
         ],
         "geo": "geo",
         "hovertemplate": "<b>%{hovertext}</b><br><br>color=Satellite 3 (600.0 km)<br>lat=%{lat}<br>lon=%{lon}<br>Timestamp=%{customdata[0]}<extra></extra>",
         "hovertext": [
          "Satellite 3 (600.0 km)",
          "Satellite 3 (600.0 km)",
          "Satellite 3 (600.0 km)",
          "Satellite 3 (600.0 km)",
          "Satellite 3 (600.0 km)",
          "Satellite 3 (600.0 km)",
          "Satellite 3 (600.0 km)",
          "Satellite 3 (600.0 km)",
          "Satellite 3 (600.0 km)",
          "Satellite 3 (600.0 km)",
          "Satellite 3 (600.0 km)",
          "Satellite 3 (600.0 km)",
          "Satellite 3 (600.0 km)",
          "Satellite 3 (600.0 km)",
          "Satellite 3 (600.0 km)",
          "Satellite 3 (600.0 km)",
          "Satellite 3 (600.0 km)",
          "Satellite 3 (600.0 km)",
          "Satellite 3 (600.0 km)",
          "Satellite 3 (600.0 km)",
          "Satellite 3 (600.0 km)",
          "Satellite 3 (600.0 km)",
          "Satellite 3 (600.0 km)",
          "Satellite 3 (600.0 km)",
          "Satellite 3 (600.0 km)",
          "Satellite 3 (600.0 km)",
          "Satellite 3 (600.0 km)",
          "Satellite 3 (600.0 km)",
          "Satellite 3 (600.0 km)",
          "Satellite 3 (600.0 km)",
          "Satellite 3 (600.0 km)",
          "Satellite 3 (600.0 km)",
          "Satellite 3 (600.0 km)",
          "Satellite 3 (600.0 km)",
          "Satellite 3 (600.0 km)",
          "Satellite 3 (600.0 km)",
          "Satellite 3 (600.0 km)",
          "Satellite 3 (600.0 km)",
          "Satellite 3 (600.0 km)",
          "Satellite 3 (600.0 km)",
          "Satellite 3 (600.0 km)",
          "Satellite 3 (600.0 km)",
          "Satellite 3 (600.0 km)",
          "Satellite 3 (600.0 km)",
          "Satellite 3 (600.0 km)",
          "Satellite 3 (600.0 km)",
          "Satellite 3 (600.0 km)",
          "Satellite 3 (600.0 km)",
          "Satellite 3 (600.0 km)",
          "Satellite 3 (600.0 km)",
          "Satellite 3 (600.0 km)",
          "Satellite 3 (600.0 km)",
          "Satellite 3 (600.0 km)",
          "Satellite 3 (600.0 km)",
          "Satellite 3 (600.0 km)",
          "Satellite 3 (600.0 km)",
          "Satellite 3 (600.0 km)",
          "Satellite 3 (600.0 km)",
          "Satellite 3 (600.0 km)",
          "Satellite 3 (600.0 km)",
          "Satellite 3 (600.0 km)",
          "Satellite 3 (600.0 km)",
          "Satellite 3 (600.0 km)",
          "Satellite 3 (600.0 km)",
          "Satellite 3 (600.0 km)",
          "Satellite 3 (600.0 km)",
          "Satellite 3 (600.0 km)",
          "Satellite 3 (600.0 km)",
          "Satellite 3 (600.0 km)",
          "Satellite 3 (600.0 km)",
          "Satellite 3 (600.0 km)",
          "Satellite 3 (600.0 km)",
          "Satellite 3 (600.0 km)",
          "Satellite 3 (600.0 km)",
          "Satellite 3 (600.0 km)",
          "Satellite 3 (600.0 km)",
          "Satellite 3 (600.0 km)",
          "Satellite 3 (600.0 km)",
          "Satellite 3 (600.0 km)",
          "Satellite 3 (600.0 km)",
          "Satellite 3 (600.0 km)",
          "Satellite 3 (600.0 km)",
          "Satellite 3 (600.0 km)",
          "Satellite 3 (600.0 km)",
          "Satellite 3 (600.0 km)",
          "Satellite 3 (600.0 km)",
          "Satellite 3 (600.0 km)",
          "Satellite 3 (600.0 km)",
          "Satellite 3 (600.0 km)",
          "Satellite 3 (600.0 km)",
          "Satellite 3 (600.0 km)",
          "Satellite 3 (600.0 km)",
          "Satellite 3 (600.0 km)",
          "Satellite 3 (600.0 km)",
          "Satellite 3 (600.0 km)",
          "Satellite 3 (600.0 km)",
          "Satellite 3 (600.0 km)",
          "Satellite 3 (600.0 km)",
          "Satellite 3 (600.0 km)",
          "Satellite 3 (600.0 km)",
          "Satellite 3 (600.0 km)",
          "Satellite 3 (600.0 km)",
          "Satellite 3 (600.0 km)",
          "Satellite 3 (600.0 km)",
          "Satellite 3 (600.0 km)",
          "Satellite 3 (600.0 km)",
          "Satellite 3 (600.0 km)",
          "Satellite 3 (600.0 km)",
          "Satellite 3 (600.0 km)",
          "Satellite 3 (600.0 km)",
          "Satellite 3 (600.0 km)",
          "Satellite 3 (600.0 km)",
          "Satellite 3 (600.0 km)",
          "Satellite 3 (600.0 km)",
          "Satellite 3 (600.0 km)",
          "Satellite 3 (600.0 km)",
          "Satellite 3 (600.0 km)",
          "Satellite 3 (600.0 km)",
          "Satellite 3 (600.0 km)",
          "Satellite 3 (600.0 km)",
          "Satellite 3 (600.0 km)",
          "Satellite 3 (600.0 km)",
          "Satellite 3 (600.0 km)",
          "Satellite 3 (600.0 km)",
          "Satellite 3 (600.0 km)",
          "Satellite 3 (600.0 km)",
          "Satellite 3 (600.0 km)",
          "Satellite 3 (600.0 km)",
          "Satellite 3 (600.0 km)",
          "Satellite 3 (600.0 km)",
          "Satellite 3 (600.0 km)",
          "Satellite 3 (600.0 km)",
          "Satellite 3 (600.0 km)",
          "Satellite 3 (600.0 km)",
          "Satellite 3 (600.0 km)",
          "Satellite 3 (600.0 km)",
          "Satellite 3 (600.0 km)",
          "Satellite 3 (600.0 km)",
          "Satellite 3 (600.0 km)",
          "Satellite 3 (600.0 km)",
          "Satellite 3 (600.0 km)",
          "Satellite 3 (600.0 km)",
          "Satellite 3 (600.0 km)",
          "Satellite 3 (600.0 km)",
          "Satellite 3 (600.0 km)",
          "Satellite 3 (600.0 km)",
          "Satellite 3 (600.0 km)",
          "Satellite 3 (600.0 km)",
          "Satellite 3 (600.0 km)",
          "Satellite 3 (600.0 km)",
          "Satellite 3 (600.0 km)",
          "Satellite 3 (600.0 km)",
          "Satellite 3 (600.0 km)",
          "Satellite 3 (600.0 km)",
          "Satellite 3 (600.0 km)",
          "Satellite 3 (600.0 km)",
          "Satellite 3 (600.0 km)",
          "Satellite 3 (600.0 km)",
          "Satellite 3 (600.0 km)",
          "Satellite 3 (600.0 km)",
          "Satellite 3 (600.0 km)",
          "Satellite 3 (600.0 km)",
          "Satellite 3 (600.0 km)",
          "Satellite 3 (600.0 km)",
          "Satellite 3 (600.0 km)",
          "Satellite 3 (600.0 km)",
          "Satellite 3 (600.0 km)",
          "Satellite 3 (600.0 km)",
          "Satellite 3 (600.0 km)",
          "Satellite 3 (600.0 km)",
          "Satellite 3 (600.0 km)",
          "Satellite 3 (600.0 km)",
          "Satellite 3 (600.0 km)",
          "Satellite 3 (600.0 km)",
          "Satellite 3 (600.0 km)",
          "Satellite 3 (600.0 km)",
          "Satellite 3 (600.0 km)",
          "Satellite 3 (600.0 km)",
          "Satellite 3 (600.0 km)",
          "Satellite 3 (600.0 km)",
          "Satellite 3 (600.0 km)",
          "Satellite 3 (600.0 km)",
          "Satellite 3 (600.0 km)",
          "Satellite 3 (600.0 km)",
          "Satellite 3 (600.0 km)",
          "Satellite 3 (600.0 km)",
          "Satellite 3 (600.0 km)",
          "Satellite 3 (600.0 km)",
          "Satellite 3 (600.0 km)",
          "Satellite 3 (600.0 km)",
          "Satellite 3 (600.0 km)",
          "Satellite 3 (600.0 km)",
          "Satellite 3 (600.0 km)",
          "Satellite 3 (600.0 km)",
          "Satellite 3 (600.0 km)",
          "Satellite 3 (600.0 km)",
          "Satellite 3 (600.0 km)",
          "Satellite 3 (600.0 km)",
          "Satellite 3 (600.0 km)",
          "Satellite 3 (600.0 km)",
          "Satellite 3 (600.0 km)",
          "Satellite 3 (600.0 km)",
          "Satellite 3 (600.0 km)",
          "Satellite 3 (600.0 km)",
          "Satellite 3 (600.0 km)",
          "Satellite 3 (600.0 km)",
          "Satellite 3 (600.0 km)",
          "Satellite 3 (600.0 km)",
          "Satellite 3 (600.0 km)",
          "Satellite 3 (600.0 km)",
          "Satellite 3 (600.0 km)",
          "Satellite 3 (600.0 km)",
          "Satellite 3 (600.0 km)",
          "Satellite 3 (600.0 km)",
          "Satellite 3 (600.0 km)",
          "Satellite 3 (600.0 km)",
          "Satellite 3 (600.0 km)",
          "Satellite 3 (600.0 km)",
          "Satellite 3 (600.0 km)",
          "Satellite 3 (600.0 km)",
          "Satellite 3 (600.0 km)",
          "Satellite 3 (600.0 km)",
          "Satellite 3 (600.0 km)",
          "Satellite 3 (600.0 km)",
          "Satellite 3 (600.0 km)",
          "Satellite 3 (600.0 km)",
          "Satellite 3 (600.0 km)",
          "Satellite 3 (600.0 km)",
          "Satellite 3 (600.0 km)",
          "Satellite 3 (600.0 km)",
          "Satellite 3 (600.0 km)",
          "Satellite 3 (600.0 km)",
          "Satellite 3 (600.0 km)",
          "Satellite 3 (600.0 km)",
          "Satellite 3 (600.0 km)",
          "Satellite 3 (600.0 km)",
          "Satellite 3 (600.0 km)",
          "Satellite 3 (600.0 km)",
          "Satellite 3 (600.0 km)",
          "Satellite 3 (600.0 km)",
          "Satellite 3 (600.0 km)",
          "Satellite 3 (600.0 km)",
          "Satellite 3 (600.0 km)",
          "Satellite 3 (600.0 km)",
          "Satellite 3 (600.0 km)",
          "Satellite 3 (600.0 km)",
          "Satellite 3 (600.0 km)",
          "Satellite 3 (600.0 km)",
          "Satellite 3 (600.0 km)",
          "Satellite 3 (600.0 km)",
          "Satellite 3 (600.0 km)",
          "Satellite 3 (600.0 km)",
          "Satellite 3 (600.0 km)",
          "Satellite 3 (600.0 km)",
          "Satellite 3 (600.0 km)",
          "Satellite 3 (600.0 km)",
          "Satellite 3 (600.0 km)",
          "Satellite 3 (600.0 km)",
          "Satellite 3 (600.0 km)",
          "Satellite 3 (600.0 km)",
          "Satellite 3 (600.0 km)",
          "Satellite 3 (600.0 km)",
          "Satellite 3 (600.0 km)",
          "Satellite 3 (600.0 km)",
          "Satellite 3 (600.0 km)",
          "Satellite 3 (600.0 km)",
          "Satellite 3 (600.0 km)",
          "Satellite 3 (600.0 km)",
          "Satellite 3 (600.0 km)",
          "Satellite 3 (600.0 km)",
          "Satellite 3 (600.0 km)",
          "Satellite 3 (600.0 km)",
          "Satellite 3 (600.0 km)",
          "Satellite 3 (600.0 km)",
          "Satellite 3 (600.0 km)",
          "Satellite 3 (600.0 km)",
          "Satellite 3 (600.0 km)",
          "Satellite 3 (600.0 km)",
          "Satellite 3 (600.0 km)",
          "Satellite 3 (600.0 km)",
          "Satellite 3 (600.0 km)",
          "Satellite 3 (600.0 km)",
          "Satellite 3 (600.0 km)",
          "Satellite 3 (600.0 km)",
          "Satellite 3 (600.0 km)",
          "Satellite 3 (600.0 km)",
          "Satellite 3 (600.0 km)",
          "Satellite 3 (600.0 km)"
         ],
         "lat": [
          -19.855434200373004,
          -16.174206130299197,
          -12.49103191354204,
          -8.806280752115923,
          -5.120287948710919,
          -1.4333673235091258,
          2.2541781812707495,
          5.942046872189489,
          9.629928933393549,
          13.317496626167895,
          17.004393317987088,
          20.690220452094493,
          24.374521297687593,
          28.056759871387296,
          31.73629269361902,
          35.412329864601176,
          39.08388000242491,
          42.749670311269064,
          46.408027365589824,
          50.05669399978572,
          53.69253868429714,
          57.31107675974155,
          60.905647227485474,
          64.46592530300943,
          67.97507561378413,
          71.40393296640217,
          74.69822681520067,
          77.74872538650824,
          80.32189803497137,
          81.94628036431237,
          82.01970309309641,
          80.50611269104927,
          77.99135580081544,
          74.9699052073305,
          71.69101206307376,
          68.27101747930051,
          64.76734885218829,
          61.210666347460325,
          57.61856824078309,
          54.00179605054526,
          50.36725210889757,
          46.719567909420554,
          43.06196812278621,
          39.396771115270724,
          35.725691740704214,
          32.050031548173074,
          28.370802290795222,
          24.688808537133617,
          21.00470445129836,
          17.319033843617355,
          13.632259165553576,
          9.944783094346116,
          6.256965123312854,
          2.5691348164293117,
          -1.118397082527479,
          -4.8053287796841255,
          -8.491358049609392,
          -12.176172654298188,
          -15.859439851124252,
          -19.540794167017186,
          -23.219822395256102,
          -26.896044395732808,
          -30.56888766982869,
          -34.2376526949991,
          -37.90146439166171,
          -41.559202402168474,
          -45.20939824225661,
          -48.85007920625406,
          -52.478523888521906,
          -56.090865443284855,
          -59.681421076294406,
          -63.2415044664822,
          -66.75720491166894,
          -70.20496602411485,
          -73.54214899974879,
          -76.6854678287774,
          -79.46014673959662,
          -81.49739974947728,
          -82.19661710024769,
          -81.23165136282358,
          -79.03331432103582,
          -76.17802908440103,
          -72.99346946866675,
          -69.63344440657382,
          -66.17199531359688,
          -62.6475290761897,
          -59.08151894407782,
          -55.48677401212616,
          -51.871360279618905,
          -48.24059211520729,
          -44.598107516733286,
          -40.94648029034971,
          -37.2875848963122,
          -33.62282268719249,
          -29.95326715569303,
          -26.27976011011148,
          -22.60297716796849,
          -18.92347354357778,
          -15.24171689412084,
          -11.558111522112055,
          -7.873016748717495,
          -4.186761363561646,
          -0.49965549346245597,
          3.1879991122856914,
          6.875899582878147,
          10.563732511362856,
          14.251163931535556,
          17.93782791737548,
          21.62331286059202,
          25.307144172500177,
          28.98876164811288,
          32.66748890961449,
          36.34249101061213,
          40.01271407145594,
          43.67679706165017,
          47.332939278101996,
          50.97869517508737,
          54.61064579556953,
          58.22385191063815,
          61.810902498203234,
          65.36017159779087,
          68.85242864483676,
          72.25378511596921,
          75.49993208476398,
          78.45895519631412,
          80.84780780940403,
          82.1288663530628,
          81.7675658561088,
          79.93933241771973,
          77.26086761820807,
          74.15778580913883,
          70.83534512236584,
          67.3901527654266,
          63.870839751794065,
          60.303875562507045,
          56.70470755066952,
          53.082896369737284,
          49.44465756456082,
          45.79420323579414,
          42.134491176796566,
          38.46766389870674,
          34.795316898924966,
          31.11866866728557,
          27.438671941080763,
          23.756088648748293,
          20.071541762838034,
          16.38555211432354,
          12.698565226618328,
          9.010971444154388,
          5.323121544251552,
          1.6353393502563323,
          -2.052067550297283,
          -5.738798125718232,
          -9.424548532373828,
          -13.109002372661006,
          -16.79181984780507,
          -20.47262493866618,
          -24.150989492627257,
          -27.826412669515026,
          -31.49829351096077,
          -35.1658932824382,
          -38.8282824053709,
          -42.48426371765145,
          -46.13225847950585,
          -49.770132035774864,
          -53.394918416871306,
          -57.0023690411152,
          -60.58618139007333,
          -64.13661497961536,
          -67.63786386966225,
          -71.06273563244281,
          -74.36108714587895,
          -77.43302337981154,
          -80.06634559578002,
          -81.82566919632954,
          -82.10350768574733,
          -80.76516776034512,
          -78.35512902087939,
          -75.39456287123748,
          -72.15534480657588,
          -68.76454024138927,
          -65.28438873114827,
          -61.747817423305555,
          -58.17356013000866,
          -54.57295690954583,
          -50.95323652528539,
          -47.31921093913817,
          -43.674203288086694,
          -40.020582709334086,
          -36.36008647258394,
          -32.694021582184746,
          -29.023395266636648,
          -25.349002017625317,
          -21.671483264917164,
          -17.991369368778535,
          -14.30910994364753,
          -10.625096362827188,
          -6.9396789857997385,
          -3.2531808446907826,
          0.4340909717959356,
          4.1218353017874865,
          7.809747496778258,
          11.497509919552074,
          15.184781649581053,
          18.871186592843713,
          22.556298987941666,
          26.239624948038202,
          29.920578104374354,
          33.59844648950911,
          37.27234628391479,
          40.941155527758426,
          44.603416586970305,
          48.25718855628602,
          51.89981687419174,
          55.52756093862247,
          59.13496768923267,
          62.71376814305174,
          66.2508267718978,
          69.72408782913072,
          73.09398626980456,
          76.28392608798933,
          79.13404800101925,
          81.30339564015163,
          82.20137926619739,
          81.4190804248356,
          79.31957634491266,
          76.50427608939415,
          73.3321082105624,
          69.97203221672169,
          66.50464227843591,
          62.97133031491651,
          59.395050472021246,
          55.78941317020211,
          52.162954813128096,
          48.5212873657915,
          44.868250235081476,
          41.2065618166916,
          37.5382056132429,
          33.864668469937094,
          30.187092837553934,
          26.506377174961184,
          22.823244053212957,
          19.13828758695145,
          15.452007330752828,
          11.764833158692943,
          8.07714407505876,
          4.389282943918039,
          0.7015685306189753,
          -2.9856941166063677,
          -6.672204130953817,
          -10.357655429351345,
          -14.041726762880279,
          -17.724070459515083,
          -21.404298940338673,
          -25.081967798528243,
          -28.75655374954993,
          -32.427424983392825,
          -36.09380018754292,
          -39.75469042482814,
          -43.408814523767255,
          -47.05447249549928,
          -50.68935041763615,
          -54.310209475346426,
          -57.91237122035787,
          -61.48882750470003,
          -65.02862166974896,
          -68.51372704388568,
          -71.91261374119887,
          -75.16601605550568,
          -78.15358166235085,
          -80.61794507351276,
          -82.05634974441011,
          -81.90229589335631,
          -80.23082528330535,
          -77.64304242114682,
          -74.59391657773385,
          -71.30780259298302,
          -67.89004685336488,
          -64.3932344301426,
          -60.84572717513551,
          -57.26393396347978,
          -53.65792755121621,
          -50.03420432839646,
          -46.39713159800535,
          -42.74975106620143,
          -39.09424740807318,
          -35.43223338517113,
          -31.764929881532233
         ],
         "legendgroup": "Satellite 3 (600.0 km)",
         "lon": [
          5.5346535425937295,
          5.228013083615536,
          4.941748498635673,
          4.670533109308018,
          4.409572755163303,
          4.154423492061653,
          3.900835000067005,
          3.644607770770608,
          3.381453837386609,
          3.106851237040303,
          2.8158816322594675,
          2.5030384253212343,
          2.1619888739234776,
          1.7852673891974753,
          1.3638670044468646,
          0.886679562458216,
          0.33970826639113216,
          -0.2950687542401056,
          -1.041382504591752,
          -1.9312404004521682,
          -3.0089635311459233,
          -4.337759322616819,
          -6.010845424446302,
          -8.171109732569676,
          -11.047532431937555,
          -15.025914764320873,
          -20.790897800644416,
          -29.60232786086965,
          -43.66727045845897,
          -65.41117682919696,
          -92.1296356832978,
          -114.53552986105115,
          -129.1788191273591,
          -138.33677431855813,
          -144.3013373045716,
          -148.39953428347667,
          -151.35185684604969,
          -153.56263119317518,
          -155.27076442274367,
          -156.62473387145695,
          -157.72106009636977,
          -158.6249888323254,
          -159.38214767158763,
          -160.0254093533456,
          -160.5790943364404,
          -161.0616357149106,
          -161.48732291077184,
          -161.8674756124037,
          -162.21125541691765,
          -162.52624158213277,
          -162.81885022889062,
          -163.09464825223753,
          -163.35859606669462,
          -163.61524269730856,
          -163.8688901351947,
          -164.12373987417973,
          -164.3840323239833,
          -164.65418892805098,
          -164.9389671388091,
          -165.2436399792543,
          -165.57421504537135,
          -165.93771309405565,
          -166.34253492424975,
          -166.79895903153778,
          -167.3198349025757,
          -167.92157391603064,
          -168.62560286345104,
          -169.46055543391864,
          -170.46567659040232,
          -171.69628931708132,
          -173.23290477654731,
          -175.1970470901097,
          -177.78002526574764,
          178.70221065742132,
          173.70014297111913,
          166.2138161235516,
          154.42925307199783,
          135.72770409655544,
          110.03039375576655,
          85.16882306557312,
          67.7881569941105,
          56.8953363036904,
          49.92448150081724,
          45.22483393701771,
          41.89373964694657,
          39.4321355142847,
          37.550577365922486,
          36.07232657002065,
          34.88427363394251,
          33.91099477661393,
          33.10036994138071,
          32.415242903477086,
          31.828384036883026,
          31.31933513422427,
          30.872367718117772,
          30.475122429962585,
          30.11767735152788,
          29.79189334860157,
          29.490942101085693,
          29.20895651820699,
          28.940763849452875,
          28.6816745151843,
          28.427307588548352,
          28.173438726954494,
          27.91585918448317,
          27.65023588914747,
          27.37196269536819,
          27.07599184499635,
          26.756632188333906,
          26.407296348885772,
          26.020171868990374,
          25.585779878019917,
          25.092366232549136,
          24.525039502751007,
          23.86451871756192,
          23.085264714795336,
          22.152609803478306,
          21.018205817547134,
          19.612543471766045,
          17.83215757207037,
          15.51674925934389,
          12.406282680488822,
          8.056771824212113,
          1.670843266256309,
          -8.220096569347731,
          -24.06212417012773,
          -47.70087481467738,
          -74.18454475193244,
          -94.58333325195355,
          -107.56994640309469,
          -115.74479290992275,
          -121.14200889551111,
          -124.89814631834537,
          -127.63286550644327,
          -129.69829990818295,
          -131.30528092888068,
          -132.586413906611,
          -133.62880555448834,
          -134.49187308203366,
          -135.21749753890373,
          -135.83606418188475,
          -136.37019546657726,
          -136.8371378134774,
          -137.25033499604046,
          -137.62049473236232,
          -137.9563309500147,
          -138.26509376037748,
          -138.55295798124232,
          -138.82531631317846,
          -139.08700811465792,
          -139.34250530874095,
          -139.5960711222075,
          -139.85190386530746,
          -140.11427611058733,
          -140.38767906991973,
          -140.67698259617384,
          -140.9876231657414,
          -141.32583579819067,
          -141.69895185829466,
          -142.11579434115032,
          -142.58721779424934,
          -143.12686541841657,
          -143.7522582134456,
          -144.48640346690775,
          -145.36023766377625,
          -146.4164521256741,
          -147.7156917095107,
          -149.34698936471972,
          -151.44609556493958,
          -154.2292071413491,
          -158.05802135929315,
          -163.5697587430954,
          -171.93198313155082,
          174.7845651419072,
          154.05048980268114,
          127.57815973862589,
          104.34990284623288,
          88.86639118659781,
          79.1791229602395,
          72.90253618756199,
          68.61409414882023,
          65.53966852714545,
          63.24663985461278,
          61.48075972830553,
          60.084837822909165,
          58.957166732683184,
          58.02927773633465,
          57.25346364348508,
          56.59546535276491,
          56.03001192671974,
          55.53800295256717,
          55.104671150721956,
          54.71834924206798,
          54.36961994994683,
          54.05071486391859,
          53.75507816330819,
          53.47704111153888,
          53.211571444575796,
          52.95407304687193,
          52.7002183162644,
          52.44579989748511,
          52.1865908834187,
          51.91820361127976,
          51.63593700878688,
          51.334601041373965,
          51.008303910621144,
          50.65018268799564,
          50.25205000379967,
          49.80391644142684,
          49.29332723826968,
          48.70441709394315,
          48.01652792131868,
          47.20213153347975,
          46.223613909639035,
          45.028131230733635,
          43.53907400030778,
          41.6413083587641,
          39.154471951642755,
          35.78228422539092,
          31.012091757148685,
          23.913371997081036,
          12.782404219102062,
          -4.994806066691183,
          -30.20904949897721,
          -55.788906256593066,
          -74.14090723387108,
          -85.65803293272518,
          -92.9793513011831,
          -97.87994345634468,
          -101.33255188688923,
          -103.87165096552826,
          -105.80496447201585,
          -107.31913846004369,
          -108.53293321599125,
          -109.52514968215303,
          -110.35001089633991,
          -111.0460300784973,
          -111.64133973594713,
          -112.15701476773944,
          -112.60921429883939,
          -113.01060393734713,
          -113.37132646270504,
          -113.69968175577671,
          -114.00261545769953,
          -114.28607972216875,
          -114.55530761282975,
          -114.81502927117916,
          -115.06964963397655,
          -115.32340233057761,
          -115.58049136361234,
          -115.84523067597786,
          -116.12219144932882,
          -116.41636791650404,
          -116.73337477681773,
          -117.07969342275828,
          -117.46299095456595,
          -117.89254684653093,
          -118.37983970823922,
          -118.93937541584819,
          -119.58988625282632,
          -120.35611407763619,
          -121.27153884701141,
          -122.38268703202027,
          -123.75617747225795,
          -125.4907055670459,
          -127.73833736655706,
          -130.74417052673414,
          -134.92367145754335,
          -141.01779127026865,
          -150.38822034832577,
          -165.3549854315488,
          171.94687942367125,
          145.37454912495144,
          124.062535272058,
          110.3138920079496,
          101.67615572399305,
          96.00490582122369,
          92.07955823773919,
          89.23483403243564,
          87.09446319374516,
          85.43438106774909,
          84.11437465407157,
          83.04275679731536,
          82.15723539161871,
          81.41405812818581,
          80.7815828654015,
          80.23631989593612,
          79.76041062975496
         ],
         "marker": {
          "color": "#00cc96",
          "symbol": "circle"
         },
         "mode": "markers",
         "name": "Satellite 3 (600.0 km)",
         "showlegend": true,
         "type": "scattergeo"
        }
       ],
       "layout": {
        "font": {
         "color": "white"
        },
        "geo": {
         "bgcolor": "black",
         "center": {},
         "domain": {
          "x": [
           0,
           1
          ],
          "y": [
           0,
           1
          ]
         },
         "landcolor": "rgb(217, 217, 217)",
         "projection": {
          "type": "natural earth"
         },
         "showland": true
        },
        "height": 600,
        "legend": {
         "font": {
          "color": "white",
          "size": 10
         },
         "title": {},
         "tracegroupgap": 0,
         "x": 0,
         "xanchor": "left",
         "y": 1,
         "yanchor": "top"
        },
        "margin": {
         "b": 1,
         "l": 1,
         "r": 1,
         "t": 1
        },
        "paper_bgcolor": "black",
        "plot_bgcolor": "black",
        "template": {
         "data": {
          "bar": [
           {
            "error_x": {
             "color": "#2a3f5f"
            },
            "error_y": {
             "color": "#2a3f5f"
            },
            "marker": {
             "line": {
              "color": "#E5ECF6",
              "width": 0.5
             },
             "pattern": {
              "fillmode": "overlay",
              "size": 10,
              "solidity": 0.2
             }
            },
            "type": "bar"
           }
          ],
          "barpolar": [
           {
            "marker": {
             "line": {
              "color": "#E5ECF6",
              "width": 0.5
             },
             "pattern": {
              "fillmode": "overlay",
              "size": 10,
              "solidity": 0.2
             }
            },
            "type": "barpolar"
           }
          ],
          "carpet": [
           {
            "aaxis": {
             "endlinecolor": "#2a3f5f",
             "gridcolor": "white",
             "linecolor": "white",
             "minorgridcolor": "white",
             "startlinecolor": "#2a3f5f"
            },
            "baxis": {
             "endlinecolor": "#2a3f5f",
             "gridcolor": "white",
             "linecolor": "white",
             "minorgridcolor": "white",
             "startlinecolor": "#2a3f5f"
            },
            "type": "carpet"
           }
          ],
          "choropleth": [
           {
            "colorbar": {
             "outlinewidth": 0,
             "ticks": ""
            },
            "type": "choropleth"
           }
          ],
          "contour": [
           {
            "colorbar": {
             "outlinewidth": 0,
             "ticks": ""
            },
            "colorscale": [
             [
              0,
              "#0d0887"
             ],
             [
              0.1111111111111111,
              "#46039f"
             ],
             [
              0.2222222222222222,
              "#7201a8"
             ],
             [
              0.3333333333333333,
              "#9c179e"
             ],
             [
              0.4444444444444444,
              "#bd3786"
             ],
             [
              0.5555555555555556,
              "#d8576b"
             ],
             [
              0.6666666666666666,
              "#ed7953"
             ],
             [
              0.7777777777777778,
              "#fb9f3a"
             ],
             [
              0.8888888888888888,
              "#fdca26"
             ],
             [
              1,
              "#f0f921"
             ]
            ],
            "type": "contour"
           }
          ],
          "contourcarpet": [
           {
            "colorbar": {
             "outlinewidth": 0,
             "ticks": ""
            },
            "type": "contourcarpet"
           }
          ],
          "heatmap": [
           {
            "colorbar": {
             "outlinewidth": 0,
             "ticks": ""
            },
            "colorscale": [
             [
              0,
              "#0d0887"
             ],
             [
              0.1111111111111111,
              "#46039f"
             ],
             [
              0.2222222222222222,
              "#7201a8"
             ],
             [
              0.3333333333333333,
              "#9c179e"
             ],
             [
              0.4444444444444444,
              "#bd3786"
             ],
             [
              0.5555555555555556,
              "#d8576b"
             ],
             [
              0.6666666666666666,
              "#ed7953"
             ],
             [
              0.7777777777777778,
              "#fb9f3a"
             ],
             [
              0.8888888888888888,
              "#fdca26"
             ],
             [
              1,
              "#f0f921"
             ]
            ],
            "type": "heatmap"
           }
          ],
          "heatmapgl": [
           {
            "colorbar": {
             "outlinewidth": 0,
             "ticks": ""
            },
            "colorscale": [
             [
              0,
              "#0d0887"
             ],
             [
              0.1111111111111111,
              "#46039f"
             ],
             [
              0.2222222222222222,
              "#7201a8"
             ],
             [
              0.3333333333333333,
              "#9c179e"
             ],
             [
              0.4444444444444444,
              "#bd3786"
             ],
             [
              0.5555555555555556,
              "#d8576b"
             ],
             [
              0.6666666666666666,
              "#ed7953"
             ],
             [
              0.7777777777777778,
              "#fb9f3a"
             ],
             [
              0.8888888888888888,
              "#fdca26"
             ],
             [
              1,
              "#f0f921"
             ]
            ],
            "type": "heatmapgl"
           }
          ],
          "histogram": [
           {
            "marker": {
             "pattern": {
              "fillmode": "overlay",
              "size": 10,
              "solidity": 0.2
             }
            },
            "type": "histogram"
           }
          ],
          "histogram2d": [
           {
            "colorbar": {
             "outlinewidth": 0,
             "ticks": ""
            },
            "colorscale": [
             [
              0,
              "#0d0887"
             ],
             [
              0.1111111111111111,
              "#46039f"
             ],
             [
              0.2222222222222222,
              "#7201a8"
             ],
             [
              0.3333333333333333,
              "#9c179e"
             ],
             [
              0.4444444444444444,
              "#bd3786"
             ],
             [
              0.5555555555555556,
              "#d8576b"
             ],
             [
              0.6666666666666666,
              "#ed7953"
             ],
             [
              0.7777777777777778,
              "#fb9f3a"
             ],
             [
              0.8888888888888888,
              "#fdca26"
             ],
             [
              1,
              "#f0f921"
             ]
            ],
            "type": "histogram2d"
           }
          ],
          "histogram2dcontour": [
           {
            "colorbar": {
             "outlinewidth": 0,
             "ticks": ""
            },
            "colorscale": [
             [
              0,
              "#0d0887"
             ],
             [
              0.1111111111111111,
              "#46039f"
             ],
             [
              0.2222222222222222,
              "#7201a8"
             ],
             [
              0.3333333333333333,
              "#9c179e"
             ],
             [
              0.4444444444444444,
              "#bd3786"
             ],
             [
              0.5555555555555556,
              "#d8576b"
             ],
             [
              0.6666666666666666,
              "#ed7953"
             ],
             [
              0.7777777777777778,
              "#fb9f3a"
             ],
             [
              0.8888888888888888,
              "#fdca26"
             ],
             [
              1,
              "#f0f921"
             ]
            ],
            "type": "histogram2dcontour"
           }
          ],
          "mesh3d": [
           {
            "colorbar": {
             "outlinewidth": 0,
             "ticks": ""
            },
            "type": "mesh3d"
           }
          ],
          "parcoords": [
           {
            "line": {
             "colorbar": {
              "outlinewidth": 0,
              "ticks": ""
             }
            },
            "type": "parcoords"
           }
          ],
          "pie": [
           {
            "automargin": true,
            "type": "pie"
           }
          ],
          "scatter": [
           {
            "fillpattern": {
             "fillmode": "overlay",
             "size": 10,
             "solidity": 0.2
            },
            "type": "scatter"
           }
          ],
          "scatter3d": [
           {
            "line": {
             "colorbar": {
              "outlinewidth": 0,
              "ticks": ""
             }
            },
            "marker": {
             "colorbar": {
              "outlinewidth": 0,
              "ticks": ""
             }
            },
            "type": "scatter3d"
           }
          ],
          "scattercarpet": [
           {
            "marker": {
             "colorbar": {
              "outlinewidth": 0,
              "ticks": ""
             }
            },
            "type": "scattercarpet"
           }
          ],
          "scattergeo": [
           {
            "marker": {
             "colorbar": {
              "outlinewidth": 0,
              "ticks": ""
             }
            },
            "type": "scattergeo"
           }
          ],
          "scattergl": [
           {
            "marker": {
             "colorbar": {
              "outlinewidth": 0,
              "ticks": ""
             }
            },
            "type": "scattergl"
           }
          ],
          "scattermapbox": [
           {
            "marker": {
             "colorbar": {
              "outlinewidth": 0,
              "ticks": ""
             }
            },
            "type": "scattermapbox"
           }
          ],
          "scatterpolar": [
           {
            "marker": {
             "colorbar": {
              "outlinewidth": 0,
              "ticks": ""
             }
            },
            "type": "scatterpolar"
           }
          ],
          "scatterpolargl": [
           {
            "marker": {
             "colorbar": {
              "outlinewidth": 0,
              "ticks": ""
             }
            },
            "type": "scatterpolargl"
           }
          ],
          "scatterternary": [
           {
            "marker": {
             "colorbar": {
              "outlinewidth": 0,
              "ticks": ""
             }
            },
            "type": "scatterternary"
           }
          ],
          "surface": [
           {
            "colorbar": {
             "outlinewidth": 0,
             "ticks": ""
            },
            "colorscale": [
             [
              0,
              "#0d0887"
             ],
             [
              0.1111111111111111,
              "#46039f"
             ],
             [
              0.2222222222222222,
              "#7201a8"
             ],
             [
              0.3333333333333333,
              "#9c179e"
             ],
             [
              0.4444444444444444,
              "#bd3786"
             ],
             [
              0.5555555555555556,
              "#d8576b"
             ],
             [
              0.6666666666666666,
              "#ed7953"
             ],
             [
              0.7777777777777778,
              "#fb9f3a"
             ],
             [
              0.8888888888888888,
              "#fdca26"
             ],
             [
              1,
              "#f0f921"
             ]
            ],
            "type": "surface"
           }
          ],
          "table": [
           {
            "cells": {
             "fill": {
              "color": "#EBF0F8"
             },
             "line": {
              "color": "white"
             }
            },
            "header": {
             "fill": {
              "color": "#C8D4E3"
             },
             "line": {
              "color": "white"
             }
            },
            "type": "table"
           }
          ]
         },
         "layout": {
          "annotationdefaults": {
           "arrowcolor": "#2a3f5f",
           "arrowhead": 0,
           "arrowwidth": 1
          },
          "autotypenumbers": "strict",
          "coloraxis": {
           "colorbar": {
            "outlinewidth": 0,
            "ticks": ""
           }
          },
          "colorscale": {
           "diverging": [
            [
             0,
             "#8e0152"
            ],
            [
             0.1,
             "#c51b7d"
            ],
            [
             0.2,
             "#de77ae"
            ],
            [
             0.3,
             "#f1b6da"
            ],
            [
             0.4,
             "#fde0ef"
            ],
            [
             0.5,
             "#f7f7f7"
            ],
            [
             0.6,
             "#e6f5d0"
            ],
            [
             0.7,
             "#b8e186"
            ],
            [
             0.8,
             "#7fbc41"
            ],
            [
             0.9,
             "#4d9221"
            ],
            [
             1,
             "#276419"
            ]
           ],
           "sequential": [
            [
             0,
             "#0d0887"
            ],
            [
             0.1111111111111111,
             "#46039f"
            ],
            [
             0.2222222222222222,
             "#7201a8"
            ],
            [
             0.3333333333333333,
             "#9c179e"
            ],
            [
             0.4444444444444444,
             "#bd3786"
            ],
            [
             0.5555555555555556,
             "#d8576b"
            ],
            [
             0.6666666666666666,
             "#ed7953"
            ],
            [
             0.7777777777777778,
             "#fb9f3a"
            ],
            [
             0.8888888888888888,
             "#fdca26"
            ],
            [
             1,
             "#f0f921"
            ]
           ],
           "sequentialminus": [
            [
             0,
             "#0d0887"
            ],
            [
             0.1111111111111111,
             "#46039f"
            ],
            [
             0.2222222222222222,
             "#7201a8"
            ],
            [
             0.3333333333333333,
             "#9c179e"
            ],
            [
             0.4444444444444444,
             "#bd3786"
            ],
            [
             0.5555555555555556,
             "#d8576b"
            ],
            [
             0.6666666666666666,
             "#ed7953"
            ],
            [
             0.7777777777777778,
             "#fb9f3a"
            ],
            [
             0.8888888888888888,
             "#fdca26"
            ],
            [
             1,
             "#f0f921"
            ]
           ]
          },
          "colorway": [
           "#636efa",
           "#EF553B",
           "#00cc96",
           "#ab63fa",
           "#FFA15A",
           "#19d3f3",
           "#FF6692",
           "#B6E880",
           "#FF97FF",
           "#FECB52"
          ],
          "font": {
           "color": "#2a3f5f"
          },
          "geo": {
           "bgcolor": "white",
           "lakecolor": "white",
           "landcolor": "#E5ECF6",
           "showlakes": true,
           "showland": true,
           "subunitcolor": "white"
          },
          "hoverlabel": {
           "align": "left"
          },
          "hovermode": "closest",
          "mapbox": {
           "style": "light"
          },
          "paper_bgcolor": "white",
          "plot_bgcolor": "#E5ECF6",
          "polar": {
           "angularaxis": {
            "gridcolor": "white",
            "linecolor": "white",
            "ticks": ""
           },
           "bgcolor": "#E5ECF6",
           "radialaxis": {
            "gridcolor": "white",
            "linecolor": "white",
            "ticks": ""
           }
          },
          "scene": {
           "xaxis": {
            "backgroundcolor": "#E5ECF6",
            "gridcolor": "white",
            "gridwidth": 2,
            "linecolor": "white",
            "showbackground": true,
            "ticks": "",
            "zerolinecolor": "white"
           },
           "yaxis": {
            "backgroundcolor": "#E5ECF6",
            "gridcolor": "white",
            "gridwidth": 2,
            "linecolor": "white",
            "showbackground": true,
            "ticks": "",
            "zerolinecolor": "white"
           },
           "zaxis": {
            "backgroundcolor": "#E5ECF6",
            "gridcolor": "white",
            "gridwidth": 2,
            "linecolor": "white",
            "showbackground": true,
            "ticks": "",
            "zerolinecolor": "white"
           }
          },
          "shapedefaults": {
           "line": {
            "color": "#2a3f5f"
           }
          },
          "ternary": {
           "aaxis": {
            "gridcolor": "white",
            "linecolor": "white",
            "ticks": ""
           },
           "baxis": {
            "gridcolor": "white",
            "linecolor": "white",
            "ticks": ""
           },
           "bgcolor": "#E5ECF6",
           "caxis": {
            "gridcolor": "white",
            "linecolor": "white",
            "ticks": ""
           }
          },
          "title": {
           "x": 0.05
          },
          "xaxis": {
           "automargin": true,
           "gridcolor": "white",
           "linecolor": "white",
           "ticks": "",
           "title": {
            "standoff": 15
           },
           "zerolinecolor": "white",
           "zerolinewidth": 2
          },
          "yaxis": {
           "automargin": true,
           "gridcolor": "white",
           "linecolor": "white",
           "ticks": "",
           "title": {
            "standoff": 15
           },
           "zerolinecolor": "white",
           "zerolinewidth": 2
          }
         }
        },
        "title": {
         "font": {
          "color": "white",
          "size": 24
         },
         "text": "Satellite Orbit Path Projections",
         "x": 0.5,
         "xanchor": "center",
         "y": 0.95,
         "yanchor": "top"
        },
        "width": 800
       }
      }
     },
     "metadata": {},
     "output_type": "display_data"
    }
   ],
   "source": [
    "tle_lines = [\n",
    "    # ISS (LEO)\n",
    "    (('1 25544U 98067A   20334.54791667  .00016717  00000-0  10270-3 0  9000', \n",
    "      '2 25544  51.6442  21.4614 0001448  45.3583 314.7000 15.49112345  9000'), 'ISS (LEO)'),\n",
    "\n",
    "    # GPS BIIR-2 (MEO)\n",
    "    (('1 24876U 97035A   20334.54791667  .00000023  00000-0  00000-0 0  9993',\n",
    "      '2 24876  54.8990  56.0000 0000001  56.0000  56.0000  2.00562500  9993'), 'GPS BIIR-2 (MEO)'),\n",
    "\n",
    "    # Molniya 1-93 (HEO)\n",
    "    (('1 24779U 97017A   20334.54791667  .00000023  00000-0  00000-0 0  9993',\n",
    "      '2 24779  62.8000  56.0000 0000001  56.0000  56.0000  2.00562500  9993'), 'Molniya 1-93 (HEO)'),\n",
    "\n",
    "    # SES-1 (Geostationary)\n",
    "    (('1 36516U 10018A   20334.54791667  .00000023  00000-0  00000-0 0  9993',\n",
    "      '2 36516   0.0180  92.0000 0000001  92.0000 268.0000  1.00270000  9993'), 'SES-1 (GEO)')\n",
    "]\n",
    "\n",
    "# Altitudes for which we want to calculate orbital parameters\n",
    "altitudes = [400, 500, 600]\n",
    "orbital_params = calc_sun_sync_params(altitudes)\n",
    "orbit_tle = generate_tle(orbital_params)\n",
    "\n",
    "# Display the orbital parameters\n",
    "#print(orbital_params)\n",
    "#print(orbit_tle)\n",
    "print(orbital_params)\n",
    "\n",
    "# Plot the orbits of the satellites\n",
    "#plot_orbits(orbit_tle) \n",
    "plot_map(orbit_tle, time_step=60, time_delta=4.8)"
   ]
  }
 ],
 "metadata": {
  "kernelspec": {
   "display_name": "Python 3",
   "language": "python",
   "name": "python3"
  },
  "language_info": {
   "codemirror_mode": {
    "name": "ipython",
    "version": 3
   },
   "file_extension": ".py",
   "mimetype": "text/x-python",
   "name": "python",
   "nbconvert_exporter": "python",
   "pygments_lexer": "ipython3",
   "version": "3.13.0"
  }
 },
 "nbformat": 4,
 "nbformat_minor": 2
}
