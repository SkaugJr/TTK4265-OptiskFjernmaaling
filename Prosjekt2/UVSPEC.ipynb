{
 "cells": [
  {
   "cell_type": "markdown",
   "metadata": {},
   "source": [
    "# Bibliotek"
   ]
  },
  {
   "cell_type": "code",
   "execution_count": 1,
   "metadata": {},
   "outputs": [],
   "source": [
    "import numpy as np\n",
    "import pandas as pd\n",
    "import matplotlib.pyplot as plt\n",
    "import subprocess\n",
    "import os"
   ]
  },
  {
   "cell_type": "markdown",
   "metadata": {},
   "source": [
    "# UVSPEC + Filoverføring"
   ]
  },
  {
   "cell_type": "markdown",
   "metadata": {},
   "source": [
    "## uvspec funksjon"
   ]
  },
  {
   "cell_type": "code",
   "execution_count": 2,
   "metadata": {},
   "outputs": [],
   "source": [
    "def run_uvspec(input_file_name, output_file_name):\n",
    "    # File paths\n",
    "    wsl_dir = \"/home/kollis/libRadtran-2.0.5/TTK4265/\"\n",
    "    wsl_input_file = f\"{wsl_dir}{input_file_name}\"\n",
    "    wsl_output_file = f\"{wsl_dir}{output_file_name}\"\n",
    "\n",
    "    input_dir = f\"/mnt/c/Github/TTK4265-OptiskFjernmaaling/Prosjekt2/Data/{input_file_name}\" \n",
    "    output_dir = f\"/mnt/c/Github/TTK4265-OptiskFjernmaaling/Prosjekt2/Data/{output_file_name}\"\n",
    "\n",
    "    # Copy the input file from Windows to WSL\n",
    "    copy_input = [\"wsl\", \"cp\", \"-f\", input_dir, wsl_input_file]\n",
    "    subprocess.run(copy_input, check=True)\n",
    "\n",
    "    # Run uvspec in WSL\n",
    "    run_uvspec_cmd = f\"cd {wsl_dir} && uvspec < {input_file_name} > {output_file_name}\"\n",
    "    subprocess.run([\"wsl\", \"bash\", \"-c\", run_uvspec_cmd], check=True)\n",
    "\n",
    "    # Move the output file from WSL to Windows\n",
    "    move_output = [\"wsl\", \"mv\", \"-f\", wsl_output_file, output_dir]\n",
    "    subprocess.run(move_output, check=True)\n",
    "\n",
    "    # Remove the output file from WSL\n",
    "    remove_input = [\"wsl\", \"rm\", \"-f\", wsl_input_file]\n",
    "    subprocess.run(remove_input, check=True)"
   ]
  },
  {
   "cell_type": "markdown",
   "metadata": {},
   "source": [
    "## Kjør uvspec"
   ]
  },
  {
   "cell_type": "markdown",
   "metadata": {},
   "source": [
    "### Example"
   ]
  },
  {
   "cell_type": "code",
   "execution_count": 11,
   "metadata": {},
   "outputs": [],
   "source": [
    "run_uvspec(\"input_file\", \"output_file\")"
   ]
  },
  {
   "cell_type": "code",
   "execution_count": null,
   "metadata": {},
   "outputs": [],
   "source": [
    "Data = np.loadtxt('Data/output_file')\n",
    "Data = pd.DataFrame(Data, columns=['lambda', 'edir', 'edn', 'eup', 'uavgdir', 'uavgdn', 'uavgup'])\n",
    "\n",
    "# lambda = Wavelength [nm]\n",
    "# edir = Direct Irradiance [W/m^2/nm]\n",
    "# edn = Diffuse Down Irradiance [W/m^2/nm]\n",
    "# eup = Diffuse Up Irradiance [W/m^2/nm]\n",
    "# uavgdir = Average Direct Downwelling Irradiance [W/m^2/nm]\n",
    "# uavgdn = Average Diffuse Downwelling Irradiance [W/m^2/nm]\n",
    "# uavgup = Average Diffuse Upwelling Irradiance [W/m^2/nm]\n",
    "\n",
    "eglo = Data['edir'] + Data['edn'] # Global Irradiance\n",
    "uavg = Data['uavgdir'] + Data['uavgdn'] + Data['uavgup'] # Average intensity\n",
    "\n",
    "\n",
    "#cmap = plt.get_cmap('viridis')\n",
    "#colors = cmap(np.linspace(0, 1, 6))\n",
    "\n",
    "colors = ['blue', 'green', 'red', 'cyan', 'orange', 'purple'] \n",
    "\n",
    "# Create a figure and a grid of subplots\n",
    "fig, axs = plt.subplots(3, 1, figsize=(10, 12), sharex=True)\n",
    "\n",
    "# Plot edir, edn, and eup in the first subplot\n",
    "axs[0].plot(Data['lambda'], Data['edir'], label='edir', color=colors[0])\n",
    "axs[0].plot(Data['lambda'], Data['edn'], label='edn', color=colors[1])\n",
    "axs[0].plot(Data['lambda'], Data['eup'], label='eup', color=colors[2])\n",
    "axs[0].legend()\n",
    "axs[0].set_ylabel('Irradiance')\n",
    "axs[0].grid(True)\n",
    "\n",
    "# Plot uavgdir and uavgdn in the second subplot\n",
    "axs[1].plot(Data['lambda'], Data['uavgdir'], label='uavgdir', color=colors[3])\n",
    "axs[1].plot(Data['lambda'], Data['uavgdn'], label='uavgdn', color=colors[4])\n",
    "axs[1].legend()\n",
    "axs[1].set_ylabel('Average Downwelling')\n",
    "axs[1].grid(True)\n",
    "\n",
    "# Plot uavgup in the third subplot\n",
    "axs[2].plot(Data['lambda'], Data['uavgup'], label='uavgup', color=colors[5])\n",
    "axs[2].legend()\n",
    "axs[2].set_ylabel('Average Upwelling')\n",
    "axs[2].set_xlabel('Wavelength [nm]')\n",
    "axs[2].grid(True)\n",
    "\n",
    "# Adjust layout to prevent overlap\n",
    "plt.tight_layout()\n",
    "plt.show()"
   ]
  },
  {
   "cell_type": "markdown",
   "metadata": {},
   "source": [
    "### Scenario 1"
   ]
  },
  {
   "cell_type": "code",
   "execution_count": 13,
   "metadata": {},
   "outputs": [],
   "source": [
    "run_uvspec(\"SC1_0m.INP\", \"SC1_0m.OUT\")\n",
    "run_uvspec(\"SC1_120m.INP\", \"SC1_120m.OUT\")\n",
    "run_uvspec(\"SC1_TOA.INP\", \"SC1_TOA.OUT\")"
   ]
  },
  {
   "cell_type": "markdown",
   "metadata": {},
   "source": [
    "### Scenario 2"
   ]
  },
  {
   "cell_type": "code",
   "execution_count": 39,
   "metadata": {},
   "outputs": [],
   "source": [
    "run_uvspec(\"SC2_0m.INP\", \"SC2_0m.OUT\")\n",
    "run_uvspec(\"SC2_120m.INP\", \"SC2_120m.OUT\")\n",
    "run_uvspec(\"SC2_TOA.INP\", \"SC2_TOA.OUT\")"
   ]
  },
  {
   "cell_type": "code",
   "execution_count": 37,
   "metadata": {},
   "outputs": [],
   "source": [
    "run_uvspec(\"test.INP\", \"test.OUT\")"
   ]
  }
 ],
 "metadata": {
  "kernelspec": {
   "display_name": "Python 3",
   "language": "python",
   "name": "python3"
  },
  "language_info": {
   "codemirror_mode": {
    "name": "ipython",
    "version": 3
   },
   "file_extension": ".py",
   "mimetype": "text/x-python",
   "name": "python",
   "nbconvert_exporter": "python",
   "pygments_lexer": "ipython3",
   "version": "3.12.3"
  }
 },
 "nbformat": 4,
 "nbformat_minor": 2
}
