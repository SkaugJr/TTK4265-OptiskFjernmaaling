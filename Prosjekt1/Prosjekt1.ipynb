{
 "cells": [
  {
   "cell_type": "markdown",
   "metadata": {},
   "source": [
    "### Importering av bibliotek"
   ]
  },
  {
   "cell_type": "code",
   "execution_count": 1,
   "metadata": {},
   "outputs": [],
   "source": [
    "import numpy as np\n",
    "import matplotlib.pyplot as plt\n",
    "import pandas as pd\n",
    "import spectral\n",
    "from PIL import Image\n",
    "import os\n",
    "import glob\n",
    "from ipywidgets import interact\n",
    "import ipywidgets as widgets"
   ]
  },
  {
   "cell_type": "markdown",
   "metadata": {},
   "source": [
    "### Funksjoner"
   ]
  },
  {
   "cell_type": "code",
   "execution_count": 2,
   "metadata": {},
   "outputs": [],
   "source": [
    "def calibrate_wavelengths(ImageWidth, Spectral_lines, Pixel_positions, Degree, Output_file):\n",
    "    \"\"\"\n",
    "    Calibrate pixel positions to wavelengths.\n",
    "\n",
    "    Parameters:\n",
    "    - ImageWidth: int, number of pixels.\n",
    "    - Spectral_lines: list of float, spectral lines or known wavelengths in nm.\n",
    "    - Pixel_positions: list of int, pixel positions corresponding to the known spectral lines.\n",
    "    - Degree: int, degree of the polynomial fit (1 for linear).\n",
    "    - Output_file: str, path to the output CSV file.\n",
    "\n",
    "    Returns:\n",
    "    - df: pandas DataFrame, containing pixel positions and calibrated wavelengths.\n",
    "    \"\"\"\n",
    "    if len(Spectral_lines) != len(Pixel_positions):\n",
    "        raise ValueError(\"The number of wavelengths must match the number of pixel positions.\")\n",
    "    if len(Spectral_lines) < 2:\n",
    "        raise ValueError(\"At least two wavelengths and pixel positions are required for calibration.\")\n",
    "\n",
    "    # Fit a polynomial function to the known wavelengths at the pixel positions\n",
    "    wavelength_fit = np.polyfit(Pixel_positions, Spectral_lines, Degree)\n",
    "    wavelength_calibration = np.poly1d(wavelength_fit)\n",
    "\n",
    "    # Calibrate the pixel positions to wavelengths\n",
    "    calibrated_wavelengths = wavelength_calibration(np.arange(ImageWidth))\n",
    "\n",
    "    # Create a DataFrame\n",
    "    df = pd.DataFrame({\n",
    "        'Pixel Position': np.arange(len(calibrated_wavelengths)),\n",
    "        'Calibrated Wavelength (nm)': calibrated_wavelengths\n",
    "    })\n",
    "\n",
    "    # Save the DataFrame to a CSV file\n",
    "    df.to_csv(Output_file, index=False)\n",
    "    return df\n",
    "\n",
    "def expected_irradiance(B_0):\n",
    "    R = 0.92\n",
    "    r_0 = 0.5 # from source to lambertian surface\n",
    "    alpha = 0 # angle between source and normal to lambert\n",
    "    p = 0.98 # diffusion coefficient of lambertian surface\n",
    "    B_expected = B_0*(r_0/R)**2*p*np.cos(alpha) # photons/cm^2/s/Å\n",
    "\n",
    "    return B_expected\n",
    "\n",
    "def read_bip_file(file_path, width, height):\n",
    "    with open(file_path, 'rb') as file:\n",
    "        data = file.read()\n",
    "    \n",
    "    # Konverter binærdata til numpy array med 8-bit unsigned integers\n",
    "    raw_data = np.frombuffer(data, dtype=np.uint8)\n",
    "    \n",
    "    # Kombiner 8-bit verdier til 16-bit verdier\n",
    "    total_pixels = width * height\n",
    "    pixel_data = np.zeros(total_pixels, dtype=np.uint16)\n",
    "    \n",
    "    for i in range(total_pixels):\n",
    "        byte_index = i * 2\n",
    "        pixel_data[i] = (raw_data[byte_index] << 8) | raw_data[byte_index + 1]\n",
    "    \n",
    "    # Reshape array til 2D bilde\n",
    "    image = pixel_data.reshape((height, width))\n",
    "    return image\n",
    "\n",
    "def find_consecutive_range_means(arr):\n",
    "    \"\"\"\n",
    "    Finds the mean of consecutive ranges in an array of integers.\n",
    "\n",
    "    Parameters:\n",
    "    - arr: numpy array of integers.\n",
    "\n",
    "    Returns:\n",
    "    - means: list of floats, each representing the mean of a consecutive range.\n",
    "    \"\"\"\n",
    "    means = []\n",
    "    start = arr[0]\n",
    "    current_range = [start]\n",
    "    \n",
    "    for i in range(1, len(arr)):\n",
    "        if arr[i] != arr[i-1] + 1:\n",
    "            means.append(np.mean(current_range))\n",
    "            current_range = [arr[i]]\n",
    "        else:\n",
    "            current_range.append(arr[i])\n",
    "    \n",
    "    # Append the mean of the last range\n",
    "    means.append(np.mean(current_range))\n",
    "    \n",
    "    return means"
   ]
  },
  {
   "cell_type": "markdown",
   "metadata": {},
   "source": [
    "### Bølgelengde Kalibrering"
   ]
  },
  {
   "cell_type": "code",
   "execution_count": 3,
   "metadata": {},
   "outputs": [],
   "source": [
    "PixelWidth = 1936\n",
    "PixelHeight = 1216\n",
    "\n",
    "dark_paths_e50 = glob.glob(os.path.join('Data/dark-images/E50/', '*.bip')) # Eksponering 50 ms\n",
    "dark_paths_e100 = glob.glob(os.path.join('Data/dark-images/E100/', '*.bip')) # Eksponering 100 ms\n",
    "dark_paths_e300 = glob.glob(os.path.join('Data/dark-images/E300/', '*.bip')) # Eksponering 200 ms\n",
    "dark_paths_e450 = glob.glob(os.path.join('Data/dark-images/E450/', '*.bip')) # Eksponering 450 ms\n",
    "dark_paths_e500 = glob.glob(os.path.join('Data/dark-images/E500/', '*.bip')) # Eksponering 500 ms\n",
    "dark_paths_e1000 = glob.glob(os.path.join('Data/dark-images/E1000/', '*.bip')) # Eksponering 1000 ms\n",
    "\n",
    "H_paths = glob.glob(os.path.join('Data/H/', '*.bip')) # Eksponering 50 ms\n",
    "He_paths = glob.glob(os.path.join('Data/HE/', '*.bip')) # Eksponering 30 ms\n",
    "Hg_paths = glob.glob(os.path.join('Data/HG/', '*.bip')) # Eksponering 100 ms"
   ]
  },
  {
   "cell_type": "code",
   "execution_count": 21,
   "metadata": {},
   "outputs": [],
   "source": [
    "img = read_bip_file(He_paths[0], PixelWidth, PixelHeight)"
   ]
  },
  {
   "cell_type": "code",
   "execution_count": 22,
   "metadata": {},
   "outputs": [
    {
     "name": "stdout",
     "output_type": "stream",
     "text": [
      "Spectral Peaks:  [16.5, 25.0, 58.0, 259.0, 300.0, 443.5, 551.0, 651.0, 723.0, 735.0, 909.5, 947.5, 1142.0, 1249.0, 1541.0, 1588.0, 1680.0, 1769.0, 1841.0, 1869.0]\n"
     ]
    },
    {
     "data": {
      "application/vnd.jupyter.widget-view+json": {
       "model_id": "7d79b978646e40cd9bb5d242f197631e",
       "version_major": 2,
       "version_minor": 0
      },
      "text/plain": [
       "interactive(children=(IntSlider(value=0, description='X:', max=1935), Output()), _dom_classes=('widget-interac…"
      ]
     },
     "metadata": {},
     "output_type": "display_data"
    },
    {
     "data": {
      "text/plain": [
       "<function __main__.plot_image(xline=0)>"
      ]
     },
     "execution_count": 22,
     "metadata": {},
     "output_type": "execute_result"
    }
   ],
   "source": [
    "threshold = np.percentile(img, 99)  # Juster terskelen etter behov\n",
    "spectral_lines = np.where(img > threshold)\n",
    "\n",
    "unique_x_values = np.unique(spectral_lines[1])\n",
    "spectralPeaks = find_consecutive_range_means(unique_x_values)\n",
    "print(\"Spectral Peaks: \", spectralPeaks)\n",
    "\n",
    "def plot_image(xline=0):\n",
    "    plt.figure(figsize=(20, 14))\n",
    "    plt.imshow(img, cmap='gray')\n",
    "    plt.colorbar()\n",
    "    plt.title('16-bit Image')\n",
    "    plt.xticks(np.arange(0, PixelWidth, 100))\n",
    "    plt.axvline(x=xline, color='red')  # Add vertical line at xline\n",
    "    plt.show()\n",
    "\n",
    "# Create interactive widget for x-coordinate\n",
    "x_widget = widgets.IntSlider(min=0, max=img.shape[1]-1, step=1, description='X:')\n",
    "\n",
    "# Use interact to create the interactive plot\n",
    "interact(plot_image, xline=x_widget)"
   ]
  },
  {
   "cell_type": "code",
   "execution_count": 27,
   "metadata": {},
   "outputs": [],
   "source": [
    "Spectral_lines = [656.3, 486.1, 587.5, 667.8, 687.7, 436, 546] # 2 Hydrogen (H), 3 Helium (He), 2 Mercury (Hg)\n",
    "pixel_positions = [909, 443, 720, 941, 1050, 306, 607]\n",
    "degree = 2\n",
    "output_file = 'Data/calibrated_wavelengths.csv'\n",
    "\n",
    "df = calibrate_wavelengths(PixelWidth, Spectral_lines, pixel_positions, degree, output_file)\n",
    "wavelengths = np.loadtxt(output_file, delimiter=',', skiprows=1, usecols=1)"
   ]
  },
  {
   "cell_type": "markdown",
   "metadata": {},
   "source": [
    "### Intensitet Kalibrering"
   ]
  },
  {
   "cell_type": "code",
   "execution_count": 7,
   "metadata": {},
   "outputs": [
    {
     "data": {
      "image/png": "[encoded data removed]",
      "text/plain": [
       "<Figure size 640x480 with 1 Axes>"
      ]
     },
     "metadata": {},
     "output_type": "display_data"
    }
   ],
   "source": [
    "#Measured data\n",
    "#B_measured = np.loadtxt('Data/measured.csv', delimiter=',', skiprows=1, usecols=1) # photons/cm^2/s/Å\n",
    "#B_0 = np.loadtxt('Data/B0.csv', delimiter=',', skiprows=1, usecols=0) # photons/cm^2/s/Å\n",
    "\n",
    "#Certificate data\n",
    "W_L = np.loadtxt('Data/calibrationCertificate200W.txt', usecols=0) # Wavelengths in nm\n",
    "B_0 = np.loadtxt('Data/calibrationCertificate200W.txt', usecols=1) # Irradiance in mW/m^2/nm\n",
    "sigma = np.loadtxt('Data/calibrationCertificate200W.txt', usecols=2) # Uncertainty in %\n",
    "\n",
    "\n",
    "ImageHeight = 256\n",
    "\n",
    "B_expected = expected_irradiance(B_0)\n",
    "\n",
    "# plot B_0\n",
    "plt.figure()\n",
    "plt.plot(W_L,B_0, label='Certificate')\n",
    "plt.plot(W_L,B_expected, label='Expected Measurment')\n",
    "plt.xlabel('Wavelength (nm)')\n",
    "plt.ylabel('Irradiance (mW/m^2/nm)')\n",
    "plt.legend()\n",
    "plt.show()"
   ]
  }
 ],
 "metadata": {
  "kernelspec": {
   "display_name": "Python 3",
   "language": "python",
   "name": "python3"
  },
  "language_info": {
   "codemirror_mode": {
    "name": "ipython",
    "version": 3
   },
   "file_extension": ".py",
   "mimetype": "text/x-python",
   "name": "python",
   "nbconvert_exporter": "python",
   "pygments_lexer": "ipython3",
   "version": "3.12.3"
  }
 },
 "nbformat": 4,
 "nbformat_minor": 2
}
