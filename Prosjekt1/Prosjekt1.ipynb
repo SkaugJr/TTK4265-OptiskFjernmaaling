{
 "cells": [
  {
   "cell_type": "markdown",
   "metadata": {},
   "source": [
    "### Importering av bibliotek"
   ]
  },
  {
   "cell_type": "code",
   "execution_count": 4,
   "metadata": {},
   "outputs": [],
   "source": [
    "import numpy as np\n",
    "import matplotlib.pyplot as plt\n",
    "import pandas as pd"
   ]
  },
  {
   "cell_type": "markdown",
   "metadata": {},
   "source": [
    "### Bølgelengde Kalibrering"
   ]
  },
  {
   "cell_type": "code",
   "execution_count": 8,
   "metadata": {},
   "outputs": [],
   "source": [
    "#Wave_data = np.loadtxt('Data/data.txt', usecols=0, skiprows=1, delimiter=\",\", dtype=int)\n",
    "Wave_data = np.arange(600) # Pixel positions from 0 to 599\n",
    "\n",
    "# Define the known wavelengths at corresponding pixel positions\n",
    "W1 = 400; P1= 100  # Example wavelength 1 in nm at corresponding pixel position\n",
    "W2 = 800; P2= 500  # Example wavelength 2 in nm at corresponding pixel position\n",
    "\n",
    "# Fit a linear function to the known wavelengths at the pixel positions\n",
    "pixel_positions = np.array([P1, P2])\n",
    "wavelengths = np.array([W1, W2])\n",
    "wavelength_fit = np.polyfit(pixel_positions, wavelengths, 1)  # Linear fit\n",
    "wavelength_calibration = np.poly1d(wavelength_fit)\n",
    "\n",
    "# Calibrate the pixel positions to wavelengths\n",
    "calibrated_wavelengths = wavelength_calibration(np.arange(len(Wave_data)))\n",
    "\n",
    "df = pd.DataFrame({\n",
    "    'Pixel Position': np.arange(len(calibrated_wavelengths)),\n",
    "    'Calibrated Wavelength (nm)': calibrated_wavelengths\n",
    "})\n",
    "#print(df.to_string(index=False))\n",
    "df.to_csv('Data/calibrated_wavelengths.csv', index=False)"
   ]
  },
  {
   "cell_type": "markdown",
   "metadata": {},
   "source": [
    "### Intensitet Kalibrering"
   ]
  },
  {
   "cell_type": "code",
   "execution_count": null,
   "metadata": {},
   "outputs": [],
   "source": [
    "#123abc"
   ]
  }
 ],
 "metadata": {
  "kernelspec": {
   "display_name": "Python 3",
   "language": "python",
   "name": "python3"
  },
  "language_info": {
   "codemirror_mode": {
    "name": "ipython",
    "version": 3
   },
   "file_extension": ".py",
   "mimetype": "text/x-python",
   "name": "python",
   "nbconvert_exporter": "python",
   "pygments_lexer": "ipython3",
   "version": "3.12.3"
  }
 },
 "nbformat": 4,
 "nbformat_minor": 2
}
