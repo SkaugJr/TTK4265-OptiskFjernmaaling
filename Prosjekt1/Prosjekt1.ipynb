{
 "cells": [
  {
   "cell_type": "markdown",
   "metadata": {},
   "source": [
    "### Importering av bibliotek"
   ]
  },
  {
   "cell_type": "code",
   "execution_count": 95,
   "metadata": {},
   "outputs": [],
   "source": [
    "import numpy as np\n",
    "import matplotlib.pyplot as plt\n",
    "import pandas as pd\n",
    "from scipy.signal import spectrogram"
   ]
  },
  {
   "cell_type": "markdown",
   "metadata": {},
   "source": [
    "### Funksjoner"
   ]
  },
  {
   "cell_type": "code",
   "execution_count": 96,
   "metadata": {},
   "outputs": [],
   "source": [
    "def calibrate_wavelengths(ImageWidth, Spectral_lines, pixel_positions, degree, output_file):\n",
    "    \"\"\"\n",
    "    Calibrate pixel positions to wavelengths.\n",
    "\n",
    "    Parameters:\n",
    "    - ImageWidth: int, number of pixels.\n",
    "    - Spectral_lines: list of float, spectral lines at known wavelengths in nm.\n",
    "    - pixel_positions: list of int, pixel positions corresponding to the known spectral lines.\n",
    "    - degree: int, degree of the polynomial fit (1 for linear).\n",
    "    - output_file: str, path to the output CSV file.\n",
    "\n",
    "    Returns:\n",
    "    - df: pandas DataFrame, containing pixel positions and calibrated wavelengths.\n",
    "    \"\"\"\n",
    "    if len(Spectral_lines) != len(pixel_positions):\n",
    "        raise ValueError(\"The number of wavelengths must match the number of pixel positions.\")\n",
    "    if len(Spectral_lines) < 2:\n",
    "        raise ValueError(\"At least two wavelengths and pixel positions are required for calibration.\")\n",
    "\n",
    "    # Generate pixel data\n",
    "    Pixel_Data = np.arange(ImageWidth)\n",
    "\n",
    "    # Fit a polynomial function to the known wavelengths at the pixel positions\n",
    "    wavelength_fit = np.polyfit(pixel_positions, Spectral_lines, degree)\n",
    "    wavelength_calibration = np.poly1d(wavelength_fit)\n",
    "\n",
    "    # Calibrate the pixel positions to wavelengths\n",
    "    calibrated_wavelengths = wavelength_calibration(np.arange(len(Pixel_Data)))\n",
    "\n",
    "    # Create a DataFrame\n",
    "    df = pd.DataFrame({\n",
    "        'Pixel Position': np.arange(len(calibrated_wavelengths)),\n",
    "        'Calibrated Wavelength (nm)': calibrated_wavelengths\n",
    "    })\n",
    "\n",
    "    # Save the DataFrame to a CSV file\n",
    "    df.to_csv(output_file, index=False)\n",
    "    return df\n",
    "\n"
   ]
  },
  {
   "cell_type": "markdown",
   "metadata": {},
   "source": [
    "### Bølgelengde Kalibrering"
   ]
  },
  {
   "cell_type": "code",
   "execution_count": 97,
   "metadata": {},
   "outputs": [
    {
     "name": "stdout",
     "output_type": "stream",
     "text": [
      "[350.  350.5 351.  ... 860.5 861.  861.5]\n"
     ]
    }
   ],
   "source": [
    "ImageWidth = 1024\n",
    "Spectral_lines = [400, 500, 600, 700, 800]\n",
    "pixel_positions = [100, 300, 500, 700, 900]\n",
    "degree = 2\n",
    "output_file = 'Data/calibrated_wavelengths.csv'\n",
    "\n",
    "df = calibrate_wavelengths(ImageWidth, Spectral_lines, pixel_positions, degree, output_file)\n",
    "wavelengths = np.loadtxt(output_file, delimiter=',', skiprows=1, usecols=1)\n",
    "\n",
    "print(wavelengths)\n",
    "#print(df.to_string(index=False))"
   ]
  },
  {
   "cell_type": "markdown",
   "metadata": {},
   "source": [
    "### Intensitet Kalibrering"
   ]
  },
  {
   "cell_type": "code",
   "execution_count": 98,
   "metadata": {},
   "outputs": [],
   "source": [
    "#123abc\n",
    "#Intensity_data = np.loadtxt('Data/Intensity_data.txt', dtype=float)\n"
   ]
  }
 ],
 "metadata": {
  "kernelspec": {
   "display_name": "Python 3",
   "language": "python",
   "name": "python3"
  },
  "language_info": {
   "codemirror_mode": {
    "name": "ipython",
    "version": 3
   },
   "file_extension": ".py",
   "mimetype": "text/x-python",
   "name": "python",
   "nbconvert_exporter": "python",
   "pygments_lexer": "ipython3",
   "version": "3.12.3"
  }
 },
 "nbformat": 4,
 "nbformat_minor": 2
}
